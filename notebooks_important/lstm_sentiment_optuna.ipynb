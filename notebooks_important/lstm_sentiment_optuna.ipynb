{
 "cells": [
  {
   "cell_type": "code",
   "execution_count": 106,
   "id": "initial_id",
   "metadata": {
    "collapsed": true,
    "ExecuteTime": {
     "end_time": "2024-04-14T04:49:44.453407Z",
     "start_time": "2024-04-14T04:49:44.440409Z"
    }
   },
   "outputs": [],
   "source": [
    "import pandas as pd\n",
    "\n",
    "from tensorflow.keras.preprocessing.text import Tokenizer\n",
    "from tensorflow.keras.preprocessing.sequence import pad_sequences\n",
    "from tensorflow.keras.models import Sequential\n",
    "from keras.layers import Dense, Embedding, CuDNNLSTM, SpatialDropout1D\n",
    "import tensorflow as tf\n",
    "from keras import regularizers"
   ]
  },
  {
   "cell_type": "code",
   "outputs": [
    {
     "name": "stdout",
     "output_type": "stream",
     "text": [
      "Num GPUs Available:  1\n"
     ]
    }
   ],
   "source": [
    "print(\"Num GPUs Available: \", len(tf.config.list_physical_devices('GPU')))"
   ],
   "metadata": {
    "collapsed": false,
    "ExecuteTime": {
     "end_time": "2024-04-14T04:49:44.469407Z",
     "start_time": "2024-04-14T04:49:44.458408Z"
    }
   },
   "id": "857e7fa3168be9fe",
   "execution_count": 107
  },
  {
   "cell_type": "code",
   "execution_count": 108,
   "outputs": [],
   "source": [
    "import pickle\n",
    "\n",
    "emojis = pd.read_csv('data/Emoji_Sentiment_Data_v1.0.csv')\n",
    "sentiment = pd.read_csv('data/sentiment.csv')\n",
    "with open('data/sentiment_texts.pickle', 'rb') as f:\n",
    "    texts = pickle.load(f)\n",
    "\n",
    "x, y = texts.MessageText, texts.SentimentScore"
   ],
   "metadata": {
    "collapsed": false,
    "ExecuteTime": {
     "end_time": "2024-04-14T04:49:44.581417Z",
     "start_time": "2024-04-14T04:49:44.473420Z"
    }
   },
   "id": "65612027d9a8910e"
  },
  {
   "cell_type": "code",
   "execution_count": 109,
   "outputs": [],
   "source": [
    "from sklearn.model_selection import train_test_split\n",
    "\n",
    "max_features = 2000\n",
    "tokenizer = Tokenizer(num_words=max_features, split=' ')\n",
    "tokenizer.fit_on_texts(x)\n",
    "x = tokenizer.texts_to_sequences(x)\n",
    "x = pad_sequences(x)\n",
    "\n",
    "X_train, X_test, y_train, y_test = train_test_split(x, y, test_size=0.05, random_state=42)\n",
    "y_train = pd.get_dummies(y_train).values\n",
    "y_val = pd.get_dummies(y_test).values"
   ],
   "metadata": {
    "collapsed": false,
    "ExecuteTime": {
     "end_time": "2024-04-14T04:49:49.370420Z",
     "start_time": "2024-04-14T04:49:44.585405Z"
    }
   },
   "id": "2247e20b5f8e6c7b"
  },
  {
   "cell_type": "code",
   "execution_count": 110,
   "outputs": [],
   "source": [
    "# \n",
    "# \n",
    "# embed_dim = 128\n",
    "# lstm_out = 32\n",
    "# \n",
    "# model = Sequential()\n",
    "# model.add(Embedding(max_features, embed_dim, input_length=X_train.shape[1]))\n",
    "# model.add(SpatialDropout1D(0.2))\n",
    "# model.add(CuDNNLSTM(lstm_out, kernel_regularizer=regularizers.L1L2(l1=1e-4, l2=1e-2)))\n",
    "# model.add(Dense(6, activation='softmax'))\n",
    "# model.compile(loss='categorical_crossentropy', optimizer='adam', metrics=['accuracy'])\n",
    "# model.build(X_train.shape[1])\n",
    "# print(model.summary())"
   ],
   "metadata": {
    "collapsed": false,
    "ExecuteTime": {
     "end_time": "2024-04-14T04:49:49.386425Z",
     "start_time": "2024-04-14T04:49:49.376421Z"
    }
   },
   "id": "6472de776c96a9b6"
  },
  {
   "cell_type": "code",
   "execution_count": 111,
   "outputs": [
    {
     "name": "stdout",
     "output_type": "stream",
     "text": [
      "Num GPUs Available:  1\n"
     ]
    }
   ],
   "source": [
    "print(\"Num GPUs Available: \", len(tf.config.list_physical_devices('GPU')))"
   ],
   "metadata": {
    "collapsed": false,
    "ExecuteTime": {
     "end_time": "2024-04-14T04:49:49.402429Z",
     "start_time": "2024-04-14T04:49:49.390427Z"
    }
   },
   "id": "3cb3816c04a9b19a"
  },
  {
   "cell_type": "code",
   "execution_count": 112,
   "outputs": [],
   "source": [
    "from matplotlib import pyplot\n",
    "\n",
    "# batch_size = 32\n",
    "# print(X_train.shape, y_train.shape)\n",
    "# history = model.fit(X_train, y_train, epochs=10, batch_size=batch_size, verbose=1, validation_data=(X_test, y_val))\n",
    "# \n",
    "# pyplot.plot(history.history['loss'])\n",
    "# pyplot.plot(history.history['val_loss'])\n",
    "# pyplot.title('model train vs validation loss')\n",
    "# pyplot.ylabel('loss')\n",
    "# pyplot.xlabel('epoch')\n",
    "# pyplot.legend(['train', 'validation'], loc='upper right')\n",
    "# pyplot.show()"
   ],
   "metadata": {
    "collapsed": false,
    "ExecuteTime": {
     "end_time": "2024-04-14T04:49:49.418422Z",
     "start_time": "2024-04-14T04:49:49.405422Z"
    }
   },
   "id": "dec0b3ba195926ec"
  },
  {
   "cell_type": "code",
   "execution_count": 113,
   "outputs": [],
   "source": [
    "from sklearn.metrics import accuracy_score, f1_score\n",
    "\n",
    "\n",
    "def final_score(y_test, y_pred):\n",
    "    f1 = f1_score(y_test, y_pred, average='weighted')\n",
    "    accuracy = accuracy_score(y_test, y_pred)\n",
    "    return (f1 + accuracy) / 2\n",
    "\n",
    "# y_pred = model.predict(X_test).argmax(axis=1)\n",
    "# print(final_score(y_test, y_pred))"
   ],
   "metadata": {
    "collapsed": false,
    "ExecuteTime": {
     "end_time": "2024-04-14T04:49:49.434430Z",
     "start_time": "2024-04-14T04:49:49.422432Z"
    }
   },
   "id": "4c34cd38874ba221"
  },
  {
   "cell_type": "code",
   "outputs": [],
   "source": [
    "from keras.layers import Bidirectional, Conv1D, MaxPooling1D\n",
    "from keras.optimizers import RMSprop, Adam\n",
    "import optuna\n",
    "from optuna.integration import TFKerasPruningCallback\n",
    "\n",
    "\n",
    "def objective(trial):\n",
    "    #embed_dim = trial.suggest_int('embed_dim', 100, 110, step=2)\n",
    "    embed_dim = 105\n",
    "    #lstm1_out = trial.suggest_int('lstm1_out', 45, 55, step=2)\n",
    "    lstm1_out = 47\n",
    "    #lstm2_out = trial.suggest_int('lstm2_out', 20, 100, step=10)\n",
    "\n",
    "    #spat_dropout = trial.suggest_float('dropout', 0, 0.15)\n",
    "    spat_dropout = 0.1\n",
    "\n",
    "    #l1 = trial.suggest_float('l1', 0.003, 0.007)\n",
    "    l1 = 0.05\n",
    "\n",
    "    #l2 = trial.suggest_float('l2', 0.007, 0.012)\n",
    "    l2 = 0.01\n",
    "    \n",
    "    beta1 = trial.suggest_float('beta1', 0.9, 1)\n",
    "    beta2 = trial.suggest_float('beta1', 0.9, 1)\n",
    "\n",
    "    #learning_rate = trial.suggest_float(\"learning_rate\", 1e-3, 0.5, log=True)\n",
    "    learning_rate = 0.005\n",
    "    batch_size = 256\n",
    "\n",
    "    model = Sequential()\n",
    "    model.add(Embedding(max_features, embed_dim, input_length=X_train.shape[1]))\n",
    "    #model.add(SpatialDropout1D(spat_dropout))\n",
    "    model.add(Conv1D(filters=32, kernel_size=3, padding='same', activation='relu'))\n",
    "    model.add(MaxPooling1D(pool_size=2))\n",
    "    model.add(Bidirectional(CuDNNLSTM(lstm1_out, kernel_regularizer=regularizers.L1L2(l1=l1, l2=l2))))\n",
    "    #model.add(CuDNNLSTM(lstm2_out, kernel_regularizer=regularizers.L1L2(l1=l1, l2=l2)))\n",
    "    model.add(Dense(6, activation='softmax'))\n",
    "    # model.compile(loss='categorical_crossentropy', optimizer=RMSprop(learning_rate=learning_rate), metrics=['accuracy'])\n",
    "    model.compile(loss='categorical_crossentropy', optimizer=Adam(learning_rate, beta_1=beta1, beta_2=beta2), metrics=['accuracy'])\n",
    "    model.build(X_train.shape[1])\n",
    "    #y_pred = model.predict(X_test).argmax(axis=1)\n",
    "\n",
    "    callbacks = [\n",
    "        #tf.keras.callbacks.EarlyStopping(\"val_accuracy\", patience=3, min_delta=0.003),\n",
    "        TFKerasPruningCallback(trial, \"val_accuracy\"),\n",
    "    ]\n",
    "    history = model.fit(X_train, y_train, epochs=20, batch_size=batch_size, verbose=1, validation_data=(X_test, y_val),\n",
    "                        callbacks=callbacks, )\n",
    "    return history.history[\"val_accuracy\"][-1]"
   ],
   "metadata": {
    "collapsed": false,
    "ExecuteTime": {
     "end_time": "2024-04-14T04:49:49.466422Z",
     "start_time": "2024-04-14T04:49:49.437424Z"
    }
   },
   "id": "f86a8f7ca08aaef1",
   "execution_count": 114
  },
  {
   "cell_type": "code",
   "outputs": [
    {
     "name": "stderr",
     "output_type": "stream",
     "text": [
      "[I 2024-04-14 07:49:49,476] A new study created in memory with name: no-name-dcf76ddf-e96f-4670-aca0-e67bc3137adb\n"
     ]
    },
    {
     "name": "stdout",
     "output_type": "stream",
     "text": [
      "Epoch 1/20\n",
      "35/35 [==============================] - 4s 57ms/step - loss: 8.5684 - accuracy: 0.4425 - val_loss: 5.2821 - val_accuracy: 0.4581\n",
      "Epoch 2/20\n",
      "35/35 [==============================] - 1s 42ms/step - loss: 4.6626 - accuracy: 0.5627 - val_loss: 4.3424 - val_accuracy: 0.5161\n",
      "Epoch 3/20\n",
      "35/35 [==============================] - 1s 42ms/step - loss: 3.8883 - accuracy: 0.6010 - val_loss: 3.6929 - val_accuracy: 0.5548\n",
      "Epoch 4/20\n",
      "35/35 [==============================] - 2s 45ms/step - loss: 3.3902 - accuracy: 0.6247 - val_loss: 3.3558 - val_accuracy: 0.5742\n",
      "Epoch 5/20\n",
      "35/35 [==============================] - 2s 46ms/step - loss: 3.0969 - accuracy: 0.6551 - val_loss: 3.3592 - val_accuracy: 0.5742\n",
      "Epoch 6/20\n",
      "35/35 [==============================] - 2s 46ms/step - loss: 2.9902 - accuracy: 0.6702 - val_loss: 3.1165 - val_accuracy: 0.5656\n",
      "Epoch 7/20\n",
      "35/35 [==============================] - 2s 44ms/step - loss: 2.8773 - accuracy: 0.6823 - val_loss: 3.1780 - val_accuracy: 0.5505\n",
      "Epoch 8/20\n",
      "35/35 [==============================] - 2s 44ms/step - loss: 2.8526 - accuracy: 0.6962 - val_loss: 3.1375 - val_accuracy: 0.5462\n",
      "Epoch 9/20\n",
      "35/35 [==============================] - 2s 45ms/step - loss: 2.8203 - accuracy: 0.7060 - val_loss: 3.2433 - val_accuracy: 0.5570\n",
      "Epoch 10/20\n",
      "35/35 [==============================] - 2s 45ms/step - loss: 2.8334 - accuracy: 0.7081 - val_loss: 3.2367 - val_accuracy: 0.5613\n",
      "Epoch 11/20\n",
      "35/35 [==============================] - 2s 45ms/step - loss: 2.8055 - accuracy: 0.7236 - val_loss: 3.1484 - val_accuracy: 0.5634\n",
      "Epoch 12/20\n",
      "35/35 [==============================] - 2s 45ms/step - loss: 2.7607 - accuracy: 0.7313 - val_loss: 3.2776 - val_accuracy: 0.5699\n",
      "Epoch 13/20\n",
      "35/35 [==============================] - 2s 43ms/step - loss: 2.7938 - accuracy: 0.7268 - val_loss: 3.2341 - val_accuracy: 0.5376\n",
      "Epoch 14/20\n",
      "35/35 [==============================] - 1s 41ms/step - loss: 2.7431 - accuracy: 0.7381 - val_loss: 3.1572 - val_accuracy: 0.5849\n",
      "Epoch 15/20\n",
      "35/35 [==============================] - 2s 44ms/step - loss: 2.7043 - accuracy: 0.7498 - val_loss: 3.2869 - val_accuracy: 0.5570\n",
      "Epoch 16/20\n",
      "35/35 [==============================] - 2s 45ms/step - loss: 2.7660 - accuracy: 0.7455 - val_loss: 3.3147 - val_accuracy: 0.5978\n",
      "Epoch 17/20\n",
      "35/35 [==============================] - 2s 43ms/step - loss: 2.8701 - accuracy: 0.7483 - val_loss: 3.3767 - val_accuracy: 0.5957\n",
      "Epoch 18/20\n",
      "35/35 [==============================] - 2s 43ms/step - loss: 2.8562 - accuracy: 0.7507 - val_loss: 3.4028 - val_accuracy: 0.5570\n",
      "Epoch 19/20\n",
      "35/35 [==============================] - 2s 44ms/step - loss: 2.8048 - accuracy: 0.7560 - val_loss: 3.4936 - val_accuracy: 0.5720\n",
      "Epoch 20/20\n",
      "35/35 [==============================] - 2s 46ms/step - loss: 2.8701 - accuracy: 0.7618 - val_loss: 3.6464 - val_accuracy: 0.5591\n"
     ]
    },
    {
     "name": "stderr",
     "output_type": "stream",
     "text": [
      "[I 2024-04-14 07:50:22,739] Trial 0 finished with value: 0.5591397881507874 and parameters: {'beta1': 0.9443623585865634, 'learning_rate': 0.06799169380948811}. Best is trial 0 with value: 0.5591397881507874.\n"
     ]
    },
    {
     "name": "stdout",
     "output_type": "stream",
     "text": [
      "Epoch 1/20\n",
      "35/35 [==============================] - 4s 60ms/step - loss: 11.4226 - accuracy: 0.3966 - val_loss: 7.1129 - val_accuracy: 0.3914\n",
      "Epoch 2/20\n",
      "35/35 [==============================] - 2s 44ms/step - loss: 6.5553 - accuracy: 0.4359 - val_loss: 4.5555 - val_accuracy: 0.5441\n",
      "Epoch 3/20\n",
      "35/35 [==============================] - 2s 43ms/step - loss: 4.2736 - accuracy: 0.5460 - val_loss: 4.1404 - val_accuracy: 0.5570\n",
      "Epoch 4/20\n",
      "35/35 [==============================] - 2s 45ms/step - loss: 3.3999 - accuracy: 0.5684 - val_loss: 3.0711 - val_accuracy: 0.5742\n",
      "Epoch 5/20\n",
      "35/35 [==============================] - 2s 45ms/step - loss: 2.8087 - accuracy: 0.5895 - val_loss: 2.4166 - val_accuracy: 0.5828\n",
      "Epoch 6/20\n",
      "35/35 [==============================] - 2s 44ms/step - loss: 2.2823 - accuracy: 0.6193 - val_loss: 2.1488 - val_accuracy: 0.5763\n",
      "Epoch 7/20\n",
      "35/35 [==============================] - 2s 45ms/step - loss: 1.9393 - accuracy: 0.6315 - val_loss: 1.8787 - val_accuracy: 0.5914\n",
      "Epoch 8/20\n",
      "35/35 [==============================] - 2s 46ms/step - loss: 1.6820 - accuracy: 0.6440 - val_loss: 1.6973 - val_accuracy: 0.6086\n",
      "Epoch 9/20\n",
      "35/35 [==============================] - 2s 43ms/step - loss: 1.4861 - accuracy: 0.6633 - val_loss: 1.5938 - val_accuracy: 0.5957\n",
      "Epoch 10/20\n",
      "35/35 [==============================] - 2s 45ms/step - loss: 1.3396 - accuracy: 0.6725 - val_loss: 1.4835 - val_accuracy: 0.5828\n",
      "Epoch 11/20\n",
      "35/35 [==============================] - 2s 44ms/step - loss: 1.2300 - accuracy: 0.6868 - val_loss: 1.4505 - val_accuracy: 0.5570\n",
      "Epoch 12/20\n",
      "35/35 [==============================] - 2s 47ms/step - loss: 1.1416 - accuracy: 0.7027 - val_loss: 1.3850 - val_accuracy: 0.5806\n",
      "Epoch 13/20\n",
      "35/35 [==============================] - 2s 45ms/step - loss: 1.0615 - accuracy: 0.7168 - val_loss: 1.3705 - val_accuracy: 0.5656\n",
      "Epoch 14/20\n",
      "35/35 [==============================] - 2s 43ms/step - loss: 1.0032 - accuracy: 0.7298 - val_loss: 1.3222 - val_accuracy: 0.5892\n",
      "Epoch 15/20\n",
      "35/35 [==============================] - 2s 43ms/step - loss: 0.9544 - accuracy: 0.7405 - val_loss: 1.3144 - val_accuracy: 0.5978\n",
      "Epoch 16/20\n",
      "35/35 [==============================] - 2s 45ms/step - loss: 0.9060 - accuracy: 0.7559 - val_loss: 1.3151 - val_accuracy: 0.5914\n",
      "Epoch 17/20\n",
      "35/35 [==============================] - 2s 45ms/step - loss: 0.8596 - accuracy: 0.7652 - val_loss: 1.3073 - val_accuracy: 0.5935\n",
      "Epoch 18/20\n",
      "35/35 [==============================] - 2s 45ms/step - loss: 0.8197 - accuracy: 0.7747 - val_loss: 1.3052 - val_accuracy: 0.6043\n",
      "Epoch 19/20\n",
      "35/35 [==============================] - 2s 43ms/step - loss: 0.7977 - accuracy: 0.7814 - val_loss: 1.3129 - val_accuracy: 0.5935\n",
      "Epoch 20/20\n",
      "35/35 [==============================] - 2s 43ms/step - loss: 0.7695 - accuracy: 0.7937 - val_loss: 1.3610 - val_accuracy: 0.6022\n"
     ]
    },
    {
     "name": "stderr",
     "output_type": "stream",
     "text": [
      "[I 2024-04-14 07:50:56,212] Trial 1 finished with value: 0.602150559425354 and parameters: {'beta1': 0.9878168256338388, 'learning_rate': 0.0052763532332524956}. Best is trial 1 with value: 0.602150559425354.\n"
     ]
    },
    {
     "name": "stdout",
     "output_type": "stream",
     "text": [
      "Epoch 1/20\n",
      "35/35 [==============================] - 4s 58ms/step - loss: 18.1732 - accuracy: 0.4055 - val_loss: 10.1385 - val_accuracy: 0.5290\n",
      "Epoch 2/20\n",
      "35/35 [==============================] - 1s 41ms/step - loss: 5.7217 - accuracy: 0.4867 - val_loss: 2.4521 - val_accuracy: 0.4860\n",
      "Epoch 3/20\n",
      "35/35 [==============================] - 2s 44ms/step - loss: 1.7843 - accuracy: 0.5048 - val_loss: 1.4105 - val_accuracy: 0.5204\n",
      "Epoch 4/20\n",
      "35/35 [==============================] - 2s 43ms/step - loss: 1.2659 - accuracy: 0.5777 - val_loss: 1.2091 - val_accuracy: 0.5785\n",
      "Epoch 5/20\n",
      "35/35 [==============================] - 2s 43ms/step - loss: 1.1508 - accuracy: 0.6049 - val_loss: 1.1487 - val_accuracy: 0.6086\n",
      "Epoch 6/20\n",
      "35/35 [==============================] - 2s 43ms/step - loss: 1.0855 - accuracy: 0.6300 - val_loss: 1.1384 - val_accuracy: 0.6194\n",
      "Epoch 7/20\n",
      "35/35 [==============================] - 2s 44ms/step - loss: 1.0437 - accuracy: 0.6470 - val_loss: 1.1261 - val_accuracy: 0.6237\n",
      "Epoch 8/20\n",
      "35/35 [==============================] - 2s 45ms/step - loss: 0.9996 - accuracy: 0.6666 - val_loss: 1.1273 - val_accuracy: 0.6000\n",
      "Epoch 9/20\n",
      "35/35 [==============================] - 2s 44ms/step - loss: 0.9652 - accuracy: 0.6814 - val_loss: 1.1339 - val_accuracy: 0.5871\n",
      "Epoch 10/20\n",
      "35/35 [==============================] - 1s 42ms/step - loss: 0.9513 - accuracy: 0.6889 - val_loss: 1.1643 - val_accuracy: 0.5699\n",
      "Epoch 11/20\n",
      "35/35 [==============================] - 1s 41ms/step - loss: 0.9126 - accuracy: 0.7041 - val_loss: 1.1425 - val_accuracy: 0.6387\n",
      "Epoch 12/20\n",
      "35/35 [==============================] - 1s 43ms/step - loss: 0.8860 - accuracy: 0.7200 - val_loss: 1.1489 - val_accuracy: 0.6172\n",
      "Epoch 13/20\n",
      "35/35 [==============================] - 2s 43ms/step - loss: 0.8680 - accuracy: 0.7243 - val_loss: 1.1743 - val_accuracy: 0.6151\n",
      "Epoch 14/20\n",
      "35/35 [==============================] - 1s 43ms/step - loss: 0.8490 - accuracy: 0.7327 - val_loss: 1.1761 - val_accuracy: 0.6301\n",
      "Epoch 15/20\n",
      "35/35 [==============================] - 2s 44ms/step - loss: 0.8415 - accuracy: 0.7372 - val_loss: 1.1879 - val_accuracy: 0.6151\n",
      "Epoch 16/20\n",
      "35/35 [==============================] - 2s 43ms/step - loss: 0.8137 - accuracy: 0.7527 - val_loss: 1.2254 - val_accuracy: 0.6151\n",
      "Epoch 17/20\n",
      "35/35 [==============================] - 2s 44ms/step - loss: 0.8088 - accuracy: 0.7548 - val_loss: 1.2321 - val_accuracy: 0.6172\n",
      "Epoch 18/20\n",
      "35/35 [==============================] - 2s 43ms/step - loss: 0.7893 - accuracy: 0.7593 - val_loss: 1.2481 - val_accuracy: 0.6258\n",
      "Epoch 19/20\n",
      "35/35 [==============================] - 2s 44ms/step - loss: 0.7629 - accuracy: 0.7692 - val_loss: 1.2295 - val_accuracy: 0.6280\n",
      "Epoch 20/20\n",
      "35/35 [==============================] - 2s 44ms/step - loss: 0.7506 - accuracy: 0.7788 - val_loss: 1.2622 - val_accuracy: 0.6172\n"
     ]
    },
    {
     "name": "stderr",
     "output_type": "stream",
     "text": [
      "[I 2024-04-14 07:51:29,001] Trial 2 finished with value: 0.6172043085098267 and parameters: {'beta1': 0.9245230677938587, 'learning_rate': 0.0019836882466623953}. Best is trial 2 with value: 0.6172043085098267.\n"
     ]
    },
    {
     "name": "stdout",
     "output_type": "stream",
     "text": [
      "Epoch 1/20\n",
      "35/35 [==============================] - 4s 60ms/step - loss: 9.4161 - accuracy: 0.4011 - val_loss: 7.2865 - val_accuracy: 0.4022\n",
      "Epoch 2/20\n",
      "35/35 [==============================] - 2s 47ms/step - loss: 6.7422 - accuracy: 0.4288 - val_loss: 6.9797 - val_accuracy: 0.4366\n",
      "Epoch 3/20\n",
      "35/35 [==============================] - 2s 44ms/step - loss: 7.3810 - accuracy: 0.4258 - val_loss: 7.4976 - val_accuracy: 0.4581\n",
      "Epoch 4/20\n",
      "35/35 [==============================] - 2s 44ms/step - loss: 7.5944 - accuracy: 0.4634 - val_loss: 7.5871 - val_accuracy: 0.4968\n",
      "Epoch 5/20\n",
      "35/35 [==============================] - 2s 44ms/step - loss: 7.3417 - accuracy: 0.5116 - val_loss: 7.1829 - val_accuracy: 0.4860\n",
      "Epoch 6/20\n",
      "35/35 [==============================] - ETA: 0s - loss: 7.0243 - accuracy: 0.5170"
     ]
    },
    {
     "name": "stderr",
     "output_type": "stream",
     "text": [
      "[I 2024-04-14 07:51:41,268] Trial 3 pruned. Trial was pruned at epoch 5.\n"
     ]
    },
    {
     "name": "stdout",
     "output_type": "stream",
     "text": [
      "Epoch 1/20\n",
      "35/35 [==============================] - 3s 57ms/step - loss: 10.0096 - accuracy: 0.4150 - val_loss: 4.6591 - val_accuracy: 0.3871\n",
      "Epoch 2/20\n",
      "35/35 [==============================] - 2s 45ms/step - loss: 2.9408 - accuracy: 0.5144 - val_loss: 1.9947 - val_accuracy: 0.5677\n",
      "Epoch 3/20\n",
      "35/35 [==============================] - 2s 43ms/step - loss: 1.6582 - accuracy: 0.5813 - val_loss: 1.4830 - val_accuracy: 0.5978\n",
      "Epoch 4/20\n",
      "35/35 [==============================] - 2s 44ms/step - loss: 1.2873 - accuracy: 0.6205 - val_loss: 1.3214 - val_accuracy: 0.5763\n",
      "Epoch 5/20\n",
      "35/35 [==============================] - 2s 46ms/step - loss: 1.1544 - accuracy: 0.6482 - val_loss: 1.3280 - val_accuracy: 0.5806\n",
      "Epoch 6/20\n",
      "35/35 [==============================] - 2s 44ms/step - loss: 1.0923 - accuracy: 0.6793 - val_loss: 1.3049 - val_accuracy: 0.6000\n",
      "Epoch 7/20\n",
      "35/35 [==============================] - 2s 45ms/step - loss: 1.0516 - accuracy: 0.6871 - val_loss: 1.3187 - val_accuracy: 0.5978\n",
      "Epoch 8/20\n",
      "35/35 [==============================] - 2s 47ms/step - loss: 1.0208 - accuracy: 0.7077 - val_loss: 1.3073 - val_accuracy: 0.6237\n",
      "Epoch 9/20\n",
      "35/35 [==============================] - 2s 47ms/step - loss: 0.9880 - accuracy: 0.7214 - val_loss: 1.3277 - val_accuracy: 0.6108\n",
      "Epoch 10/20\n",
      "35/35 [==============================] - 2s 44ms/step - loss: 0.9387 - accuracy: 0.7407 - val_loss: 1.3333 - val_accuracy: 0.6000\n",
      "Epoch 11/20\n",
      "35/35 [==============================] - 2s 46ms/step - loss: 0.9127 - accuracy: 0.7524 - val_loss: 1.3770 - val_accuracy: 0.5892\n",
      "Epoch 12/20\n",
      "35/35 [==============================] - 2s 47ms/step - loss: 0.8811 - accuracy: 0.7680 - val_loss: 1.4222 - val_accuracy: 0.6022\n",
      "Epoch 13/20\n",
      "35/35 [==============================] - 2s 46ms/step - loss: 0.8536 - accuracy: 0.7781 - val_loss: 1.4069 - val_accuracy: 0.6172\n",
      "Epoch 14/20\n",
      "35/35 [==============================] - 2s 46ms/step - loss: 0.8320 - accuracy: 0.7873 - val_loss: 1.4237 - val_accuracy: 0.6194\n",
      "Epoch 15/20\n",
      "35/35 [==============================] - 2s 43ms/step - loss: 0.8016 - accuracy: 0.7978 - val_loss: 1.4415 - val_accuracy: 0.6215\n",
      "Epoch 16/20\n",
      "35/35 [==============================] - 2s 45ms/step - loss: 0.7710 - accuracy: 0.8088 - val_loss: 1.4769 - val_accuracy: 0.6065\n",
      "Epoch 17/20\n",
      "35/35 [==============================] - 2s 45ms/step - loss: 0.7468 - accuracy: 0.8155 - val_loss: 1.5345 - val_accuracy: 0.6022\n",
      "Epoch 18/20\n",
      "35/35 [==============================] - 2s 46ms/step - loss: 0.7202 - accuracy: 0.8240 - val_loss: 1.5623 - val_accuracy: 0.5957\n",
      "Epoch 19/20\n",
      "35/35 [==============================] - 2s 48ms/step - loss: 0.7121 - accuracy: 0.8289 - val_loss: 1.5606 - val_accuracy: 0.6086\n",
      "Epoch 20/20\n",
      "35/35 [==============================] - 2s 48ms/step - loss: 0.6905 - accuracy: 0.8344 - val_loss: 1.5590 - val_accuracy: 0.6215\n"
     ]
    },
    {
     "name": "stderr",
     "output_type": "stream",
     "text": [
      "[I 2024-04-14 07:52:15,395] Trial 4 finished with value: 0.6215053796768188 and parameters: {'beta1': 0.9491555369395157, 'learning_rate': 0.006097295904944688}. Best is trial 4 with value: 0.6215053796768188.\n"
     ]
    },
    {
     "name": "stdout",
     "output_type": "stream",
     "text": [
      "Epoch 1/20\n",
      "35/35 [==============================] - 4s 64ms/step - loss: 17.4666 - accuracy: 0.3710 - val_loss: 16.6079 - val_accuracy: 0.3806\n",
      "Epoch 2/20\n",
      "35/35 [==============================] - 2s 46ms/step - loss: 16.9252 - accuracy: 0.3969 - val_loss: 17.8565 - val_accuracy: 0.4495\n",
      "Epoch 3/20\n",
      "35/35 [==============================] - 2s 46ms/step - loss: 17.1843 - accuracy: 0.3915 - val_loss: 15.3748 - val_accuracy: 0.4000\n",
      "Epoch 4/20\n",
      "35/35 [==============================] - 2s 46ms/step - loss: 17.7176 - accuracy: 0.3640 - val_loss: 18.8348 - val_accuracy: 0.3914\n",
      "Epoch 5/20\n",
      "35/35 [==============================] - 2s 45ms/step - loss: 17.6466 - accuracy: 0.3866 - val_loss: 17.1996 - val_accuracy: 0.4194\n",
      "Epoch 6/20\n",
      "34/35 [============================>.] - ETA: 0s - loss: 16.7742 - accuracy: 0.3980"
     ]
    },
    {
     "name": "stderr",
     "output_type": "stream",
     "text": [
      "[I 2024-04-14 07:52:27,594] Trial 5 pruned. Trial was pruned at epoch 5.\n"
     ]
    },
    {
     "name": "stdout",
     "output_type": "stream",
     "text": [
      "Epoch 1/20\n",
      "35/35 [==============================] - 4s 63ms/step - loss: 11.9083 - accuracy: 0.3884 - val_loss: 10.3099 - val_accuracy: 0.4344\n",
      "Epoch 2/20\n",
      "35/35 [==============================] - 2s 44ms/step - loss: 9.9072 - accuracy: 0.4906 - val_loss: 9.2908 - val_accuracy: 0.5312\n",
      "Epoch 3/20\n",
      "35/35 [==============================] - 2s 47ms/step - loss: 9.3019 - accuracy: 0.5128 - val_loss: 9.1010 - val_accuracy: 0.5312\n",
      "Epoch 4/20\n",
      "35/35 [==============================] - 2s 46ms/step - loss: 9.4649 - accuracy: 0.5298 - val_loss: 9.7316 - val_accuracy: 0.5140\n",
      "Epoch 5/20\n",
      "35/35 [==============================] - 2s 44ms/step - loss: 9.4858 - accuracy: 0.5383 - val_loss: 9.2673 - val_accuracy: 0.5204\n",
      "Epoch 6/20\n",
      "34/35 [============================>.] - ETA: 0s - loss: 9.1572 - accuracy: 0.5366"
     ]
    },
    {
     "name": "stderr",
     "output_type": "stream",
     "text": [
      "[I 2024-04-14 07:52:39,596] Trial 6 pruned. Trial was pruned at epoch 5.\n"
     ]
    },
    {
     "name": "stdout",
     "output_type": "stream",
     "text": [
      "Epoch 1/20\n",
      "35/35 [==============================] - 4s 60ms/step - loss: 29.2355 - accuracy: 0.3466 - val_loss: 33.2020 - val_accuracy: 0.3957\n",
      "Epoch 2/20\n",
      "35/35 [==============================] - 2s 43ms/step - loss: 36.5430 - accuracy: 0.3619 - val_loss: 38.5346 - val_accuracy: 0.3742\n",
      "Epoch 3/20\n",
      "35/35 [==============================] - 2s 43ms/step - loss: 39.1631 - accuracy: 0.3766 - val_loss: 42.0346 - val_accuracy: 0.3656\n",
      "Epoch 4/20\n",
      "35/35 [==============================] - 2s 45ms/step - loss: 43.2734 - accuracy: 0.3455 - val_loss: 45.4617 - val_accuracy: 0.3935\n",
      "Epoch 5/20\n",
      "35/35 [==============================] - 2s 44ms/step - loss: 45.7941 - accuracy: 0.3660 - val_loss: 46.7143 - val_accuracy: 0.3484\n",
      "Epoch 6/20\n",
      "35/35 [==============================] - ETA: 0s - loss: 47.4091 - accuracy: 0.3539"
     ]
    },
    {
     "name": "stderr",
     "output_type": "stream",
     "text": [
      "[I 2024-04-14 07:52:51,198] Trial 7 pruned. Trial was pruned at epoch 5.\n"
     ]
    },
    {
     "name": "stdout",
     "output_type": "stream",
     "text": [
      "Epoch 1/20\n",
      "35/35 [==============================] - 3s 57ms/step - loss: 17.0287 - accuracy: 0.4275 - val_loss: 8.4125 - val_accuracy: 0.5333\n",
      "Epoch 2/20\n",
      "35/35 [==============================] - 2s 45ms/step - loss: 4.3462 - accuracy: 0.5041 - val_loss: 1.9230 - val_accuracy: 0.5075\n",
      "Epoch 3/20\n",
      "35/35 [==============================] - 2s 43ms/step - loss: 1.5760 - accuracy: 0.5741 - val_loss: 1.2792 - val_accuracy: 0.6043\n",
      "Epoch 4/20\n",
      "35/35 [==============================] - 2s 43ms/step - loss: 1.2076 - accuracy: 0.6020 - val_loss: 1.1526 - val_accuracy: 0.6215\n",
      "Epoch 5/20\n",
      "35/35 [==============================] - 2s 44ms/step - loss: 1.1027 - accuracy: 0.6355 - val_loss: 1.1485 - val_accuracy: 0.5763\n",
      "Epoch 6/20\n",
      "35/35 [==============================] - 2s 44ms/step - loss: 1.0478 - accuracy: 0.6516 - val_loss: 1.1472 - val_accuracy: 0.6000\n",
      "Epoch 7/20\n",
      "35/35 [==============================] - 2s 44ms/step - loss: 1.0170 - accuracy: 0.6639 - val_loss: 1.1598 - val_accuracy: 0.5892\n",
      "Epoch 8/20\n",
      "35/35 [==============================] - 2s 43ms/step - loss: 0.9917 - accuracy: 0.6789 - val_loss: 1.1323 - val_accuracy: 0.6108\n",
      "Epoch 9/20\n",
      "35/35 [==============================] - 2s 44ms/step - loss: 0.9543 - accuracy: 0.6950 - val_loss: 1.1419 - val_accuracy: 0.6108\n",
      "Epoch 10/20\n",
      "35/35 [==============================] - 2s 44ms/step - loss: 0.9288 - accuracy: 0.7040 - val_loss: 1.1500 - val_accuracy: 0.6215\n",
      "Epoch 11/20\n",
      "35/35 [==============================] - 2s 45ms/step - loss: 0.8998 - accuracy: 0.7196 - val_loss: 1.1659 - val_accuracy: 0.6215\n",
      "Epoch 12/20\n",
      "35/35 [==============================] - 2s 44ms/step - loss: 0.8802 - accuracy: 0.7254 - val_loss: 1.1677 - val_accuracy: 0.6280\n",
      "Epoch 13/20\n",
      "35/35 [==============================] - 2s 44ms/step - loss: 0.8655 - accuracy: 0.7323 - val_loss: 1.1736 - val_accuracy: 0.6215\n",
      "Epoch 14/20\n",
      "35/35 [==============================] - 2s 44ms/step - loss: 0.9353 - accuracy: 0.7099 - val_loss: 1.3027 - val_accuracy: 0.6065\n",
      "Epoch 15/20\n",
      "35/35 [==============================] - 2s 46ms/step - loss: 0.9378 - accuracy: 0.7192 - val_loss: 1.2569 - val_accuracy: 0.6215\n",
      "Epoch 16/20\n",
      "35/35 [==============================] - 2s 45ms/step - loss: 0.8400 - accuracy: 0.7465 - val_loss: 1.2077 - val_accuracy: 0.6215\n",
      "Epoch 17/20\n",
      "35/35 [==============================] - 2s 45ms/step - loss: 0.7984 - accuracy: 0.7595 - val_loss: 1.2330 - val_accuracy: 0.6237\n",
      "Epoch 18/20\n",
      "35/35 [==============================] - 2s 45ms/step - loss: 0.7954 - accuracy: 0.7605 - val_loss: 1.2322 - val_accuracy: 0.6258\n",
      "Epoch 19/20\n",
      "35/35 [==============================] - 2s 44ms/step - loss: 0.7885 - accuracy: 0.7624 - val_loss: 1.2480 - val_accuracy: 0.6215\n",
      "Epoch 20/20\n",
      "35/35 [==============================] - 2s 44ms/step - loss: 0.7583 - accuracy: 0.7777 - val_loss: 1.2402 - val_accuracy: 0.6237\n"
     ]
    },
    {
     "name": "stderr",
     "output_type": "stream",
     "text": [
      "[I 2024-04-14 07:53:24,500] Trial 8 finished with value: 0.6236559152603149 and parameters: {'beta1': 0.9231624838316728, 'learning_rate': 0.002306599683777887}. Best is trial 8 with value: 0.6236559152603149.\n"
     ]
    },
    {
     "name": "stdout",
     "output_type": "stream",
     "text": [
      "Epoch 1/20\n",
      "35/35 [==============================] - 3s 58ms/step - loss: 18.1653 - accuracy: 0.4055 - val_loss: 10.5598 - val_accuracy: 0.4688\n",
      "Epoch 2/20\n",
      "35/35 [==============================] - 2s 44ms/step - loss: 6.4602 - accuracy: 0.5102 - val_loss: 3.4908 - val_accuracy: 0.4430\n",
      "Epoch 3/20\n",
      "35/35 [==============================] - 1s 42ms/step - loss: 2.9299 - accuracy: 0.5238 - val_loss: 2.4273 - val_accuracy: 0.5656\n",
      "Epoch 4/20\n",
      "35/35 [==============================] - 2s 44ms/step - loss: 1.9545 - accuracy: 0.5661 - val_loss: 1.6845 - val_accuracy: 0.5699\n",
      "Epoch 5/20\n",
      "35/35 [==============================] - 2s 44ms/step - loss: 1.4777 - accuracy: 0.5933 - val_loss: 1.3771 - val_accuracy: 0.5871\n",
      "Epoch 6/20\n",
      "35/35 [==============================] - ETA: 0s - loss: 1.2651 - accuracy: 0.6104"
     ]
    },
    {
     "name": "stderr",
     "output_type": "stream",
     "text": [
      "[I 2024-04-14 07:53:35,809] Trial 9 pruned. Trial was pruned at epoch 5.\n"
     ]
    },
    {
     "name": "stdout",
     "output_type": "stream",
     "text": [
      "Epoch 1/20\n",
      "35/35 [==============================] - 4s 59ms/step - loss: 8.0961 - accuracy: 0.4034 - val_loss: 2.3134 - val_accuracy: 0.4710\n",
      "Epoch 2/20\n",
      "35/35 [==============================] - 2s 45ms/step - loss: 1.7544 - accuracy: 0.5111 - val_loss: 1.4217 - val_accuracy: 0.5871\n",
      "Epoch 3/20\n",
      "35/35 [==============================] - 2s 43ms/step - loss: 1.3943 - accuracy: 0.5884 - val_loss: 1.3687 - val_accuracy: 0.5849\n",
      "Epoch 4/20\n",
      "35/35 [==============================] - 2s 45ms/step - loss: 1.3103 - accuracy: 0.6214 - val_loss: 1.3972 - val_accuracy: 0.5677\n",
      "Epoch 5/20\n",
      "35/35 [==============================] - 2s 45ms/step - loss: 1.2659 - accuracy: 0.6456 - val_loss: 1.3749 - val_accuracy: 0.5871\n",
      "Epoch 6/20\n",
      "35/35 [==============================] - 2s 44ms/step - loss: 1.2160 - accuracy: 0.6636 - val_loss: 1.3625 - val_accuracy: 0.6000\n",
      "Epoch 7/20\n",
      "35/35 [==============================] - 2s 45ms/step - loss: 1.1719 - accuracy: 0.6883 - val_loss: 1.3678 - val_accuracy: 0.6194\n",
      "Epoch 8/20\n",
      "35/35 [==============================] - 2s 45ms/step - loss: 1.1317 - accuracy: 0.7027 - val_loss: 1.3751 - val_accuracy: 0.5957\n",
      "Epoch 9/20\n",
      "35/35 [==============================] - 2s 46ms/step - loss: 1.0848 - accuracy: 0.7145 - val_loss: 1.3717 - val_accuracy: 0.6151\n",
      "Epoch 10/20\n",
      "35/35 [==============================] - 2s 47ms/step - loss: 1.0469 - accuracy: 0.7285 - val_loss: 1.4128 - val_accuracy: 0.5935\n",
      "Epoch 11/20\n",
      "35/35 [==============================] - 2s 46ms/step - loss: 1.0313 - accuracy: 0.7412 - val_loss: 1.4253 - val_accuracy: 0.5935\n",
      "Epoch 12/20\n",
      "35/35 [==============================] - 2s 46ms/step - loss: 1.0011 - accuracy: 0.7512 - val_loss: 1.4061 - val_accuracy: 0.6065\n",
      "Epoch 13/20\n",
      "35/35 [==============================] - 2s 45ms/step - loss: 0.9690 - accuracy: 0.7687 - val_loss: 1.4221 - val_accuracy: 0.6194\n",
      "Epoch 14/20\n",
      "35/35 [==============================] - 2s 44ms/step - loss: 0.9434 - accuracy: 0.7821 - val_loss: 1.4307 - val_accuracy: 0.6022\n",
      "Epoch 15/20\n",
      "35/35 [==============================] - 1s 41ms/step - loss: 0.9176 - accuracy: 0.7852 - val_loss: 1.4598 - val_accuracy: 0.6194\n",
      "Epoch 16/20\n",
      "35/35 [==============================] - 2s 44ms/step - loss: 0.8938 - accuracy: 0.7992 - val_loss: 1.4763 - val_accuracy: 0.6215\n",
      "Epoch 17/20\n",
      "35/35 [==============================] - 2s 45ms/step - loss: 0.8647 - accuracy: 0.8075 - val_loss: 1.4364 - val_accuracy: 0.6323\n",
      "Epoch 18/20\n",
      "35/35 [==============================] - 2s 44ms/step - loss: 0.8437 - accuracy: 0.8179 - val_loss: 1.4536 - val_accuracy: 0.6194\n",
      "Epoch 19/20\n",
      "35/35 [==============================] - 2s 45ms/step - loss: 0.8236 - accuracy: 0.8238 - val_loss: 1.4894 - val_accuracy: 0.6086\n",
      "Epoch 20/20\n",
      "35/35 [==============================] - 2s 46ms/step - loss: 0.8081 - accuracy: 0.8289 - val_loss: 1.5128 - val_accuracy: 0.6151\n"
     ]
    },
    {
     "name": "stderr",
     "output_type": "stream",
     "text": [
      "[I 2024-04-14 07:54:09,473] Trial 10 finished with value: 0.6150537729263306 and parameters: {'beta1': 0.9000137392477332, 'learning_rate': 0.008010148166888902}. Best is trial 8 with value: 0.6236559152603149.\n"
     ]
    },
    {
     "name": "stdout",
     "output_type": "stream",
     "text": [
      "Epoch 1/20\n",
      "35/35 [==============================] - 4s 60ms/step - loss: 8.9033 - accuracy: 0.4081 - val_loss: 2.8467 - val_accuracy: 0.4452\n",
      "Epoch 2/20\n",
      "35/35 [==============================] - 2s 45ms/step - loss: 2.0587 - accuracy: 0.4969 - val_loss: 1.5433 - val_accuracy: 0.5720\n",
      "Epoch 3/20\n",
      "35/35 [==============================] - 2s 46ms/step - loss: 1.4187 - accuracy: 0.5851 - val_loss: 1.3486 - val_accuracy: 0.5935\n",
      "Epoch 4/20\n",
      "35/35 [==============================] - 2s 45ms/step - loss: 1.2938 - accuracy: 0.6133 - val_loss: 1.3483 - val_accuracy: 0.5699\n",
      "Epoch 5/20\n",
      "35/35 [==============================] - 2s 45ms/step - loss: 1.2490 - accuracy: 0.6370 - val_loss: 1.3488 - val_accuracy: 0.5806\n",
      "Epoch 6/20\n",
      "35/35 [==============================] - ETA: 0s - loss: 1.1827 - accuracy: 0.6599"
     ]
    },
    {
     "name": "stderr",
     "output_type": "stream",
     "text": [
      "[I 2024-04-14 07:54:21,379] Trial 11 pruned. Trial was pruned at epoch 5.\n"
     ]
    },
    {
     "name": "stdout",
     "output_type": "stream",
     "text": [
      "Epoch 1/20\n",
      "35/35 [==============================] - 3s 59ms/step - loss: 8.2317 - accuracy: 0.4185 - val_loss: 4.4691 - val_accuracy: 0.5312\n",
      "Epoch 2/20\n",
      "35/35 [==============================] - 2s 45ms/step - loss: 3.3500 - accuracy: 0.5517 - val_loss: 2.6348 - val_accuracy: 0.5742\n",
      "Epoch 3/20\n",
      "35/35 [==============================] - 2s 45ms/step - loss: 2.2458 - accuracy: 0.5955 - val_loss: 2.0303 - val_accuracy: 0.5892\n",
      "Epoch 4/20\n",
      "35/35 [==============================] - 2s 46ms/step - loss: 1.7777 - accuracy: 0.6298 - val_loss: 1.7230 - val_accuracy: 0.5914\n",
      "Epoch 5/20\n",
      "35/35 [==============================] - 2s 45ms/step - loss: 1.5299 - accuracy: 0.6640 - val_loss: 1.6523 - val_accuracy: 0.5763\n",
      "Epoch 6/20\n",
      "35/35 [==============================] - 2s 43ms/step - loss: 1.4124 - accuracy: 0.6881 - val_loss: 1.6387 - val_accuracy: 0.6043\n",
      "Epoch 7/20\n",
      "35/35 [==============================] - 2s 45ms/step - loss: 1.3138 - accuracy: 0.7117 - val_loss: 1.6953 - val_accuracy: 0.5742\n",
      "Epoch 8/20\n",
      "35/35 [==============================] - 2s 45ms/step - loss: 1.2447 - accuracy: 0.7308 - val_loss: 1.6457 - val_accuracy: 0.5656\n",
      "Epoch 9/20\n",
      "35/35 [==============================] - 2s 45ms/step - loss: 1.1869 - accuracy: 0.7499 - val_loss: 1.7065 - val_accuracy: 0.5828\n",
      "Epoch 10/20\n",
      "35/35 [==============================] - 2s 44ms/step - loss: 1.1216 - accuracy: 0.7758 - val_loss: 1.7162 - val_accuracy: 0.5871\n",
      "Epoch 11/20\n",
      "35/35 [==============================] - 2s 43ms/step - loss: 1.0898 - accuracy: 0.7846 - val_loss: 1.7440 - val_accuracy: 0.5742\n",
      "Epoch 12/20\n",
      "35/35 [==============================] - 2s 44ms/step - loss: 1.0446 - accuracy: 0.8066 - val_loss: 1.7616 - val_accuracy: 0.5828\n",
      "Epoch 13/20\n",
      "34/35 [============================>.] - ETA: 0s - loss: 0.9997 - accuracy: 0.8148"
     ]
    },
    {
     "name": "stderr",
     "output_type": "stream",
     "text": [
      "[I 2024-04-14 07:54:43,906] Trial 12 pruned. Trial was pruned at epoch 12.\n"
     ]
    },
    {
     "name": "stdout",
     "output_type": "stream",
     "text": [
      "Epoch 1/20\n",
      "35/35 [==============================] - 4s 57ms/step - loss: 20.9686 - accuracy: 0.3922 - val_loss: 14.7433 - val_accuracy: 0.4086\n",
      "Epoch 2/20\n",
      "35/35 [==============================] - 2s 45ms/step - loss: 10.4234 - accuracy: 0.4526 - val_loss: 6.3822 - val_accuracy: 0.4968\n",
      "Epoch 3/20\n",
      "35/35 [==============================] - 2s 45ms/step - loss: 3.9940 - accuracy: 0.5049 - val_loss: 2.0582 - val_accuracy: 0.5312\n",
      "Epoch 4/20\n",
      "35/35 [==============================] - 2s 47ms/step - loss: 1.5418 - accuracy: 0.5371 - val_loss: 1.2639 - val_accuracy: 0.5656\n",
      "Epoch 5/20\n",
      "35/35 [==============================] - 2s 44ms/step - loss: 1.1928 - accuracy: 0.5619 - val_loss: 1.1452 - val_accuracy: 0.5763\n",
      "Epoch 6/20\n",
      "35/35 [==============================] - ETA: 0s - loss: 1.1343 - accuracy: 0.5785"
     ]
    },
    {
     "name": "stderr",
     "output_type": "stream",
     "text": [
      "[I 2024-04-14 07:54:55,738] Trial 13 pruned. Trial was pruned at epoch 5.\n"
     ]
    },
    {
     "name": "stdout",
     "output_type": "stream",
     "text": [
      "Epoch 1/20\n",
      "35/35 [==============================] - 3s 58ms/step - loss: 11.0712 - accuracy: 0.4390 - val_loss: 2.7929 - val_accuracy: 0.4581\n",
      "Epoch 2/20\n",
      "35/35 [==============================] - 1s 43ms/step - loss: 1.9556 - accuracy: 0.5389 - val_loss: 1.3909 - val_accuracy: 0.5914\n",
      "Epoch 3/20\n",
      "35/35 [==============================] - 2s 45ms/step - loss: 1.2858 - accuracy: 0.5933 - val_loss: 1.2431 - val_accuracy: 0.5978\n",
      "Epoch 4/20\n",
      "35/35 [==============================] - 2s 44ms/step - loss: 1.1920 - accuracy: 0.6230 - val_loss: 1.2446 - val_accuracy: 0.5849\n",
      "Epoch 5/20\n",
      "35/35 [==============================] - 2s 46ms/step - loss: 1.1403 - accuracy: 0.6457 - val_loss: 1.2617 - val_accuracy: 0.5656\n",
      "Epoch 6/20\n",
      "35/35 [==============================] - 2s 44ms/step - loss: 1.1058 - accuracy: 0.6606 - val_loss: 1.2462 - val_accuracy: 0.6065\n",
      "Epoch 7/20\n",
      "35/35 [==============================] - 2s 45ms/step - loss: 1.0691 - accuracy: 0.6812 - val_loss: 1.2378 - val_accuracy: 0.5957\n",
      "Epoch 8/20\n",
      "35/35 [==============================] - 2s 44ms/step - loss: 1.0455 - accuracy: 0.6916 - val_loss: 1.2417 - val_accuracy: 0.6043\n",
      "Epoch 9/20\n",
      "35/35 [==============================] - 2s 45ms/step - loss: 1.0132 - accuracy: 0.7053 - val_loss: 1.2997 - val_accuracy: 0.5935\n",
      "Epoch 10/20\n",
      "35/35 [==============================] - 2s 44ms/step - loss: 0.9992 - accuracy: 0.7084 - val_loss: 1.3277 - val_accuracy: 0.5849\n",
      "Epoch 11/20\n",
      "35/35 [==============================] - 2s 45ms/step - loss: 0.9609 - accuracy: 0.7234 - val_loss: 1.3175 - val_accuracy: 0.5914\n",
      "Epoch 12/20\n",
      "35/35 [==============================] - 2s 45ms/step - loss: 0.9402 - accuracy: 0.7269 - val_loss: 1.3695 - val_accuracy: 0.5763\n",
      "Epoch 13/20\n",
      "35/35 [==============================] - ETA: 0s - loss: 0.9233 - accuracy: 0.7397"
     ]
    },
    {
     "name": "stderr",
     "output_type": "stream",
     "text": [
      "[I 2024-04-14 07:55:18,147] Trial 14 pruned. Trial was pruned at epoch 12.\n"
     ]
    },
    {
     "name": "stdout",
     "output_type": "stream",
     "text": [
      "Epoch 1/20\n",
      "35/35 [==============================] - 3s 59ms/step - loss: 7.3127 - accuracy: 0.4303 - val_loss: 3.0158 - val_accuracy: 0.5441\n",
      "Epoch 2/20\n",
      "35/35 [==============================] - 2s 43ms/step - loss: 2.2969 - accuracy: 0.5495 - val_loss: 1.8486 - val_accuracy: 0.5613\n",
      "Epoch 3/20\n",
      "35/35 [==============================] - 1s 43ms/step - loss: 1.6984 - accuracy: 0.5947 - val_loss: 1.7006 - val_accuracy: 0.5806\n",
      "Epoch 4/20\n",
      "35/35 [==============================] - 2s 43ms/step - loss: 1.5979 - accuracy: 0.6124 - val_loss: 1.7557 - val_accuracy: 0.5656\n",
      "Epoch 5/20\n",
      "35/35 [==============================] - 2s 45ms/step - loss: 1.5226 - accuracy: 0.6453 - val_loss: 1.7003 - val_accuracy: 0.5677\n",
      "Epoch 6/20\n",
      "35/35 [==============================] - ETA: 0s - loss: 1.4581 - accuracy: 0.6578"
     ]
    },
    {
     "name": "stderr",
     "output_type": "stream",
     "text": [
      "[I 2024-04-14 07:55:29,566] Trial 15 pruned. Trial was pruned at epoch 5.\n"
     ]
    },
    {
     "name": "stdout",
     "output_type": "stream",
     "text": [
      "Epoch 1/20\n",
      "35/35 [==============================] - 4s 58ms/step - loss: 73.0108 - accuracy: 0.3402 - val_loss: 76.5157 - val_accuracy: 0.4022\n",
      "Epoch 2/20\n",
      "35/35 [==============================] - 2s 46ms/step - loss: 91.8894 - accuracy: 0.3443 - val_loss: 110.4806 - val_accuracy: 0.4065\n",
      "Epoch 3/20\n",
      "35/35 [==============================] - 2s 45ms/step - loss: 126.3268 - accuracy: 0.3623 - val_loss: 132.9378 - val_accuracy: 0.3699\n",
      "Epoch 4/20\n",
      "35/35 [==============================] - 2s 45ms/step - loss: 138.9294 - accuracy: 0.3230 - val_loss: 145.9352 - val_accuracy: 0.3742\n",
      "Epoch 5/20\n",
      "35/35 [==============================] - 2s 46ms/step - loss: 155.9979 - accuracy: 0.3296 - val_loss: 157.1261 - val_accuracy: 0.3720\n",
      "Epoch 6/20\n",
      "34/35 [============================>.] - ETA: 0s - loss: 154.4444 - accuracy: 0.3361"
     ]
    },
    {
     "name": "stderr",
     "output_type": "stream",
     "text": [
      "[I 2024-04-14 07:55:41,968] Trial 16 pruned. Trial was pruned at epoch 5.\n"
     ]
    },
    {
     "name": "stdout",
     "output_type": "stream",
     "text": [
      "Epoch 1/20\n",
      "35/35 [==============================] - 4s 58ms/step - loss: 15.3997 - accuracy: 0.3978 - val_loss: 6.4350 - val_accuracy: 0.3914\n",
      "Epoch 2/20\n",
      "35/35 [==============================] - 2s 46ms/step - loss: 3.8840 - accuracy: 0.4119 - val_loss: 2.8721 - val_accuracy: 0.4086\n",
      "Epoch 3/20\n",
      "35/35 [==============================] - 2s 45ms/step - loss: 2.1493 - accuracy: 0.4228 - val_loss: 1.7119 - val_accuracy: 0.4086\n",
      "Epoch 4/20\n",
      "35/35 [==============================] - 2s 46ms/step - loss: 1.5599 - accuracy: 0.4691 - val_loss: 1.4096 - val_accuracy: 0.5484\n",
      "Epoch 5/20\n",
      "35/35 [==============================] - 2s 44ms/step - loss: 1.3255 - accuracy: 0.5501 - val_loss: 1.2947 - val_accuracy: 0.5290\n",
      "Epoch 6/20\n",
      "35/35 [==============================] - ETA: 0s - loss: 1.2307 - accuracy: 0.5734"
     ]
    },
    {
     "name": "stderr",
     "output_type": "stream",
     "text": [
      "[I 2024-04-14 07:55:53,806] Trial 17 pruned. Trial was pruned at epoch 5.\n"
     ]
    },
    {
     "name": "stdout",
     "output_type": "stream",
     "text": [
      "Epoch 1/20\n",
      "35/35 [==============================] - 3s 57ms/step - loss: 21.7555 - accuracy: 0.4146 - val_loss: 16.4857 - val_accuracy: 0.4258\n",
      "Epoch 2/20\n",
      "35/35 [==============================] - 2s 44ms/step - loss: 12.7607 - accuracy: 0.5100 - val_loss: 9.1682 - val_accuracy: 0.5269\n",
      "Epoch 3/20\n",
      "35/35 [==============================] - 2s 44ms/step - loss: 6.7478 - accuracy: 0.4850 - val_loss: 4.5864 - val_accuracy: 0.5247\n",
      "Epoch 4/20\n",
      "35/35 [==============================] - 2s 44ms/step - loss: 3.4571 - accuracy: 0.4910 - val_loss: 2.6887 - val_accuracy: 0.4968\n",
      "Epoch 5/20\n",
      "35/35 [==============================] - 2s 44ms/step - loss: 2.5544 - accuracy: 0.5075 - val_loss: 2.2926 - val_accuracy: 0.5161\n",
      "Epoch 6/20\n",
      "35/35 [==============================] - ETA: 0s - loss: 1.9460 - accuracy: 0.5492"
     ]
    },
    {
     "name": "stderr",
     "output_type": "stream",
     "text": [
      "[I 2024-04-14 07:56:05,262] Trial 18 pruned. Trial was pruned at epoch 5.\n"
     ]
    },
    {
     "name": "stdout",
     "output_type": "stream",
     "text": [
      "Epoch 1/20\n",
      "35/35 [==============================] - 3s 60ms/step - loss: 13.8674 - accuracy: 0.4141 - val_loss: 4.3215 - val_accuracy: 0.4086\n",
      "Epoch 2/20\n",
      "35/35 [==============================] - 2s 44ms/step - loss: 2.4333 - accuracy: 0.4397 - val_loss: 1.5897 - val_accuracy: 0.5032\n",
      "Epoch 3/20\n",
      "35/35 [==============================] - 2s 43ms/step - loss: 1.3752 - accuracy: 0.5453 - val_loss: 1.2669 - val_accuracy: 0.5634\n",
      "Epoch 4/20\n",
      "35/35 [==============================] - 2s 44ms/step - loss: 1.2024 - accuracy: 0.5949 - val_loss: 1.1992 - val_accuracy: 0.5763\n",
      "Epoch 5/20\n",
      "35/35 [==============================] - 1s 42ms/step - loss: 1.1393 - accuracy: 0.6238 - val_loss: 1.1704 - val_accuracy: 0.6151\n",
      "Epoch 6/20\n",
      "35/35 [==============================] - 1s 42ms/step - loss: 1.0872 - accuracy: 0.6483 - val_loss: 1.1686 - val_accuracy: 0.6215\n",
      "Epoch 7/20\n",
      "35/35 [==============================] - 2s 43ms/step - loss: 1.0350 - accuracy: 0.6725 - val_loss: 1.1755 - val_accuracy: 0.6108\n",
      "Epoch 8/20\n",
      "35/35 [==============================] - 1s 43ms/step - loss: 0.9982 - accuracy: 0.6871 - val_loss: 1.1771 - val_accuracy: 0.6237\n",
      "Epoch 9/20\n",
      "35/35 [==============================] - 2s 44ms/step - loss: 0.9883 - accuracy: 0.6975 - val_loss: 1.2112 - val_accuracy: 0.5978\n",
      "Epoch 10/20\n",
      "35/35 [==============================] - 2s 45ms/step - loss: 0.9526 - accuracy: 0.7153 - val_loss: 1.1953 - val_accuracy: 0.6129\n",
      "Epoch 11/20\n",
      "35/35 [==============================] - 2s 45ms/step - loss: 0.9159 - accuracy: 0.7285 - val_loss: 1.1994 - val_accuracy: 0.6065\n",
      "Epoch 12/20\n",
      "35/35 [==============================] - 2s 45ms/step - loss: 0.9223 - accuracy: 0.7304 - val_loss: 1.2615 - val_accuracy: 0.6043\n",
      "Epoch 13/20\n",
      "35/35 [==============================] - 2s 44ms/step - loss: 0.9084 - accuracy: 0.7432 - val_loss: 1.2756 - val_accuracy: 0.6086\n",
      "Epoch 14/20\n",
      "35/35 [==============================] - 2s 46ms/step - loss: 0.8704 - accuracy: 0.7543 - val_loss: 1.2876 - val_accuracy: 0.5957\n",
      "Epoch 15/20\n",
      "35/35 [==============================] - 2s 44ms/step - loss: 0.8464 - accuracy: 0.7664 - val_loss: 1.2855 - val_accuracy: 0.6108\n",
      "Epoch 16/20\n",
      "35/35 [==============================] - 2s 44ms/step - loss: 0.8191 - accuracy: 0.7764 - val_loss: 1.2890 - val_accuracy: 0.6258\n",
      "Epoch 17/20\n",
      "35/35 [==============================] - 2s 44ms/step - loss: 0.8001 - accuracy: 0.7843 - val_loss: 1.3488 - val_accuracy: 0.6151\n",
      "Epoch 18/20\n",
      "35/35 [==============================] - 2s 45ms/step - loss: 0.7757 - accuracy: 0.7944 - val_loss: 1.3395 - val_accuracy: 0.5978\n",
      "Epoch 19/20\n",
      "35/35 [==============================] - 2s 46ms/step - loss: 0.7654 - accuracy: 0.7964 - val_loss: 1.3583 - val_accuracy: 0.5978\n",
      "Epoch 20/20\n",
      "35/35 [==============================] - 2s 44ms/step - loss: 0.7562 - accuracy: 0.8012 - val_loss: 1.3928 - val_accuracy: 0.5978\n"
     ]
    },
    {
     "name": "stderr",
     "output_type": "stream",
     "text": [
      "[I 2024-04-14 07:56:38,448] Trial 19 finished with value: 0.5978494882583618 and parameters: {'beta1': 0.9141047582362605, 'learning_rate': 0.0033303820029678033}. Best is trial 8 with value: 0.6236559152603149.\n"
     ]
    },
    {
     "name": "stdout",
     "output_type": "stream",
     "text": [
      "Epoch 1/20\n",
      "35/35 [==============================] - 3s 58ms/step - loss: 8.4132 - accuracy: 0.4524 - val_loss: 2.8695 - val_accuracy: 0.5441\n",
      "Epoch 2/20\n",
      "35/35 [==============================] - 2s 45ms/step - loss: 2.2028 - accuracy: 0.5612 - val_loss: 1.6217 - val_accuracy: 0.5720\n",
      "Epoch 3/20\n",
      "35/35 [==============================] - 2s 46ms/step - loss: 1.4533 - accuracy: 0.6054 - val_loss: 1.4143 - val_accuracy: 0.5613\n",
      "Epoch 4/20\n",
      "35/35 [==============================] - 2s 45ms/step - loss: 1.2967 - accuracy: 0.6362 - val_loss: 1.3586 - val_accuracy: 0.5699\n",
      "Epoch 5/20\n",
      "35/35 [==============================] - 2s 44ms/step - loss: 1.2252 - accuracy: 0.6545 - val_loss: 1.3742 - val_accuracy: 0.5892\n",
      "Epoch 6/20\n",
      "35/35 [==============================] - 2s 44ms/step - loss: 1.1628 - accuracy: 0.6788 - val_loss: 1.3311 - val_accuracy: 0.6000\n",
      "Epoch 7/20\n",
      "35/35 [==============================] - 2s 43ms/step - loss: 1.0980 - accuracy: 0.7080 - val_loss: 1.3745 - val_accuracy: 0.6043\n",
      "Epoch 8/20\n",
      "35/35 [==============================] - ETA: 0s - loss: 1.0684 - accuracy: 0.7229"
     ]
    },
    {
     "name": "stderr",
     "output_type": "stream",
     "text": [
      "[I 2024-04-14 07:56:53,047] Trial 20 pruned. Trial was pruned at epoch 7.\n"
     ]
    },
    {
     "name": "stdout",
     "output_type": "stream",
     "text": [
      "Epoch 1/20\n",
      "35/35 [==============================] - 4s 62ms/step - loss: 14.8565 - accuracy: 0.4365 - val_loss: 5.6452 - val_accuracy: 0.5161\n",
      "Epoch 2/20\n",
      "35/35 [==============================] - 2s 46ms/step - loss: 3.0588 - accuracy: 0.5162 - val_loss: 1.8313 - val_accuracy: 0.5548\n",
      "Epoch 3/20\n",
      "35/35 [==============================] - 2s 44ms/step - loss: 1.4956 - accuracy: 0.5737 - val_loss: 1.2711 - val_accuracy: 0.5699\n",
      "Epoch 4/20\n",
      "35/35 [==============================] - 2s 43ms/step - loss: 1.1998 - accuracy: 0.6079 - val_loss: 1.1672 - val_accuracy: 0.6022\n",
      "Epoch 5/20\n",
      "35/35 [==============================] - 2s 46ms/step - loss: 1.1161 - accuracy: 0.6349 - val_loss: 1.1823 - val_accuracy: 0.6086\n",
      "Epoch 6/20\n",
      "35/35 [==============================] - 2s 45ms/step - loss: 1.0820 - accuracy: 0.6522 - val_loss: 1.1621 - val_accuracy: 0.5935\n",
      "Epoch 7/20\n",
      "35/35 [==============================] - 2s 46ms/step - loss: 1.0317 - accuracy: 0.6704 - val_loss: 1.1721 - val_accuracy: 0.5978\n",
      "Epoch 8/20\n",
      "35/35 [==============================] - 2s 44ms/step - loss: 0.9890 - accuracy: 0.6893 - val_loss: 1.1607 - val_accuracy: 0.6172\n",
      "Epoch 9/20\n",
      "35/35 [==============================] - 2s 43ms/step - loss: 0.9508 - accuracy: 0.6991 - val_loss: 1.1563 - val_accuracy: 0.6323\n",
      "Epoch 10/20\n",
      "35/35 [==============================] - 2s 46ms/step - loss: 0.9323 - accuracy: 0.7115 - val_loss: 1.1753 - val_accuracy: 0.6387\n",
      "Epoch 11/20\n",
      "35/35 [==============================] - 2s 45ms/step - loss: 0.8895 - accuracy: 0.7349 - val_loss: 1.2191 - val_accuracy: 0.6108\n",
      "Epoch 12/20\n",
      "35/35 [==============================] - 2s 44ms/step - loss: 0.8666 - accuracy: 0.7426 - val_loss: 1.2049 - val_accuracy: 0.6194\n",
      "Epoch 13/20\n",
      "35/35 [==============================] - 2s 46ms/step - loss: 0.8362 - accuracy: 0.7526 - val_loss: 1.1993 - val_accuracy: 0.6301\n",
      "Epoch 14/20\n",
      "35/35 [==============================] - 2s 45ms/step - loss: 0.7977 - accuracy: 0.7689 - val_loss: 1.2053 - val_accuracy: 0.6280\n",
      "Epoch 15/20\n",
      "35/35 [==============================] - 2s 44ms/step - loss: 0.7671 - accuracy: 0.7779 - val_loss: 1.2465 - val_accuracy: 0.6280\n",
      "Epoch 16/20\n",
      "35/35 [==============================] - 2s 45ms/step - loss: 0.7642 - accuracy: 0.7833 - val_loss: 1.2894 - val_accuracy: 0.6129\n",
      "Epoch 17/20\n",
      "35/35 [==============================] - 2s 43ms/step - loss: 0.7194 - accuracy: 0.8016 - val_loss: 1.2667 - val_accuracy: 0.6151\n",
      "Epoch 18/20\n",
      "35/35 [==============================] - 1s 43ms/step - loss: 0.7083 - accuracy: 0.8044 - val_loss: 1.3427 - val_accuracy: 0.6000\n",
      "Epoch 19/20\n",
      "35/35 [==============================] - 2s 46ms/step - loss: 0.6856 - accuracy: 0.8117 - val_loss: 1.3300 - val_accuracy: 0.6151\n",
      "Epoch 20/20\n",
      "35/35 [==============================] - 2s 45ms/step - loss: 0.6876 - accuracy: 0.8121 - val_loss: 1.3629 - val_accuracy: 0.5935\n"
     ]
    },
    {
     "name": "stderr",
     "output_type": "stream",
     "text": [
      "[I 2024-04-14 07:57:26,870] Trial 21 finished with value: 0.5935483574867249 and parameters: {'beta1': 0.9292815195760659, 'learning_rate': 0.0029114117571686403}. Best is trial 8 with value: 0.6236559152603149.\n"
     ]
    },
    {
     "name": "stdout",
     "output_type": "stream",
     "text": [
      "Epoch 1/20\n",
      "35/35 [==============================] - 4s 60ms/step - loss: 19.7656 - accuracy: 0.3994 - val_loss: 12.8100 - val_accuracy: 0.5161\n",
      "Epoch 2/20\n",
      "35/35 [==============================] - 2s 44ms/step - loss: 8.3603 - accuracy: 0.4606 - val_loss: 4.5127 - val_accuracy: 0.5140\n",
      "Epoch 3/20\n",
      "35/35 [==============================] - 1s 42ms/step - loss: 2.7528 - accuracy: 0.5007 - val_loss: 1.8136 - val_accuracy: 0.5183\n",
      "Epoch 4/20\n",
      "35/35 [==============================] - 2s 44ms/step - loss: 1.5302 - accuracy: 0.5435 - val_loss: 1.3132 - val_accuracy: 0.5634\n",
      "Epoch 5/20\n",
      " 9/35 [======>.......................] - ETA: 1s - loss: 1.2555 - accuracy: 0.5751"
     ]
    }
   ],
   "source": [
    "study = optuna.create_study(direction=\"maximize\",\n",
    "                            pruner=optuna.pruners.MedianPruner(n_startup_trials=2, n_min_trials=3, n_warmup_steps=3))\n",
    "study.optimize(objective, n_trials=30)\n",
    "\n",
    "df = study.trials_dataframe()\n",
    "df.to_csv('data/study_two_layers_lr.csv')\n",
    "study.best_params  "
   ],
   "metadata": {
    "collapsed": false,
    "is_executing": true,
    "ExecuteTime": {
     "start_time": "2024-04-14T04:49:49.470424Z"
    }
   },
   "id": "1795d18e8e949bce",
   "execution_count": null
  }
 ],
 "metadata": {
  "kernelspec": {
   "display_name": "Python 3",
   "language": "python",
   "name": "python3"
  },
  "language_info": {
   "codemirror_mode": {
    "name": "ipython",
    "version": 2
   },
   "file_extension": ".py",
   "mimetype": "text/x-python",
   "name": "python",
   "nbconvert_exporter": "python",
   "pygments_lexer": "ipython2",
   "version": "2.7.6"
  }
 },
 "nbformat": 4,
 "nbformat_minor": 5
}
