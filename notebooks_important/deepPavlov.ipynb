{
  "cells": [
    {
      "cell_type": "code",
      "execution_count": 4,
      "id": "0db4979a",
      "metadata": {
        "ExecuteTime": {
          "end_time": "2024-04-13T12:41:03.905939Z",
          "start_time": "2024-04-13T12:41:03.901677Z"
        },
        "id": "0db4979a"
      },
      "outputs": [],
      "source": [
        "import json\n",
        "import pathlib\n",
        "import typing as tp\n",
        "from natasha import (\n",
        "    Segmenter,\n",
        "    NewsNERTagger,\n",
        "    NewsEmbedding,\n",
        "    Doc\n",
        ")\n",
        "from pymorphy2 import MorphAnalyzer\n",
        "import pickle\n",
        "import math\n",
        "from collections import Counter"
      ]
    },
    {
      "cell_type": "code",
      "execution_count": 1,
      "id": "6d838363",
      "metadata": {
        "ExecuteTime": {
          "end_time": "2024-04-13T12:42:47.601263Z",
          "start_time": "2024-04-13T12:42:47.565512Z"
        },
        "colab": {
          "base_uri": "https://localhost:8080/",
          "height": 173
        },
        "id": "6d838363",
        "outputId": "7efe8296-0f93-4ca0-9d19-8893f19dc407"
      },
      "outputs": [],
      "source": [
        "with open('sentiment_texts.pickle', 'rb') as f1:\n",
        "    sentiment_texts = pickle.load(f1)"
      ]
    },
    {
      "cell_type": "code",
      "execution_count": null,
      "id": "446e3507",
      "metadata": {
        "ExecuteTime": {
          "end_time": "2024-04-13T11:22:55.064845Z",
          "start_time": "2024-04-13T11:22:55.060096Z"
        },
        "id": "446e3507"
      },
      "outputs": [],
      "source": [
        "def normalize_company_name(name):\n",
        "    morph = MorphAnalyzer()\n",
        "    normalized_words = []\n",
        "    for word in name.split():\n",
        "        parsed_word = morph.parse(word)[0]\n",
        "        normalized_word = parsed_word.inflect({'nomn', 'sing'})\n",
        "        if normalized_word:\n",
        "            normalized_words.append(normalized_word.word)\n",
        "        else:\n",
        "            normalized_words.append(word)\n",
        "    return ' '.join(normalized_words)"
      ]
    },
    {
      "cell_type": "code",
      "execution_count": null,
      "id": "27f4348a",
      "metadata": {
        "ExecuteTime": {
          "end_time": "2024-04-13T11:22:55.072381Z",
          "start_time": "2024-04-13T11:22:55.067464Z"
        },
        "id": "27f4348a"
      },
      "outputs": [],
      "source": [
        "def extract_company_names(text):\n",
        "    segmenter = Segmenter()\n",
        "    emb = NewsEmbedding()\n",
        "    ner_tagger = NewsNERTagger(emb)\n",
        "\n",
        "    doc = Doc(text)\n",
        "    doc.segment(segmenter)\n",
        "    doc.tag_ner(ner_tagger)\n",
        "\n",
        "    companies = [span.text for span in doc.spans if span.type == 'ORG']\n",
        "    return [normalize_company_name(company) for company in companies]\n"
      ]
    },
    {
      "cell_type": "code",
      "execution_count": null,
      "id": "de76e1a9",
      "metadata": {
        "ExecuteTime": {
          "end_time": "2024-04-13T11:22:55.078672Z",
          "start_time": "2024-04-13T11:22:55.074696Z"
        },
        "id": "de76e1a9"
      },
      "outputs": [],
      "source": [
        "def score_texts(texts):\n",
        "    results = []\n",
        "    i = 0\n",
        "    for text in texts:\n",
        "        print(i)\n",
        "        i+=1\n",
        "        company_names = extract_company_names(text)\n",
        "        company_names_str = ', '.join(company_names) if company_names else \"\"\n",
        "        results.append(f\"[{company_names_str}] {text}\")\n",
        "    return results"
      ]
    },
    {
      "cell_type": "code",
      "execution_count": null,
      "id": "dfcd9679",
      "metadata": {
        "ExecuteTime": {
          "end_time": "2024-04-13T11:22:58.054519Z",
          "start_time": "2024-04-13T11:22:55.081005Z"
        },
        "id": "dfcd9679"
      },
      "outputs": [],
      "source": [
        "scores = score_texts(sentiment_texts['MessageText'])\n",
        "print(scores)"
      ]
    },
    {
      "cell_type": "code",
      "execution_count": null,
      "id": "b19a5208",
      "metadata": {
        "ExecuteTime": {
          "end_time": "2024-04-13T11:23:16.775577Z",
          "start_time": "2024-04-13T11:22:58.057263Z"
        },
        "id": "b19a5208"
      },
      "outputs": [],
      "source": [
        "from deeppavlov import build_model, configs\n",
        "\n",
        "def sentiment_model():\n",
        "    model = build_model(configs.classifiers.rusentiment_convers_bert, download=True)\n",
        "    return model\n",
        "\n",
        "model = sentiment_model()"
      ]
    },
    {
      "cell_type": "code",
      "execution_count": null,
      "id": "59bce916",
      "metadata": {
        "ExecuteTime": {
          "end_time": "2024-04-13T11:23:16.785084Z",
          "start_time": "2024-04-13T11:23:16.778137Z"
        },
        "id": "59bce916"
      },
      "outputs": [],
      "source": [
        "def analyze_sentiment(text):\n",
        "    return model([text])[0]\n"
      ]
    },
    {
      "cell_type": "code",
      "execution_count": null,
      "id": "e3889680",
      "metadata": {
        "ExecuteTime": {
          "end_time": "2024-04-13T11:23:16.793620Z",
          "start_time": "2024-04-13T11:23:16.789030Z"
        },
        "id": "e3889680"
      },
      "outputs": [],
      "source": [
        "def score_texts(texts):\n",
        "    results = []\n",
        "    for text in texts:\n",
        "        company_names = extract_company_names(text)\n",
        "        sentiment = analyze_sentiment(text)\n",
        "        company_names_str = ', '.join(company_names) if company_names else \"No company names\"\n",
        "        results.append(f\"Sentiment: {sentiment}, Companies: {company_names_str}, Text: {text}\")\n",
        "    return results"
      ]
    },
    {
      "cell_type": "code",
      "execution_count": null,
      "id": "2cd10ecc",
      "metadata": {
        "ExecuteTime": {
          "end_time": "2024-04-13T12:21:40.804007Z",
          "start_time": "2024-04-13T12:21:40.584847Z"
        },
        "id": "2cd10ecc"
      },
      "outputs": [],
      "source": [
        "from dostoevsky.tokenization import RegexTokenizer\n",
        "from dostoevsky.models import FastTextSocialNetworkModel\n",
        "\n",
        "tokenizer = RegexTokenizer()\n",
        "FastTextSocialNetworkModel.MODEL_PATH = 'nltk_data/fasttext-social-network-model.bin'\n",
        "model = FastTextSocialNetworkModel(tokenizer=tokenizer)\n",
        "sentiment_list = []\n",
        "results = model.predict(sentiment_texts['MessageText'], k=2)\n",
        "for sentiment in results:\n",
        "    sentiment_list.append(sentiment)"
      ]
    },
    {
      "cell_type": "code",
      "execution_count": null,
      "id": "d08fd91b",
      "metadata": {
        "ExecuteTime": {
          "end_time": "2024-04-13T12:21:59.094501Z",
          "start_time": "2024-04-13T12:21:59.090115Z"
        },
        "id": "d08fd91b"
      },
      "outputs": [],
      "source": [
        "print(sentiment_list[3])"
      ]
    },
    {
      "cell_type": "code",
      "execution_count": null,
      "id": "oguWF5i5mqOo",
      "metadata": {
        "id": "oguWF5i5mqOo"
      },
      "outputs": [],
      "source": [
        "keys = set()\n",
        "for i in sentiment_list:\n",
        "  for key, value in i.items():\n",
        "    keys.add(key)\n",
        "print(keys)"
      ]
    },
    {
      "cell_type": "code",
      "execution_count": null,
      "id": "e8f46b41",
      "metadata": {
        "ExecuteTime": {
          "end_time": "2024-04-13T12:35:08.469410Z",
          "start_time": "2024-04-13T12:35:08.463758Z"
        },
        "id": "e8f46b41"
      },
      "outputs": [],
      "source": [
        "def sentiment_score(sentiment_data):\n",
        "    weights = {'negative': 1, 'neutral': 3.5, 'positive': 5, 'skip':0, 'speech':0}\n",
        "    scores = []\n",
        "    count = 0\n",
        "    for data in sentiment_data:\n",
        "        score = sum(data.get(key, 0) * weight for key, weight in weights.items())\n",
        "        scores.append(min(5, math.ceil(score)))\n",
        "        count += 1\n",
        "\n",
        "    return scores"
      ]
    },
    {
      "cell_type": "code",
      "execution_count": null,
      "id": "a9f9ac9f",
      "metadata": {
        "ExecuteTime": {
          "end_time": "2024-04-13T12:35:09.480652Z",
          "start_time": "2024-04-13T12:35:09.476059Z"
        },
        "id": "a9f9ac9f"
      },
      "outputs": [],
      "source": [
        "print(sentiment_score(sentiment_list)[3])"
      ]
    },
    {
      "cell_type": "code",
      "execution_count": null,
      "id": "1b3f0428",
      "metadata": {
        "id": "1b3f0428"
      },
      "outputs": [],
      "source": [
        "print(Counter(sentiment_score(sentiment_list)))"
      ]
    }
  ],
  "metadata": {
    "colab": {
      "provenance": []
    },
    "kernelspec": {
      "display_name": "Python 3",
      "name": "python3"
    },
    "language_info": {
      "codemirror_mode": {
        "name": "ipython",
        "version": 3
      },
      "file_extension": ".py",
      "mimetype": "text/x-python",
      "name": "python",
      "nbconvert_exporter": "python",
      "pygments_lexer": "ipython3",
      "version": "3.9.13"
    }
  },
  "nbformat": 4,
  "nbformat_minor": 5
}
