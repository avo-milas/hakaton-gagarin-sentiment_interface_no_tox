{
 "cells": [
  {
   "cell_type": "code",
   "execution_count": 156,
   "id": "initial_id",
   "metadata": {
    "collapsed": true,
    "ExecuteTime": {
     "end_time": "2024-04-14T05:15:17.851313Z",
     "start_time": "2024-04-14T05:15:17.833286Z"
    }
   },
   "outputs": [],
   "source": [
    "import pandas as pd\n",
    "\n",
    "from tensorflow.keras.preprocessing.text import Tokenizer\n",
    "from tensorflow.keras.preprocessing.sequence import pad_sequences\n",
    "from tensorflow.keras.models import Sequential\n",
    "from keras.layers import Dense, Embedding, CuDNNLSTM, SpatialDropout1D\n",
    "import tensorflow as tf\n",
    "from keras import regularizers"
   ]
  },
  {
   "cell_type": "code",
   "outputs": [
    {
     "name": "stdout",
     "output_type": "stream",
     "text": [
      "Num GPUs Available:  1\n"
     ]
    }
   ],
   "source": [
    "print(\"Num GPUs Available: \", len(tf.config.list_physical_devices('GPU')))"
   ],
   "metadata": {
    "collapsed": false,
    "ExecuteTime": {
     "end_time": "2024-04-14T05:15:17.866313Z",
     "start_time": "2024-04-14T05:15:17.857316Z"
    }
   },
   "id": "857e7fa3168be9fe",
   "execution_count": 157
  },
  {
   "cell_type": "code",
   "execution_count": 158,
   "outputs": [],
   "source": [
    "import pickle\n",
    "\n",
    "emojis = pd.read_csv('data/Emoji_Sentiment_Data_v1.0.csv')\n",
    "sentiment = pd.read_csv('data/sentiment.csv')\n",
    "with open('data/sentiment_texts_demoji.pickle', 'rb') as f:\n",
    "    texts = pickle.load(f)\n",
    "\n",
    "x, y = texts.MessageText, texts.SentimentScore"
   ],
   "metadata": {
    "collapsed": false,
    "ExecuteTime": {
     "end_time": "2024-04-14T05:15:17.993322Z",
     "start_time": "2024-04-14T05:15:17.870313Z"
    }
   },
   "id": "65612027d9a8910e"
  },
  {
   "cell_type": "code",
   "execution_count": 159,
   "outputs": [],
   "source": [
    "from sklearn.model_selection import train_test_split\n",
    "\n",
    "max_features = 3000\n",
    "tokenizer = Tokenizer(num_words=max_features, split=' ')\n",
    "tokenizer.fit_on_texts(x)\n",
    "x = tokenizer.texts_to_sequences(x)\n",
    "x = pad_sequences(x)\n",
    "\n",
    "X_train, X_test, y_train, y_test = train_test_split(x, y, test_size=0.05, random_state=42)\n",
    "y_train = pd.get_dummies(y_train).values\n",
    "y_val = pd.get_dummies(y_test).values"
   ],
   "metadata": {
    "collapsed": false,
    "ExecuteTime": {
     "end_time": "2024-04-14T05:15:22.872326Z",
     "start_time": "2024-04-14T05:15:17.997285Z"
    }
   },
   "id": "2247e20b5f8e6c7b"
  },
  {
   "cell_type": "code",
   "execution_count": 181,
   "outputs": [
    {
     "name": "stdout",
     "output_type": "stream",
     "text": [
      "Epoch 1/40\n",
      "18/18 [==============================] - 5s 132ms/step - loss: 60.3460 - accuracy: 0.3948 - val_loss: 46.9585 - val_accuracy: 0.3978\n",
      "Epoch 2/40\n",
      "18/18 [==============================] - 2s 94ms/step - loss: 37.8259 - accuracy: 0.4676 - val_loss: 27.7935 - val_accuracy: 0.5226\n",
      "Epoch 3/40\n",
      "18/18 [==============================] - 2s 91ms/step - loss: 21.1513 - accuracy: 0.5078 - val_loss: 14.0823 - val_accuracy: 0.5355\n",
      "Epoch 4/40\n",
      "18/18 [==============================] - 2s 96ms/step - loss: 9.8394 - accuracy: 0.5367 - val_loss: 5.6108 - val_accuracy: 0.5269\n",
      "Epoch 5/40\n",
      "18/18 [==============================] - 2s 95ms/step - loss: 3.7449 - accuracy: 0.5495 - val_loss: 2.4033 - val_accuracy: 0.5183\n",
      "Epoch 6/40\n",
      "18/18 [==============================] - 2s 93ms/step - loss: 2.1149 - accuracy: 0.5762 - val_loss: 1.6652 - val_accuracy: 0.5957\n",
      "Epoch 7/40\n",
      "18/18 [==============================] - 2s 95ms/step - loss: 1.4956 - accuracy: 0.6094 - val_loss: 1.3822 - val_accuracy: 0.5742\n",
      "Epoch 8/40\n",
      "18/18 [==============================] - 2s 95ms/step - loss: 1.2638 - accuracy: 0.6337 - val_loss: 1.2777 - val_accuracy: 0.6000\n",
      "Epoch 9/40\n",
      "18/18 [==============================] - 2s 94ms/step - loss: 1.1837 - accuracy: 0.6397 - val_loss: 1.2363 - val_accuracy: 0.6000\n",
      "Epoch 10/40\n",
      "18/18 [==============================] - 2s 96ms/step - loss: 1.1221 - accuracy: 0.6685 - val_loss: 1.2520 - val_accuracy: 0.6086\n",
      "Epoch 11/40\n",
      "18/18 [==============================] - 2s 96ms/step - loss: 1.0905 - accuracy: 0.6734 - val_loss: 1.2407 - val_accuracy: 0.5828\n",
      "Epoch 12/40\n",
      "18/18 [==============================] - 2s 93ms/step - loss: 1.0578 - accuracy: 0.6880 - val_loss: 1.2589 - val_accuracy: 0.6129\n",
      "Epoch 13/40\n",
      "18/18 [==============================] - 2s 93ms/step - loss: 1.0194 - accuracy: 0.7007 - val_loss: 1.2939 - val_accuracy: 0.5914\n",
      "Epoch 14/40\n",
      "18/18 [==============================] - 2s 96ms/step - loss: 1.0151 - accuracy: 0.7077 - val_loss: 1.3108 - val_accuracy: 0.6108\n",
      "Epoch 15/40\n",
      "18/18 [==============================] - 2s 95ms/step - loss: 0.9946 - accuracy: 0.7155 - val_loss: 1.2808 - val_accuracy: 0.5871\n",
      "Epoch 16/40\n",
      "18/18 [==============================] - 2s 96ms/step - loss: 0.9607 - accuracy: 0.7293 - val_loss: 1.2878 - val_accuracy: 0.6194\n",
      "Epoch 17/40\n",
      "18/18 [==============================] - 2s 95ms/step - loss: 0.9372 - accuracy: 0.7387 - val_loss: 1.3011 - val_accuracy: 0.6000\n",
      "Epoch 18/40\n",
      "18/18 [==============================] - 2s 97ms/step - loss: 0.9160 - accuracy: 0.7506 - val_loss: 1.3041 - val_accuracy: 0.6172\n",
      "Epoch 19/40\n",
      "18/18 [==============================] - 2s 93ms/step - loss: 0.8995 - accuracy: 0.7576 - val_loss: 1.3092 - val_accuracy: 0.6280\n",
      "Epoch 20/40\n",
      "18/18 [==============================] - 2s 94ms/step - loss: 0.8732 - accuracy: 0.7701 - val_loss: 1.2992 - val_accuracy: 0.6065\n",
      "Epoch 21/40\n",
      "18/18 [==============================] - 2s 94ms/step - loss: 0.8526 - accuracy: 0.7744 - val_loss: 1.3190 - val_accuracy: 0.6043\n",
      "Epoch 22/40\n",
      "18/18 [==============================] - 2s 97ms/step - loss: 0.8387 - accuracy: 0.7786 - val_loss: 1.3541 - val_accuracy: 0.6258\n",
      "Epoch 23/40\n",
      "18/18 [==============================] - 2s 98ms/step - loss: 0.8309 - accuracy: 0.7815 - val_loss: 1.3575 - val_accuracy: 0.6215\n",
      "Epoch 24/40\n",
      "18/18 [==============================] - 2s 94ms/step - loss: 0.8080 - accuracy: 0.7942 - val_loss: 1.3393 - val_accuracy: 0.6086\n",
      "Epoch 25/40\n",
      "18/18 [==============================] - 2s 96ms/step - loss: 0.7943 - accuracy: 0.8003 - val_loss: 1.3802 - val_accuracy: 0.6151\n",
      "Epoch 26/40\n",
      "18/18 [==============================] - 2s 94ms/step - loss: 0.7813 - accuracy: 0.8001 - val_loss: 1.4044 - val_accuracy: 0.6129\n",
      "Epoch 27/40\n",
      "18/18 [==============================] - 2s 95ms/step - loss: 0.7888 - accuracy: 0.8025 - val_loss: 1.4447 - val_accuracy: 0.6043\n",
      "Epoch 28/40\n",
      "18/18 [==============================] - 2s 93ms/step - loss: 0.7703 - accuracy: 0.8093 - val_loss: 1.4238 - val_accuracy: 0.6237\n",
      "Epoch 29/40\n",
      "18/18 [==============================] - 2s 95ms/step - loss: 0.7555 - accuracy: 0.8123 - val_loss: 1.4348 - val_accuracy: 0.6065\n",
      "Epoch 30/40\n",
      "18/18 [==============================] - 2s 96ms/step - loss: 0.7551 - accuracy: 0.8115 - val_loss: 1.4437 - val_accuracy: 0.6022\n",
      "Epoch 31/40\n",
      "18/18 [==============================] - 2s 95ms/step - loss: 0.7691 - accuracy: 0.8086 - val_loss: 1.4494 - val_accuracy: 0.6215\n",
      "Epoch 32/40\n",
      "18/18 [==============================] - 2s 94ms/step - loss: 0.7359 - accuracy: 0.8196 - val_loss: 1.4596 - val_accuracy: 0.6194\n",
      "Epoch 33/40\n",
      "18/18 [==============================] - 2s 92ms/step - loss: 0.7279 - accuracy: 0.8228 - val_loss: 1.4709 - val_accuracy: 0.5785\n",
      "Epoch 34/40\n",
      "18/18 [==============================] - 2s 90ms/step - loss: 0.7314 - accuracy: 0.8172 - val_loss: 1.4729 - val_accuracy: 0.6022\n",
      "Epoch 35/40\n",
      "18/18 [==============================] - 2s 95ms/step - loss: 0.6999 - accuracy: 0.8332 - val_loss: 1.4978 - val_accuracy: 0.6108\n",
      "Epoch 36/40\n",
      "18/18 [==============================] - 2s 95ms/step - loss: 0.7008 - accuracy: 0.8294 - val_loss: 1.5335 - val_accuracy: 0.5935\n",
      "Epoch 37/40\n",
      "18/18 [==============================] - 2s 97ms/step - loss: 0.6992 - accuracy: 0.8333 - val_loss: 1.5026 - val_accuracy: 0.6151\n",
      "Epoch 38/40\n",
      "18/18 [==============================] - 2s 95ms/step - loss: 0.6867 - accuracy: 0.8366 - val_loss: 1.5242 - val_accuracy: 0.5978\n",
      "Epoch 39/40\n",
      "18/18 [==============================] - 2s 93ms/step - loss: 0.6879 - accuracy: 0.8378 - val_loss: 1.5587 - val_accuracy: 0.5763\n",
      "Epoch 40/40\n",
      "18/18 [==============================] - 2s 95ms/step - loss: 0.6973 - accuracy: 0.8319 - val_loss: 1.5542 - val_accuracy: 0.5978\n"
     ]
    }
   ],
   "source": [
    "from keras.layers import Bidirectional, Conv1D, MaxPooling1D\n",
    "from keras.optimizers import RMSprop, Adam\n",
    "import optuna\n",
    "from optuna.integration import TFKerasPruningCallback\n",
    "\n",
    "embed_dim = 115\n",
    "lstm1_out = 35\n",
    "\n",
    "spat_dropout = 0.25\n",
    "\n",
    "l1 = 0.075\n",
    "l2 = 0.07\n",
    "\n",
    "beta1 = 0.92\n",
    "beta2 = 0.9\n",
    "\n",
    "\n",
    "learning_rate = 0.002\n",
    "batch_size = 512\n",
    "\n",
    "model = Sequential()\n",
    "model.add(Embedding(max_features, embed_dim, input_length=X_train.shape[1]))\n",
    "model.add(SpatialDropout1D(spat_dropout))\n",
    "model.add(Conv1D(filters=32, kernel_size=3, padding='same', activation='relu'))\n",
    "model.add(MaxPooling1D(pool_size=2))\n",
    "model.add(Bidirectional(CuDNNLSTM(lstm1_out, kernel_regularizer=regularizers.L1L2(l1=l1, l2=l2))))\n",
    "#model.add(CuDNNLSTM(lstm2_out, kernel_regularizer=regularizers.L1L2(l1=l1, l2=l2)))\n",
    "model.add(Dense(6, activation='softmax'))\n",
    "# model.compile(loss='categorical_crossentropy', optimizer=RMSprop(learning_rate=learning_rate), metrics=['accuracy'])\n",
    "model.compile(loss='categorical_crossentropy', optimizer=Adam(learning_rate, beta_1=beta1, beta_2=beta2),\n",
    "              metrics=['accuracy'])\n",
    "model.build(X_train.shape[1])\n",
    "#y_pred = model.predict(X_test).argmax(axis=1)\n",
    "\n",
    "\n",
    "history = model.fit(X_train, y_train, epochs=40, batch_size=batch_size, verbose=1, validation_data=(X_test, y_val))"
   ],
   "metadata": {
    "collapsed": false,
    "ExecuteTime": {
     "end_time": "2024-04-14T05:26:10.075738Z",
     "start_time": "2024-04-14T05:24:58.153733Z"
    }
   },
   "id": "6472de776c96a9b6"
  },
  {
   "cell_type": "code",
   "execution_count": 177,
   "outputs": [
    {
     "data": {
      "text/plain": "<Figure size 640x480 with 1 Axes>",
      "image/png": "[encoded data removed]"
     },
     "metadata": {},
     "output_type": "display_data"
    }
   ],
   "source": [
    "from matplotlib import pyplot\n",
    "\n",
    "pyplot.plot(history.history['loss'])\n",
    "pyplot.plot(history.history['val_loss'])\n",
    "pyplot.title('model train vs validation loss')\n",
    "pyplot.ylabel('loss')\n",
    "pyplot.xlabel('epoch')\n",
    "pyplot.legend(['train', 'validation'], loc='upper right')\n",
    "pyplot.show()"
   ],
   "metadata": {
    "collapsed": false,
    "ExecuteTime": {
     "end_time": "2024-04-14T05:23:06.668281Z",
     "start_time": "2024-04-14T05:23:06.239315Z"
    }
   },
   "id": "dec0b3ba195926ec"
  },
  {
   "cell_type": "code",
   "execution_count": 180,
   "outputs": [
    {
     "name": "stdout",
     "output_type": "stream",
     "text": [
      "15/15 [==============================] - 1s 31ms/step\n",
      "0.6039096134797622\n"
     ]
    }
   ],
   "source": [
    "from sklearn.metrics import accuracy_score, f1_score\n",
    "\n",
    "\n",
    "def final_score(y_test, y_pred):\n",
    "    f1 = f1_score(y_test, y_pred, average='weighted')\n",
    "    accuracy = accuracy_score(y_test, y_pred)\n",
    "    return (f1 + accuracy) / 2\n",
    "\n",
    "\n",
    "y_pred = model.predict(X_test).argmax(axis=1)\n",
    "print(final_score(y_test, y_pred))"
   ],
   "metadata": {
    "collapsed": false,
    "ExecuteTime": {
     "end_time": "2024-04-14T05:24:45.573708Z",
     "start_time": "2024-04-14T05:24:44.503733Z"
    }
   },
   "id": "4c34cd38874ba221"
  }
 ],
 "metadata": {
  "kernelspec": {
   "display_name": "Python 3",
   "language": "python",
   "name": "python3"
  },
  "language_info": {
   "codemirror_mode": {
    "name": "ipython",
    "version": 2
   },
   "file_extension": ".py",
   "mimetype": "text/x-python",
   "name": "python",
   "nbconvert_exporter": "python",
   "pygments_lexer": "ipython2",
   "version": "2.7.6"
  }
 },
 "nbformat": 4,
 "nbformat_minor": 5
}
