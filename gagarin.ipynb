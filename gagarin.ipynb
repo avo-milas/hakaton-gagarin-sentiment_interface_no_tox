{
 "cells": [
  {
   "cell_type": "code",
   "source": [
    "pip install natasha"
   ],
   "metadata": {
    "colab": {
     "base_uri": "https://localhost:8080/"
    },
    "id": "95wiLre8Iey5",
    "outputId": "17e422d0-a6d2-4e8a-ef45-fff95deb1ea3"
   },
   "id": "95wiLre8Iey5",
   "execution_count": 3,
   "outputs": [
    {
     "output_type": "stream",
     "name": "stdout",
     "text": [
      "Requirement already satisfied: natasha in /usr/local/lib/python3.10/dist-packages (1.6.0)\n",
      "Requirement already satisfied: pymorphy2 in /usr/local/lib/python3.10/dist-packages (from natasha) (0.9.1)\n",
      "Requirement already satisfied: razdel>=0.5.0 in /usr/local/lib/python3.10/dist-packages (from natasha) (0.5.0)\n",
      "Requirement already satisfied: navec>=0.9.0 in /usr/local/lib/python3.10/dist-packages (from natasha) (0.10.0)\n",
      "Requirement already satisfied: slovnet>=0.6.0 in /usr/local/lib/python3.10/dist-packages (from natasha) (0.6.0)\n",
      "Requirement already satisfied: yargy>=0.16.0 in /usr/local/lib/python3.10/dist-packages (from natasha) (0.16.0)\n",
      "Requirement already satisfied: ipymarkup>=0.8.0 in /usr/local/lib/python3.10/dist-packages (from natasha) (0.9.0)\n",
      "Requirement already satisfied: intervaltree>=3 in /usr/local/lib/python3.10/dist-packages (from ipymarkup>=0.8.0->natasha) (3.1.0)\n",
      "Requirement already satisfied: numpy in /usr/local/lib/python3.10/dist-packages (from navec>=0.9.0->natasha) (1.25.2)\n",
      "Requirement already satisfied: dawg-python>=0.7.1 in /usr/local/lib/python3.10/dist-packages (from pymorphy2->natasha) (0.7.2)\n",
      "Requirement already satisfied: pymorphy2-dicts-ru<3.0,>=2.4 in /usr/local/lib/python3.10/dist-packages (from pymorphy2->natasha) (2.4.417127.4579844)\n",
      "Requirement already satisfied: docopt>=0.6 in /usr/local/lib/python3.10/dist-packages (from pymorphy2->natasha) (0.6.2)\n",
      "Requirement already satisfied: sortedcontainers<3.0,>=2.0 in /usr/local/lib/python3.10/dist-packages (from intervaltree>=3->ipymarkup>=0.8.0->natasha) (2.4.0)\n"
     ]
    }
   ]
  },
  {
   "cell_type": "code",
   "execution_count": 10,
   "id": "0db4979a",
   "metadata": {
    "id": "0db4979a",
    "ExecuteTime": {
     "end_time": "2024-04-13T20:19:08.250843Z",
     "start_time": "2024-04-13T20:19:08.182773Z"
    }
   },
   "outputs": [],
   "source": [
    "import json\n",
    "import pathlib\n",
    "import typing as tp\n",
    "from natasha import (\n",
    "    Segmenter,\n",
    "    NewsNERTagger,\n",
    "    NewsEmbedding,\n",
    "    Doc\n",
    ")\n",
    "from pymorphy2 import MorphAnalyzer"
   ]
  },
  {
   "cell_type": "code",
   "execution_count": 11,
   "id": "1c858176",
   "metadata": {
    "id": "1c858176",
    "ExecuteTime": {
     "end_time": "2024-04-13T20:19:09.592717Z",
     "start_time": "2024-04-13T20:19:09.574479Z"
    }
   },
   "outputs": [],
   "source": [
    "import pickle"
   ]
  },
  {
   "cell_type": "code",
   "execution_count": 12,
   "id": "6d838363",
   "metadata": {
    "id": "6d838363",
    "colab": {
     "base_uri": "https://localhost:8080/",
     "height": 173
    },
    "outputId": "7efe8296-0f93-4ca0-9d19-8893f19dc407",
    "ExecuteTime": {
     "end_time": "2024-04-13T20:19:10.150525Z",
     "start_time": "2024-04-13T20:19:10.048727Z"
    }
   },
   "outputs": [],
   "source": [
    "with open('data/sentiment_texts.pickle', 'rb') as f1:\n",
    "    sentiment_texts = pickle.load(f1)"
   ]
  },
  {
   "cell_type": "code",
   "execution_count": 13,
   "id": "446e3507",
   "metadata": {
    "id": "446e3507",
    "ExecuteTime": {
     "end_time": "2024-04-13T20:19:10.440859Z",
     "start_time": "2024-04-13T20:19:10.434642Z"
    }
   },
   "outputs": [],
   "source": [
    "def normalize_company_name(name):\n",
    "    morph = MorphAnalyzer()\n",
    "    normalized_words = []\n",
    "    for word in name.split():\n",
    "        parsed_word = morph.parse(word)[0]\n",
    "        normalized_word = parsed_word.inflect({'nomn', 'sing'})\n",
    "        if normalized_word:\n",
    "            normalized_words.append(normalized_word.word)\n",
    "        else:\n",
    "            normalized_words.append(word)\n",
    "    return ' '.join(normalized_words)"
   ]
  },
  {
   "cell_type": "code",
   "execution_count": 14,
   "id": "27f4348a",
   "metadata": {
    "id": "27f4348a",
    "ExecuteTime": {
     "end_time": "2024-04-13T20:19:11.130426Z",
     "start_time": "2024-04-13T20:19:11.123169Z"
    }
   },
   "outputs": [],
   "source": [
    "def extract_company_names(text):\n",
    "    segmenter = Segmenter()\n",
    "    emb = NewsEmbedding()\n",
    "    ner_tagger = NewsNERTagger(emb)\n",
    "\n",
    "    doc = Doc(text)\n",
    "    doc.segment(segmenter)\n",
    "    doc.tag_ner(ner_tagger)\n",
    "\n",
    "    companies = [span.text for span in doc.spans if span.type == 'ORG']\n",
    "    return [normalize_company_name(company) for company in companies]\n"
   ]
  },
  {
   "cell_type": "code",
   "execution_count": 16,
   "id": "de76e1a9",
   "metadata": {
    "id": "de76e1a9",
    "ExecuteTime": {
     "end_time": "2024-04-13T20:19:14.015431Z",
     "start_time": "2024-04-13T20:19:14.008424Z"
    }
   },
   "outputs": [],
   "source": [
    "def score_texts(texts):\n",
    "    results = []\n",
    "    i = 0\n",
    "    for text in texts:\n",
    "        print(i)\n",
    "        i+=1\n",
    "        company_names = extract_company_names(text)\n",
    "        company_names_str = ', '.join(company_names) if company_names else \"\"\n",
    "        results.append(f\"[{company_names_str}] {text}\")\n",
    "    return results"
   ]
  },
  {
   "cell_type": "code",
   "execution_count": 17,
   "id": "dfcd9679",
   "metadata": {
    "id": "dfcd9679",
    "ExecuteTime": {
     "end_time": "2024-04-13T20:19:25.097262Z",
     "start_time": "2024-04-13T20:19:14.618087Z"
    }
   },
   "outputs": [
    {
     "name": "stdout",
     "output_type": "stream",
     "text": [
      "0\n",
      "1\n",
      "2\n",
      "3\n",
      "4\n",
      "5\n"
     ]
    },
    {
     "ename": "KeyboardInterrupt",
     "evalue": "",
     "output_type": "error",
     "traceback": [
      "\u001B[0;31m---------------------------------------------------------------------------\u001B[0m",
      "\u001B[0;31mKeyboardInterrupt\u001B[0m                         Traceback (most recent call last)",
      "\u001B[0;32m<ipython-input-17-135d833550a4>\u001B[0m in \u001B[0;36m<module>\u001B[0;34m\u001B[0m\n\u001B[0;32m----> 1\u001B[0;31m \u001B[0mscores\u001B[0m \u001B[0;34m=\u001B[0m \u001B[0mscore_texts\u001B[0m\u001B[0;34m(\u001B[0m\u001B[0msentiment_texts\u001B[0m\u001B[0;34m[\u001B[0m\u001B[0;34m'MessageText'\u001B[0m\u001B[0;34m]\u001B[0m\u001B[0;34m)\u001B[0m\u001B[0;34m\u001B[0m\u001B[0;34m\u001B[0m\u001B[0m\n\u001B[0m\u001B[1;32m      2\u001B[0m \u001B[0mprint\u001B[0m\u001B[0;34m(\u001B[0m\u001B[0mscores\u001B[0m\u001B[0;34m)\u001B[0m\u001B[0;34m\u001B[0m\u001B[0;34m\u001B[0m\u001B[0m\n",
      "\u001B[0;32m<ipython-input-16-03d7aacf2791>\u001B[0m in \u001B[0;36mscore_texts\u001B[0;34m(texts)\u001B[0m\n\u001B[1;32m      5\u001B[0m         \u001B[0mprint\u001B[0m\u001B[0;34m(\u001B[0m\u001B[0mi\u001B[0m\u001B[0;34m)\u001B[0m\u001B[0;34m\u001B[0m\u001B[0;34m\u001B[0m\u001B[0m\n\u001B[1;32m      6\u001B[0m         \u001B[0mi\u001B[0m\u001B[0;34m+=\u001B[0m\u001B[0;36m1\u001B[0m\u001B[0;34m\u001B[0m\u001B[0;34m\u001B[0m\u001B[0m\n\u001B[0;32m----> 7\u001B[0;31m         \u001B[0mcompany_names\u001B[0m \u001B[0;34m=\u001B[0m \u001B[0mextract_company_names\u001B[0m\u001B[0;34m(\u001B[0m\u001B[0mtext\u001B[0m\u001B[0;34m)\u001B[0m\u001B[0;34m\u001B[0m\u001B[0;34m\u001B[0m\u001B[0m\n\u001B[0m\u001B[1;32m      8\u001B[0m         \u001B[0mcompany_names_str\u001B[0m \u001B[0;34m=\u001B[0m \u001B[0;34m', '\u001B[0m\u001B[0;34m.\u001B[0m\u001B[0mjoin\u001B[0m\u001B[0;34m(\u001B[0m\u001B[0mcompany_names\u001B[0m\u001B[0;34m)\u001B[0m \u001B[0;32mif\u001B[0m \u001B[0mcompany_names\u001B[0m \u001B[0;32melse\u001B[0m \u001B[0;34m\"\"\u001B[0m\u001B[0;34m\u001B[0m\u001B[0;34m\u001B[0m\u001B[0m\n\u001B[1;32m      9\u001B[0m         \u001B[0mresults\u001B[0m\u001B[0;34m.\u001B[0m\u001B[0mappend\u001B[0m\u001B[0;34m(\u001B[0m\u001B[0;34mf\"[{company_names_str}] {text}\"\u001B[0m\u001B[0;34m)\u001B[0m\u001B[0;34m\u001B[0m\u001B[0;34m\u001B[0m\u001B[0m\n",
      "\u001B[0;32m<ipython-input-14-f7920da8ae38>\u001B[0m in \u001B[0;36mextract_company_names\u001B[0;34m(text)\u001B[0m\n\u001B[1;32m      9\u001B[0m \u001B[0;34m\u001B[0m\u001B[0m\n\u001B[1;32m     10\u001B[0m     \u001B[0mcompanies\u001B[0m \u001B[0;34m=\u001B[0m \u001B[0;34m[\u001B[0m\u001B[0mspan\u001B[0m\u001B[0;34m.\u001B[0m\u001B[0mtext\u001B[0m \u001B[0;32mfor\u001B[0m \u001B[0mspan\u001B[0m \u001B[0;32min\u001B[0m \u001B[0mdoc\u001B[0m\u001B[0;34m.\u001B[0m\u001B[0mspans\u001B[0m \u001B[0;32mif\u001B[0m \u001B[0mspan\u001B[0m\u001B[0;34m.\u001B[0m\u001B[0mtype\u001B[0m \u001B[0;34m==\u001B[0m \u001B[0;34m'ORG'\u001B[0m\u001B[0;34m]\u001B[0m\u001B[0;34m\u001B[0m\u001B[0;34m\u001B[0m\u001B[0m\n\u001B[0;32m---> 11\u001B[0;31m     \u001B[0;32mreturn\u001B[0m \u001B[0;34m[\u001B[0m\u001B[0mnormalize_company_name\u001B[0m\u001B[0;34m(\u001B[0m\u001B[0mcompany\u001B[0m\u001B[0;34m)\u001B[0m \u001B[0;32mfor\u001B[0m \u001B[0mcompany\u001B[0m \u001B[0;32min\u001B[0m \u001B[0mcompanies\u001B[0m\u001B[0;34m]\u001B[0m\u001B[0;34m\u001B[0m\u001B[0;34m\u001B[0m\u001B[0m\n\u001B[0m\u001B[1;32m     12\u001B[0m \u001B[0;34m\u001B[0m\u001B[0m\n",
      "\u001B[0;32m<ipython-input-14-f7920da8ae38>\u001B[0m in \u001B[0;36m<listcomp>\u001B[0;34m(.0)\u001B[0m\n\u001B[1;32m      9\u001B[0m \u001B[0;34m\u001B[0m\u001B[0m\n\u001B[1;32m     10\u001B[0m     \u001B[0mcompanies\u001B[0m \u001B[0;34m=\u001B[0m \u001B[0;34m[\u001B[0m\u001B[0mspan\u001B[0m\u001B[0;34m.\u001B[0m\u001B[0mtext\u001B[0m \u001B[0;32mfor\u001B[0m \u001B[0mspan\u001B[0m \u001B[0;32min\u001B[0m \u001B[0mdoc\u001B[0m\u001B[0;34m.\u001B[0m\u001B[0mspans\u001B[0m \u001B[0;32mif\u001B[0m \u001B[0mspan\u001B[0m\u001B[0;34m.\u001B[0m\u001B[0mtype\u001B[0m \u001B[0;34m==\u001B[0m \u001B[0;34m'ORG'\u001B[0m\u001B[0;34m]\u001B[0m\u001B[0;34m\u001B[0m\u001B[0;34m\u001B[0m\u001B[0m\n\u001B[0;32m---> 11\u001B[0;31m     \u001B[0;32mreturn\u001B[0m \u001B[0;34m[\u001B[0m\u001B[0mnormalize_company_name\u001B[0m\u001B[0;34m(\u001B[0m\u001B[0mcompany\u001B[0m\u001B[0;34m)\u001B[0m \u001B[0;32mfor\u001B[0m \u001B[0mcompany\u001B[0m \u001B[0;32min\u001B[0m \u001B[0mcompanies\u001B[0m\u001B[0;34m]\u001B[0m\u001B[0;34m\u001B[0m\u001B[0;34m\u001B[0m\u001B[0m\n\u001B[0m\u001B[1;32m     12\u001B[0m \u001B[0;34m\u001B[0m\u001B[0m\n",
      "\u001B[0;32m<ipython-input-13-01d32073a391>\u001B[0m in \u001B[0;36mnormalize_company_name\u001B[0;34m(name)\u001B[0m\n\u001B[1;32m      1\u001B[0m \u001B[0;32mdef\u001B[0m \u001B[0mnormalize_company_name\u001B[0m\u001B[0;34m(\u001B[0m\u001B[0mname\u001B[0m\u001B[0;34m)\u001B[0m\u001B[0;34m:\u001B[0m\u001B[0;34m\u001B[0m\u001B[0;34m\u001B[0m\u001B[0m\n\u001B[0;32m----> 2\u001B[0;31m     \u001B[0mmorph\u001B[0m \u001B[0;34m=\u001B[0m \u001B[0mMorphAnalyzer\u001B[0m\u001B[0;34m(\u001B[0m\u001B[0;34m)\u001B[0m\u001B[0;34m\u001B[0m\u001B[0;34m\u001B[0m\u001B[0m\n\u001B[0m\u001B[1;32m      3\u001B[0m     \u001B[0mnormalized_words\u001B[0m \u001B[0;34m=\u001B[0m \u001B[0;34m[\u001B[0m\u001B[0;34m]\u001B[0m\u001B[0;34m\u001B[0m\u001B[0;34m\u001B[0m\u001B[0m\n\u001B[1;32m      4\u001B[0m     \u001B[0;32mfor\u001B[0m \u001B[0mword\u001B[0m \u001B[0;32min\u001B[0m \u001B[0mname\u001B[0m\u001B[0;34m.\u001B[0m\u001B[0msplit\u001B[0m\u001B[0;34m(\u001B[0m\u001B[0;34m)\u001B[0m\u001B[0;34m:\u001B[0m\u001B[0;34m\u001B[0m\u001B[0;34m\u001B[0m\u001B[0m\n\u001B[1;32m      5\u001B[0m         \u001B[0mparsed_word\u001B[0m \u001B[0;34m=\u001B[0m \u001B[0mmorph\u001B[0m\u001B[0;34m.\u001B[0m\u001B[0mparse\u001B[0m\u001B[0;34m(\u001B[0m\u001B[0mword\u001B[0m\u001B[0;34m)\u001B[0m\u001B[0;34m[\u001B[0m\u001B[0;36m0\u001B[0m\u001B[0;34m]\u001B[0m\u001B[0;34m\u001B[0m\u001B[0;34m\u001B[0m\u001B[0m\n",
      "\u001B[0;32m/opt/anaconda3/lib/python3.8/site-packages/pymorphy2/analyzer.py\u001B[0m in \u001B[0;36m__init__\u001B[0;34m(self, path, lang, result_type, units, probability_estimator_cls, char_substitutes)\u001B[0m\n\u001B[1;32m    198\u001B[0m             \u001B[0mlang\u001B[0m \u001B[0;34m=\u001B[0m \u001B[0;34m'ru'\u001B[0m\u001B[0;34m\u001B[0m\u001B[0;34m\u001B[0m\u001B[0m\n\u001B[1;32m    199\u001B[0m \u001B[0;34m\u001B[0m\u001B[0m\n\u001B[0;32m--> 200\u001B[0;31m         \u001B[0mpath\u001B[0m \u001B[0;34m=\u001B[0m \u001B[0mself\u001B[0m\u001B[0;34m.\u001B[0m\u001B[0mchoose_dictionary_path\u001B[0m\u001B[0;34m(\u001B[0m\u001B[0mpath\u001B[0m\u001B[0;34m,\u001B[0m \u001B[0mlang\u001B[0m\u001B[0;34m)\u001B[0m\u001B[0;34m\u001B[0m\u001B[0;34m\u001B[0m\u001B[0m\n\u001B[0m\u001B[1;32m    201\u001B[0m \u001B[0;34m\u001B[0m\u001B[0m\n\u001B[1;32m    202\u001B[0m         \u001B[0;32mwith\u001B[0m \u001B[0mself\u001B[0m\u001B[0;34m.\u001B[0m\u001B[0m_lock\u001B[0m\u001B[0;34m:\u001B[0m\u001B[0;34m\u001B[0m\u001B[0;34m\u001B[0m\u001B[0m\n",
      "\u001B[0;32m/opt/anaconda3/lib/python3.8/site-packages/pymorphy2/analyzer.py\u001B[0m in \u001B[0;36mchoose_dictionary_path\u001B[0;34m(cls, path, lang)\u001B[0m\n\u001B[1;32m    278\u001B[0m             \u001B[0;32mreturn\u001B[0m \u001B[0mos\u001B[0m\u001B[0;34m.\u001B[0m\u001B[0menviron\u001B[0m\u001B[0;34m[\u001B[0m\u001B[0mcls\u001B[0m\u001B[0;34m.\u001B[0m\u001B[0mDICT_PATH_ENV_VARIABLE\u001B[0m\u001B[0;34m]\u001B[0m\u001B[0;34m\u001B[0m\u001B[0;34m\u001B[0m\u001B[0m\n\u001B[1;32m    279\u001B[0m \u001B[0;34m\u001B[0m\u001B[0m\n\u001B[0;32m--> 280\u001B[0;31m         \u001B[0;32mreturn\u001B[0m \u001B[0mlang_dict_path\u001B[0m\u001B[0;34m(\u001B[0m\u001B[0mlang\u001B[0m\u001B[0;34m)\u001B[0m\u001B[0;34m\u001B[0m\u001B[0;34m\u001B[0m\u001B[0m\n\u001B[0m\u001B[1;32m    281\u001B[0m \u001B[0;34m\u001B[0m\u001B[0m\n\u001B[1;32m    282\u001B[0m     \u001B[0;34m@\u001B[0m\u001B[0mclassmethod\u001B[0m\u001B[0;34m\u001B[0m\u001B[0;34m\u001B[0m\u001B[0m\n",
      "\u001B[0;32m/opt/anaconda3/lib/python3.8/site-packages/pymorphy2/analyzer.py\u001B[0m in \u001B[0;36mlang_dict_path\u001B[0;34m(lang)\u001B[0m\n\u001B[1;32m    135\u001B[0m \u001B[0;32mdef\u001B[0m \u001B[0mlang_dict_path\u001B[0m\u001B[0;34m(\u001B[0m\u001B[0mlang\u001B[0m\u001B[0;34m)\u001B[0m\u001B[0;34m:\u001B[0m\u001B[0;34m\u001B[0m\u001B[0;34m\u001B[0m\u001B[0m\n\u001B[1;32m    136\u001B[0m     \u001B[0;34m\"\"\" Return language-specific dictionary path \"\"\"\u001B[0m\u001B[0;34m\u001B[0m\u001B[0;34m\u001B[0m\u001B[0m\n\u001B[0;32m--> 137\u001B[0;31m     \u001B[0mlang_paths\u001B[0m \u001B[0;34m=\u001B[0m \u001B[0m_lang_dict_paths\u001B[0m\u001B[0;34m(\u001B[0m\u001B[0;34m)\u001B[0m\u001B[0;34m\u001B[0m\u001B[0;34m\u001B[0m\u001B[0m\n\u001B[0m\u001B[1;32m    138\u001B[0m     \u001B[0;32mif\u001B[0m \u001B[0mlang\u001B[0m \u001B[0;32min\u001B[0m \u001B[0mlang_paths\u001B[0m\u001B[0;34m:\u001B[0m\u001B[0;34m\u001B[0m\u001B[0;34m\u001B[0m\u001B[0m\n\u001B[1;32m    139\u001B[0m         \u001B[0;32mreturn\u001B[0m \u001B[0mlang_paths\u001B[0m\u001B[0;34m[\u001B[0m\u001B[0mlang\u001B[0m\u001B[0;34m]\u001B[0m\u001B[0;34m\u001B[0m\u001B[0;34m\u001B[0m\u001B[0m\n",
      "\u001B[0;32m/opt/anaconda3/lib/python3.8/site-packages/pymorphy2/analyzer.py\u001B[0m in \u001B[0;36m_lang_dict_paths\u001B[0;34m()\u001B[0m\n\u001B[1;32m    120\u001B[0m     paths = dict(\n\u001B[1;32m    121\u001B[0m         \u001B[0;34m(\u001B[0m\u001B[0mpkg\u001B[0m\u001B[0;34m.\u001B[0m\u001B[0mname\u001B[0m\u001B[0;34m,\u001B[0m \u001B[0mpkg\u001B[0m\u001B[0;34m.\u001B[0m\u001B[0mload\u001B[0m\u001B[0;34m(\u001B[0m\u001B[0;34m)\u001B[0m\u001B[0;34m.\u001B[0m\u001B[0mget_path\u001B[0m\u001B[0;34m(\u001B[0m\u001B[0;34m)\u001B[0m\u001B[0;34m)\u001B[0m\u001B[0;34m\u001B[0m\u001B[0;34m\u001B[0m\u001B[0m\n\u001B[0;32m--> 122\u001B[0;31m         \u001B[0;32mfor\u001B[0m \u001B[0mpkg\u001B[0m \u001B[0;32min\u001B[0m \u001B[0m_iter_entry_points\u001B[0m\u001B[0;34m(\u001B[0m\u001B[0;34m'pymorphy2_dicts'\u001B[0m\u001B[0;34m)\u001B[0m\u001B[0;34m\u001B[0m\u001B[0;34m\u001B[0m\u001B[0m\n\u001B[0m\u001B[1;32m    123\u001B[0m     )\n\u001B[1;32m    124\u001B[0m \u001B[0;34m\u001B[0m\u001B[0m\n",
      "\u001B[0;32m/opt/anaconda3/lib/python3.8/site-packages/pymorphy2/analyzer.py\u001B[0m in \u001B[0;36m_iter_entry_points\u001B[0;34m(*args, **kwargs)\u001B[0m\n\u001B[1;32m    113\u001B[0m     \"\"\"\n\u001B[1;32m    114\u001B[0m     \u001B[0;32mimport\u001B[0m \u001B[0mpkg_resources\u001B[0m\u001B[0;34m\u001B[0m\u001B[0;34m\u001B[0m\u001B[0m\n\u001B[0;32m--> 115\u001B[0;31m     \u001B[0mws\u001B[0m \u001B[0;34m=\u001B[0m \u001B[0mpkg_resources\u001B[0m\u001B[0;34m.\u001B[0m\u001B[0mWorkingSet\u001B[0m\u001B[0;34m(\u001B[0m\u001B[0;34m)\u001B[0m\u001B[0;34m\u001B[0m\u001B[0;34m\u001B[0m\u001B[0m\n\u001B[0m\u001B[1;32m    116\u001B[0m     \u001B[0;32mreturn\u001B[0m \u001B[0mws\u001B[0m\u001B[0;34m.\u001B[0m\u001B[0miter_entry_points\u001B[0m\u001B[0;34m(\u001B[0m\u001B[0;34m*\u001B[0m\u001B[0margs\u001B[0m\u001B[0;34m,\u001B[0m \u001B[0;34m**\u001B[0m\u001B[0mkwargs\u001B[0m\u001B[0;34m)\u001B[0m\u001B[0;34m\u001B[0m\u001B[0;34m\u001B[0m\u001B[0m\n\u001B[1;32m    117\u001B[0m \u001B[0;34m\u001B[0m\u001B[0m\n",
      "\u001B[0;32m/opt/anaconda3/lib/python3.8/site-packages/pkg_resources/__init__.py\u001B[0m in \u001B[0;36m__init__\u001B[0;34m(self, entries)\u001B[0m\n\u001B[1;32m    613\u001B[0m \u001B[0;34m\u001B[0m\u001B[0m\n\u001B[1;32m    614\u001B[0m         \u001B[0;32mfor\u001B[0m \u001B[0mentry\u001B[0m \u001B[0;32min\u001B[0m \u001B[0mentries\u001B[0m\u001B[0;34m:\u001B[0m\u001B[0;34m\u001B[0m\u001B[0;34m\u001B[0m\u001B[0m\n\u001B[0;32m--> 615\u001B[0;31m             \u001B[0mself\u001B[0m\u001B[0;34m.\u001B[0m\u001B[0madd_entry\u001B[0m\u001B[0;34m(\u001B[0m\u001B[0mentry\u001B[0m\u001B[0;34m)\u001B[0m\u001B[0;34m\u001B[0m\u001B[0;34m\u001B[0m\u001B[0m\n\u001B[0m\u001B[1;32m    616\u001B[0m \u001B[0;34m\u001B[0m\u001B[0m\n\u001B[1;32m    617\u001B[0m     \u001B[0;34m@\u001B[0m\u001B[0mclassmethod\u001B[0m\u001B[0;34m\u001B[0m\u001B[0;34m\u001B[0m\u001B[0m\n",
      "\u001B[0;32m/opt/anaconda3/lib/python3.8/site-packages/pkg_resources/__init__.py\u001B[0m in \u001B[0;36madd_entry\u001B[0;34m(self, entry)\u001B[0m\n\u001B[1;32m    669\u001B[0m         \u001B[0mself\u001B[0m\u001B[0;34m.\u001B[0m\u001B[0mentry_keys\u001B[0m\u001B[0;34m.\u001B[0m\u001B[0msetdefault\u001B[0m\u001B[0;34m(\u001B[0m\u001B[0mentry\u001B[0m\u001B[0;34m,\u001B[0m \u001B[0;34m[\u001B[0m\u001B[0;34m]\u001B[0m\u001B[0;34m)\u001B[0m\u001B[0;34m\u001B[0m\u001B[0;34m\u001B[0m\u001B[0m\n\u001B[1;32m    670\u001B[0m         \u001B[0mself\u001B[0m\u001B[0;34m.\u001B[0m\u001B[0mentries\u001B[0m\u001B[0;34m.\u001B[0m\u001B[0mappend\u001B[0m\u001B[0;34m(\u001B[0m\u001B[0mentry\u001B[0m\u001B[0;34m)\u001B[0m\u001B[0;34m\u001B[0m\u001B[0;34m\u001B[0m\u001B[0m\n\u001B[0;32m--> 671\u001B[0;31m         \u001B[0;32mfor\u001B[0m \u001B[0mdist\u001B[0m \u001B[0;32min\u001B[0m \u001B[0mfind_distributions\u001B[0m\u001B[0;34m(\u001B[0m\u001B[0mentry\u001B[0m\u001B[0;34m,\u001B[0m \u001B[0;32mTrue\u001B[0m\u001B[0;34m)\u001B[0m\u001B[0;34m:\u001B[0m\u001B[0;34m\u001B[0m\u001B[0;34m\u001B[0m\u001B[0m\n\u001B[0m\u001B[1;32m    672\u001B[0m             \u001B[0mself\u001B[0m\u001B[0;34m.\u001B[0m\u001B[0madd\u001B[0m\u001B[0;34m(\u001B[0m\u001B[0mdist\u001B[0m\u001B[0;34m,\u001B[0m \u001B[0mentry\u001B[0m\u001B[0;34m,\u001B[0m \u001B[0;32mFalse\u001B[0m\u001B[0;34m)\u001B[0m\u001B[0;34m\u001B[0m\u001B[0;34m\u001B[0m\u001B[0m\n\u001B[1;32m    673\u001B[0m \u001B[0;34m\u001B[0m\u001B[0m\n",
      "\u001B[0;32m/opt/anaconda3/lib/python3.8/site-packages/pkg_resources/__init__.py\u001B[0m in \u001B[0;36mfind_on_path\u001B[0;34m(importer, path_item, only)\u001B[0m\n\u001B[1;32m   2131\u001B[0m     \u001B[0;32mfor\u001B[0m \u001B[0mentry\u001B[0m \u001B[0;32min\u001B[0m \u001B[0msorted\u001B[0m\u001B[0;34m(\u001B[0m\u001B[0mentries\u001B[0m\u001B[0;34m)\u001B[0m\u001B[0;34m:\u001B[0m\u001B[0;34m\u001B[0m\u001B[0;34m\u001B[0m\u001B[0m\n\u001B[1;32m   2132\u001B[0m         \u001B[0mfullpath\u001B[0m \u001B[0;34m=\u001B[0m \u001B[0mos\u001B[0m\u001B[0;34m.\u001B[0m\u001B[0mpath\u001B[0m\u001B[0;34m.\u001B[0m\u001B[0mjoin\u001B[0m\u001B[0;34m(\u001B[0m\u001B[0mpath_item\u001B[0m\u001B[0;34m,\u001B[0m \u001B[0mentry\u001B[0m\u001B[0;34m)\u001B[0m\u001B[0;34m\u001B[0m\u001B[0;34m\u001B[0m\u001B[0m\n\u001B[0;32m-> 2133\u001B[0;31m         \u001B[0mfactory\u001B[0m \u001B[0;34m=\u001B[0m \u001B[0mdist_factory\u001B[0m\u001B[0;34m(\u001B[0m\u001B[0mpath_item\u001B[0m\u001B[0;34m,\u001B[0m \u001B[0mentry\u001B[0m\u001B[0;34m,\u001B[0m \u001B[0monly\u001B[0m\u001B[0;34m)\u001B[0m\u001B[0;34m\u001B[0m\u001B[0;34m\u001B[0m\u001B[0m\n\u001B[0m\u001B[1;32m   2134\u001B[0m         \u001B[0;32mfor\u001B[0m \u001B[0mdist\u001B[0m \u001B[0;32min\u001B[0m \u001B[0mfactory\u001B[0m\u001B[0;34m(\u001B[0m\u001B[0mfullpath\u001B[0m\u001B[0;34m)\u001B[0m\u001B[0;34m:\u001B[0m\u001B[0;34m\u001B[0m\u001B[0;34m\u001B[0m\u001B[0m\n\u001B[1;32m   2135\u001B[0m             \u001B[0;32myield\u001B[0m \u001B[0mdist\u001B[0m\u001B[0;34m\u001B[0m\u001B[0;34m\u001B[0m\u001B[0m\n",
      "\u001B[0;32m/opt/anaconda3/lib/python3.8/site-packages/pkg_resources/__init__.py\u001B[0m in \u001B[0;36mdist_factory\u001B[0;34m(path_item, entry, only)\u001B[0m\n\u001B[1;32m   2140\u001B[0m     \u001B[0mlower\u001B[0m \u001B[0;34m=\u001B[0m \u001B[0mentry\u001B[0m\u001B[0;34m.\u001B[0m\u001B[0mlower\u001B[0m\u001B[0;34m(\u001B[0m\u001B[0;34m)\u001B[0m\u001B[0;34m\u001B[0m\u001B[0;34m\u001B[0m\u001B[0m\n\u001B[1;32m   2141\u001B[0m     \u001B[0mis_egg_info\u001B[0m \u001B[0;34m=\u001B[0m \u001B[0mlower\u001B[0m\u001B[0;34m.\u001B[0m\u001B[0mendswith\u001B[0m\u001B[0;34m(\u001B[0m\u001B[0;34m'.egg-info'\u001B[0m\u001B[0;34m)\u001B[0m\u001B[0;34m\u001B[0m\u001B[0;34m\u001B[0m\u001B[0m\n\u001B[0;32m-> 2142\u001B[0;31m     is_dist_info = lower.endswith('.dist-info') and os.path.isdir(\n\u001B[0m\u001B[1;32m   2143\u001B[0m         \u001B[0mos\u001B[0m\u001B[0;34m.\u001B[0m\u001B[0mpath\u001B[0m\u001B[0;34m.\u001B[0m\u001B[0mjoin\u001B[0m\u001B[0;34m(\u001B[0m\u001B[0mpath_item\u001B[0m\u001B[0;34m,\u001B[0m \u001B[0mentry\u001B[0m\u001B[0;34m)\u001B[0m\u001B[0;34m\u001B[0m\u001B[0;34m\u001B[0m\u001B[0m\n\u001B[1;32m   2144\u001B[0m     )\n",
      "\u001B[0;32m/opt/anaconda3/lib/python3.8/genericpath.py\u001B[0m in \u001B[0;36misdir\u001B[0;34m(s)\u001B[0m\n\u001B[1;32m     40\u001B[0m     \u001B[0;34m\"\"\"Return true if the pathname refers to an existing directory.\"\"\"\u001B[0m\u001B[0;34m\u001B[0m\u001B[0;34m\u001B[0m\u001B[0m\n\u001B[1;32m     41\u001B[0m     \u001B[0;32mtry\u001B[0m\u001B[0;34m:\u001B[0m\u001B[0;34m\u001B[0m\u001B[0;34m\u001B[0m\u001B[0m\n\u001B[0;32m---> 42\u001B[0;31m         \u001B[0mst\u001B[0m \u001B[0;34m=\u001B[0m \u001B[0mos\u001B[0m\u001B[0;34m.\u001B[0m\u001B[0mstat\u001B[0m\u001B[0;34m(\u001B[0m\u001B[0ms\u001B[0m\u001B[0;34m)\u001B[0m\u001B[0;34m\u001B[0m\u001B[0;34m\u001B[0m\u001B[0m\n\u001B[0m\u001B[1;32m     43\u001B[0m     \u001B[0;32mexcept\u001B[0m \u001B[0;34m(\u001B[0m\u001B[0mOSError\u001B[0m\u001B[0;34m,\u001B[0m \u001B[0mValueError\u001B[0m\u001B[0;34m)\u001B[0m\u001B[0;34m:\u001B[0m\u001B[0;34m\u001B[0m\u001B[0;34m\u001B[0m\u001B[0m\n\u001B[1;32m     44\u001B[0m         \u001B[0;32mreturn\u001B[0m \u001B[0;32mFalse\u001B[0m\u001B[0;34m\u001B[0m\u001B[0;34m\u001B[0m\u001B[0m\n",
      "\u001B[0;31mKeyboardInterrupt\u001B[0m: "
     ]
    }
   ],
   "source": [
    "scores = score_texts(sentiment_texts['MessageText'])\n",
    "print(scores)"
   ]
  },
  {
   "cell_type": "code",
   "execution_count": null,
   "id": "b19a5208",
   "metadata": {
    "ExecuteTime": {
     "end_time": "2024-04-13T11:23:16.775577Z",
     "start_time": "2024-04-13T11:22:58.057263Z"
    },
    "id": "b19a5208"
   },
   "outputs": [],
   "source": [
    "from deeppavlov import build_model, configs\n",
    "\n",
    "def sentiment_model():\n",
    "    model = build_model(configs.classifiers.rusentiment_convers_bert, download=True)\n",
    "    return model\n",
    "\n",
    "model = sentiment_model()"
   ]
  },
  {
   "cell_type": "code",
   "execution_count": 18,
   "id": "59bce916",
   "metadata": {
    "id": "59bce916",
    "ExecuteTime": {
     "end_time": "2024-04-13T20:19:33.656130Z",
     "start_time": "2024-04-13T20:19:33.629760Z"
    }
   },
   "outputs": [],
   "source": [
    "def analyze_sentiment(text):\n",
    "    return model([text])[0]\n"
   ]
  },
  {
   "cell_type": "code",
   "execution_count": 19,
   "id": "e3889680",
   "metadata": {
    "id": "e3889680",
    "ExecuteTime": {
     "end_time": "2024-04-13T20:19:34.146626Z",
     "start_time": "2024-04-13T20:19:34.140296Z"
    }
   },
   "outputs": [],
   "source": [
    "def score_texts(texts):\n",
    "    results = []\n",
    "    for text in texts:\n",
    "        company_names = extract_company_names(text)\n",
    "        sentiment = analyze_sentiment(text)\n",
    "        company_names_str = ', '.join(company_names) if company_names else \"No company names\"\n",
    "        results.append(f\"Sentiment: {sentiment}, Companies: {company_names_str}, Text: {text}\")\n",
    "    return results"
   ]
  },
  {
   "cell_type": "code",
   "execution_count": null,
   "id": "316099d5",
   "metadata": {
    "ExecuteTime": {
     "end_time": "2024-04-13T11:24:12.713601Z",
     "start_time": "2024-04-13T11:23:16.795755Z"
    },
    "id": "316099d5"
   },
   "outputs": [],
   "source": [
    "pip install dostoevsky"
   ]
  },
  {
   "cell_type": "code",
   "source": [
    "sentiment_texts"
   ],
   "metadata": {
    "id": "ybfAdmaQkPBK"
   },
   "id": "ybfAdmaQkPBK",
   "execution_count": null,
   "outputs": []
  },
  {
   "cell_type": "code",
   "execution_count": 20,
   "id": "2cd10ecc",
   "metadata": {
    "id": "2cd10ecc",
    "ExecuteTime": {
     "end_time": "2024-04-13T20:19:51.051827Z",
     "start_time": "2024-04-13T20:19:37.158278Z"
    }
   },
   "outputs": [
    {
     "name": "stderr",
     "output_type": "stream",
     "text": [
      "Warning : `load_model` does not return WordVectorModel or SupervisedModel any more, but a `FastText` object which is very similar.\n"
     ]
    }
   ],
   "source": [
    "from dostoevsky.tokenization import RegexTokenizer\n",
    "from dostoevsky.models import FastTextSocialNetworkModel\n",
    "\n",
    "tokenizer = RegexTokenizer()\n",
    "FastTextSocialNetworkModel.MODEL_PATH = 'data/fasttext-social-network-model.bin'\n",
    "model = FastTextSocialNetworkModel(tokenizer=tokenizer)\n",
    "sentiment_list = []\n",
    "results = model.predict(sentiment_texts['MessageText'], k=2)\n",
    "for sentiment in results:\n",
    "    sentiment_list.append(sentiment)"
   ]
  },
  {
   "cell_type": "code",
   "execution_count": 21,
   "id": "d08fd91b",
   "metadata": {
    "id": "d08fd91b",
    "ExecuteTime": {
     "end_time": "2024-04-13T20:19:52.932849Z",
     "start_time": "2024-04-13T20:19:52.920259Z"
    }
   },
   "outputs": [
    {
     "name": "stdout",
     "output_type": "stream",
     "text": [
      "{'neutral': 0.8080772161483765, 'negative': 0.16027602553367615}\n"
     ]
    }
   ],
   "source": [
    "print(sentiment_list[3])"
   ]
  },
  {
   "cell_type": "code",
   "source": [
    "keys = set()\n",
    "for i in sentiment_list:\n",
    "  for key, value in i.items():\n",
    "    keys.add(key)\n",
    "print(keys)"
   ],
   "metadata": {
    "id": "oguWF5i5mqOo",
    "ExecuteTime": {
     "end_time": "2024-04-13T20:20:12.982458Z",
     "start_time": "2024-04-13T20:20:12.977541Z"
    }
   },
   "id": "oguWF5i5mqOo",
   "execution_count": 22,
   "outputs": [
    {
     "name": "stdout",
     "output_type": "stream",
     "text": [
      "{'positive', 'neutral', 'negative', 'skip', 'speech'}\n"
     ]
    }
   ]
  },
  {
   "cell_type": "code",
   "source": [
    "import math\n",
    "from collections import Counter"
   ],
   "metadata": {
    "id": "anICeNHGk9Y7",
    "ExecuteTime": {
     "end_time": "2024-04-13T20:20:17.679786Z",
     "start_time": "2024-04-13T20:20:17.675411Z"
    }
   },
   "id": "anICeNHGk9Y7",
   "execution_count": 23,
   "outputs": []
  },
  {
   "cell_type": "code",
   "execution_count": 24,
   "id": "e8f46b41",
   "metadata": {
    "id": "e8f46b41",
    "ExecuteTime": {
     "end_time": "2024-04-13T20:20:18.277644Z",
     "start_time": "2024-04-13T20:20:18.273125Z"
    }
   },
   "outputs": [],
   "source": [
    "def sentiment_score(sentiment_data):\n",
    "    weights = {'negative': 1, 'neutral': 3.5, 'positive': 5, 'skip':0, 'speech':0}\n",
    "    scores = []\n",
    "    count = 0\n",
    "    for data in sentiment_data:\n",
    "        score = sum(data.get(key, 0) * weight for key, weight in weights.items())\n",
    "        scores.append(min(5, math.ceil(score)))\n",
    "        count += 1\n",
    "\n",
    "    return scores"
   ]
  },
  {
   "cell_type": "code",
   "execution_count": 27,
   "id": "a9f9ac9f",
   "metadata": {
    "id": "a9f9ac9f",
    "ExecuteTime": {
     "end_time": "2024-04-13T20:22:37.061338Z",
     "start_time": "2024-04-13T20:22:37.059905Z"
    }
   },
   "outputs": [
    {
     "name": "stdout",
     "output_type": "stream",
     "text": [
      "3\n"
     ]
    }
   ],
   "source": [
    "sen_score = sentiment_score(sentiment_list)\n",
    "print(sen_score[3])"
   ]
  },
  {
   "cell_type": "code",
   "execution_count": 26,
   "id": "1b3f0428",
   "metadata": {
    "id": "1b3f0428",
    "ExecuteTime": {
     "end_time": "2024-04-13T20:20:20.170476Z",
     "start_time": "2024-04-13T20:20:20.162830Z"
    }
   },
   "outputs": [
    {
     "name": "stdout",
     "output_type": "stream",
     "text": [
      "Counter({3: 5635, 4: 2819, 2: 756, 1: 64, 5: 15})\n"
     ]
    }
   ],
   "source": [
    "print(Counter(sentiment_score(sentiment_list)))"
   ]
  },
  {
   "cell_type": "code",
   "execution_count": 30,
   "outputs": [
    {
     "name": "stdout",
     "output_type": "stream",
     "text": [
      "9289\n",
      "(9289,)\n"
     ]
    }
   ],
   "source": [
    "print(len(sen_score))\n",
    "real_score = sentiment_texts.SentimentScore\n",
    "print(real_score.shape)\n"
   ],
   "metadata": {
    "collapsed": false,
    "ExecuteTime": {
     "end_time": "2024-04-13T20:24:38.774807Z",
     "start_time": "2024-04-13T20:24:38.765021Z"
    }
   },
   "id": "e955ae77a24c10c7"
  },
  {
   "cell_type": "code",
   "execution_count": 32,
   "outputs": [
    {
     "data": {
      "text/plain": "0.3476154591452255"
     },
     "execution_count": 32,
     "metadata": {},
     "output_type": "execute_result"
    }
   ],
   "source": [
    "from sklearn.metrics import accuracy_score\n",
    "ac = accuracy_score(sen_score, real_score)\n",
    "ac"
   ],
   "metadata": {
    "collapsed": false,
    "ExecuteTime": {
     "end_time": "2024-04-13T20:25:32.943516Z",
     "start_time": "2024-04-13T20:25:32.931192Z"
    }
   },
   "id": "b80755883ee75737"
  },
  {
   "cell_type": "code",
   "execution_count": null,
   "outputs": [],
   "source": [],
   "metadata": {
    "collapsed": false
   },
   "id": "1a9add12c4e9db78"
  }
 ],
 "metadata": {
  "kernelspec": {
   "name": "python3",
   "language": "python",
   "display_name": "Python 3"
  },
  "language_info": {
   "codemirror_mode": {
    "name": "ipython",
    "version": 3
   },
   "file_extension": ".py",
   "mimetype": "text/x-python",
   "name": "python",
   "nbconvert_exporter": "python",
   "pygments_lexer": "ipython3",
   "version": "3.7.5"
  },
  "colab": {
   "provenance": []
  }
 },
 "nbformat": 4,
 "nbformat_minor": 5
}
