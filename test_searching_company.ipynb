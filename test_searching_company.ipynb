{
 "nbformat": 4,
 "nbformat_minor": 0,
 "metadata": {
  "colab": {
   "provenance": []
  },
  "kernelspec": {
   "name": "python3",
   "language": "python",
   "display_name": "Python 3"
  },
  "language_info": {
   "name": "python"
  },
  "widgets": {
   "application/vnd.jupyter.widget-state+json": {
    "f647aa2f7c224380b396160029f953d3": {
     "model_module": "@jupyter-widgets/controls",
     "model_name": "HBoxModel",
     "model_module_version": "1.5.0",
     "state": {
      "_dom_classes": [],
      "_model_module": "@jupyter-widgets/controls",
      "_model_module_version": "1.5.0",
      "_model_name": "HBoxModel",
      "_view_count": null,
      "_view_module": "@jupyter-widgets/controls",
      "_view_module_version": "1.5.0",
      "_view_name": "HBoxView",
      "box_style": "",
      "children": [
       "IPY_MODEL_bd95edbc457e41efb8c04d75fddc12ca",
       "IPY_MODEL_4fe12dc13f7e4c5581e1916ef9825d6f",
       "IPY_MODEL_59d7484b95ac4d2dba55a3378eba7429"
      ],
      "layout": "IPY_MODEL_f8efa3fb752c468faab9a093cc833047"
     }
    },
    "bd95edbc457e41efb8c04d75fddc12ca": {
     "model_module": "@jupyter-widgets/controls",
     "model_name": "HTMLModel",
     "model_module_version": "1.5.0",
     "state": {
      "_dom_classes": [],
      "_model_module": "@jupyter-widgets/controls",
      "_model_module_version": "1.5.0",
      "_model_name": "HTMLModel",
      "_view_count": null,
      "_view_module": "@jupyter-widgets/controls",
      "_view_module_version": "1.5.0",
      "_view_name": "HTMLView",
      "description": "",
      "description_tooltip": null,
      "layout": "IPY_MODEL_29cccbafee484be9840b8a3394b363c8",
      "placeholder": "​",
      "style": "IPY_MODEL_af47b7b1a9214c92a440b84e5c1ff711",
      "value": "config.json: 100%"
     }
    },
    "4fe12dc13f7e4c5581e1916ef9825d6f": {
     "model_module": "@jupyter-widgets/controls",
     "model_name": "FloatProgressModel",
     "model_module_version": "1.5.0",
     "state": {
      "_dom_classes": [],
      "_model_module": "@jupyter-widgets/controls",
      "_model_module_version": "1.5.0",
      "_model_name": "FloatProgressModel",
      "_view_count": null,
      "_view_module": "@jupyter-widgets/controls",
      "_view_module_version": "1.5.0",
      "_view_name": "ProgressView",
      "bar_style": "success",
      "description": "",
      "description_tooltip": null,
      "layout": "IPY_MODEL_a25497dfe89340678270c6bb00b43f18",
      "max": 642,
      "min": 0,
      "orientation": "horizontal",
      "style": "IPY_MODEL_3c6f67a6a4a542a0a200455b63448414",
      "value": 642
     }
    },
    "59d7484b95ac4d2dba55a3378eba7429": {
     "model_module": "@jupyter-widgets/controls",
     "model_name": "HTMLModel",
     "model_module_version": "1.5.0",
     "state": {
      "_dom_classes": [],
      "_model_module": "@jupyter-widgets/controls",
      "_model_module_version": "1.5.0",
      "_model_name": "HTMLModel",
      "_view_count": null,
      "_view_module": "@jupyter-widgets/controls",
      "_view_module_version": "1.5.0",
      "_view_name": "HTMLView",
      "description": "",
      "description_tooltip": null,
      "layout": "IPY_MODEL_eba026be04fb42f6b13756f33ed917d6",
      "placeholder": "​",
      "style": "IPY_MODEL_8872bf67033c4a35901a3d08afce58b7",
      "value": " 642/642 [00:00&lt;00:00, 17.8kB/s]"
     }
    },
    "f8efa3fb752c468faab9a093cc833047": {
     "model_module": "@jupyter-widgets/base",
     "model_name": "LayoutModel",
     "model_module_version": "1.2.0",
     "state": {
      "_model_module": "@jupyter-widgets/base",
      "_model_module_version": "1.2.0",
      "_model_name": "LayoutModel",
      "_view_count": null,
      "_view_module": "@jupyter-widgets/base",
      "_view_module_version": "1.2.0",
      "_view_name": "LayoutView",
      "align_content": null,
      "align_items": null,
      "align_self": null,
      "border": null,
      "bottom": null,
      "display": null,
      "flex": null,
      "flex_flow": null,
      "grid_area": null,
      "grid_auto_columns": null,
      "grid_auto_flow": null,
      "grid_auto_rows": null,
      "grid_column": null,
      "grid_gap": null,
      "grid_row": null,
      "grid_template_areas": null,
      "grid_template_columns": null,
      "grid_template_rows": null,
      "height": null,
      "justify_content": null,
      "justify_items": null,
      "left": null,
      "margin": null,
      "max_height": null,
      "max_width": null,
      "min_height": null,
      "min_width": null,
      "object_fit": null,
      "object_position": null,
      "order": null,
      "overflow": null,
      "overflow_x": null,
      "overflow_y": null,
      "padding": null,
      "right": null,
      "top": null,
      "visibility": null,
      "width": null
     }
    },
    "29cccbafee484be9840b8a3394b363c8": {
     "model_module": "@jupyter-widgets/base",
     "model_name": "LayoutModel",
     "model_module_version": "1.2.0",
     "state": {
      "_model_module": "@jupyter-widgets/base",
      "_model_module_version": "1.2.0",
      "_model_name": "LayoutModel",
      "_view_count": null,
      "_view_module": "@jupyter-widgets/base",
      "_view_module_version": "1.2.0",
      "_view_name": "LayoutView",
      "align_content": null,
      "align_items": null,
      "align_self": null,
      "border": null,
      "bottom": null,
      "display": null,
      "flex": null,
      "flex_flow": null,
      "grid_area": null,
      "grid_auto_columns": null,
      "grid_auto_flow": null,
      "grid_auto_rows": null,
      "grid_column": null,
      "grid_gap": null,
      "grid_row": null,
      "grid_template_areas": null,
      "grid_template_columns": null,
      "grid_template_rows": null,
      "height": null,
      "justify_content": null,
      "justify_items": null,
      "left": null,
      "margin": null,
      "max_height": null,
      "max_width": null,
      "min_height": null,
      "min_width": null,
      "object_fit": null,
      "object_position": null,
      "order": null,
      "overflow": null,
      "overflow_x": null,
      "overflow_y": null,
      "padding": null,
      "right": null,
      "top": null,
      "visibility": null,
      "width": null
     }
    },
    "af47b7b1a9214c92a440b84e5c1ff711": {
     "model_module": "@jupyter-widgets/controls",
     "model_name": "DescriptionStyleModel",
     "model_module_version": "1.5.0",
     "state": {
      "_model_module": "@jupyter-widgets/controls",
      "_model_module_version": "1.5.0",
      "_model_name": "DescriptionStyleModel",
      "_view_count": null,
      "_view_module": "@jupyter-widgets/base",
      "_view_module_version": "1.2.0",
      "_view_name": "StyleView",
      "description_width": ""
     }
    },
    "a25497dfe89340678270c6bb00b43f18": {
     "model_module": "@jupyter-widgets/base",
     "model_name": "LayoutModel",
     "model_module_version": "1.2.0",
     "state": {
      "_model_module": "@jupyter-widgets/base",
      "_model_module_version": "1.2.0",
      "_model_name": "LayoutModel",
      "_view_count": null,
      "_view_module": "@jupyter-widgets/base",
      "_view_module_version": "1.2.0",
      "_view_name": "LayoutView",
      "align_content": null,
      "align_items": null,
      "align_self": null,
      "border": null,
      "bottom": null,
      "display": null,
      "flex": null,
      "flex_flow": null,
      "grid_area": null,
      "grid_auto_columns": null,
      "grid_auto_flow": null,
      "grid_auto_rows": null,
      "grid_column": null,
      "grid_gap": null,
      "grid_row": null,
      "grid_template_areas": null,
      "grid_template_columns": null,
      "grid_template_rows": null,
      "height": null,
      "justify_content": null,
      "justify_items": null,
      "left": null,
      "margin": null,
      "max_height": null,
      "max_width": null,
      "min_height": null,
      "min_width": null,
      "object_fit": null,
      "object_position": null,
      "order": null,
      "overflow": null,
      "overflow_x": null,
      "overflow_y": null,
      "padding": null,
      "right": null,
      "top": null,
      "visibility": null,
      "width": null
     }
    },
    "3c6f67a6a4a542a0a200455b63448414": {
     "model_module": "@jupyter-widgets/controls",
     "model_name": "ProgressStyleModel",
     "model_module_version": "1.5.0",
     "state": {
      "_model_module": "@jupyter-widgets/controls",
      "_model_module_version": "1.5.0",
      "_model_name": "ProgressStyleModel",
      "_view_count": null,
      "_view_module": "@jupyter-widgets/base",
      "_view_module_version": "1.2.0",
      "_view_name": "StyleView",
      "bar_color": null,
      "description_width": ""
     }
    },
    "eba026be04fb42f6b13756f33ed917d6": {
     "model_module": "@jupyter-widgets/base",
     "model_name": "LayoutModel",
     "model_module_version": "1.2.0",
     "state": {
      "_model_module": "@jupyter-widgets/base",
      "_model_module_version": "1.2.0",
      "_model_name": "LayoutModel",
      "_view_count": null,
      "_view_module": "@jupyter-widgets/base",
      "_view_module_version": "1.2.0",
      "_view_name": "LayoutView",
      "align_content": null,
      "align_items": null,
      "align_self": null,
      "border": null,
      "bottom": null,
      "display": null,
      "flex": null,
      "flex_flow": null,
      "grid_area": null,
      "grid_auto_columns": null,
      "grid_auto_flow": null,
      "grid_auto_rows": null,
      "grid_column": null,
      "grid_gap": null,
      "grid_row": null,
      "grid_template_areas": null,
      "grid_template_columns": null,
      "grid_template_rows": null,
      "height": null,
      "justify_content": null,
      "justify_items": null,
      "left": null,
      "margin": null,
      "max_height": null,
      "max_width": null,
      "min_height": null,
      "min_width": null,
      "object_fit": null,
      "object_position": null,
      "order": null,
      "overflow": null,
      "overflow_x": null,
      "overflow_y": null,
      "padding": null,
      "right": null,
      "top": null,
      "visibility": null,
      "width": null
     }
    },
    "8872bf67033c4a35901a3d08afce58b7": {
     "model_module": "@jupyter-widgets/controls",
     "model_name": "DescriptionStyleModel",
     "model_module_version": "1.5.0",
     "state": {
      "_model_module": "@jupyter-widgets/controls",
      "_model_module_version": "1.5.0",
      "_model_name": "DescriptionStyleModel",
      "_view_count": null,
      "_view_module": "@jupyter-widgets/base",
      "_view_module_version": "1.2.0",
      "_view_name": "StyleView",
      "description_width": ""
     }
    },
    "9c665821e79f409883b62fb4bf50f336": {
     "model_module": "@jupyter-widgets/controls",
     "model_name": "HBoxModel",
     "model_module_version": "1.5.0",
     "state": {
      "_dom_classes": [],
      "_model_module": "@jupyter-widgets/controls",
      "_model_module_version": "1.5.0",
      "_model_name": "HBoxModel",
      "_view_count": null,
      "_view_module": "@jupyter-widgets/controls",
      "_view_module_version": "1.5.0",
      "_view_name": "HBoxView",
      "box_style": "",
      "children": [
       "IPY_MODEL_56308149c2f84f64a8a3ffd3e7ec309d",
       "IPY_MODEL_8eed82f3140348f8bdf5ed37729dbed9",
       "IPY_MODEL_b726c0adf64649a1a71a32e3e5e3bcd7"
      ],
      "layout": "IPY_MODEL_224e86f246744bfeaa28894f10778a1f"
     }
    },
    "56308149c2f84f64a8a3ffd3e7ec309d": {
     "model_module": "@jupyter-widgets/controls",
     "model_name": "HTMLModel",
     "model_module_version": "1.5.0",
     "state": {
      "_dom_classes": [],
      "_model_module": "@jupyter-widgets/controls",
      "_model_module_version": "1.5.0",
      "_model_name": "HTMLModel",
      "_view_count": null,
      "_view_module": "@jupyter-widgets/controls",
      "_view_module_version": "1.5.0",
      "_view_name": "HTMLView",
      "description": "",
      "description_tooltip": null,
      "layout": "IPY_MODEL_2789644e8ee04896a300aef9190c77bf",
      "placeholder": "​",
      "style": "IPY_MODEL_d9c9f490882443fdbf189f0aef05c311",
      "value": "pytorch_model.bin: 100%"
     }
    },
    "8eed82f3140348f8bdf5ed37729dbed9": {
     "model_module": "@jupyter-widgets/controls",
     "model_name": "FloatProgressModel",
     "model_module_version": "1.5.0",
     "state": {
      "_dom_classes": [],
      "_model_module": "@jupyter-widgets/controls",
      "_model_module_version": "1.5.0",
      "_model_name": "FloatProgressModel",
      "_view_count": null,
      "_view_module": "@jupyter-widgets/controls",
      "_view_module_version": "1.5.0",
      "_view_name": "ProgressView",
      "bar_style": "success",
      "description": "",
      "description_tooltip": null,
      "layout": "IPY_MODEL_eb2492d3d97e460ca69aa02ee53be9d7",
      "max": 714355318,
      "min": 0,
      "orientation": "horizontal",
      "style": "IPY_MODEL_8eb613e001cf4b249c31e320c7d7c3e5",
      "value": 714355318
     }
    },
    "b726c0adf64649a1a71a32e3e5e3bcd7": {
     "model_module": "@jupyter-widgets/controls",
     "model_name": "HTMLModel",
     "model_module_version": "1.5.0",
     "state": {
      "_dom_classes": [],
      "_model_module": "@jupyter-widgets/controls",
      "_model_module_version": "1.5.0",
      "_model_name": "HTMLModel",
      "_view_count": null,
      "_view_module": "@jupyter-widgets/controls",
      "_view_module_version": "1.5.0",
      "_view_name": "HTMLView",
      "description": "",
      "description_tooltip": null,
      "layout": "IPY_MODEL_91d3a9ee4fa14f7e93591fd3698022f5",
      "placeholder": "​",
      "style": "IPY_MODEL_bb5e1200d17049eabb6a48976046a24e",
      "value": " 714M/714M [00:05&lt;00:00, 152MB/s]"
     }
    },
    "224e86f246744bfeaa28894f10778a1f": {
     "model_module": "@jupyter-widgets/base",
     "model_name": "LayoutModel",
     "model_module_version": "1.2.0",
     "state": {
      "_model_module": "@jupyter-widgets/base",
      "_model_module_version": "1.2.0",
      "_model_name": "LayoutModel",
      "_view_count": null,
      "_view_module": "@jupyter-widgets/base",
      "_view_module_version": "1.2.0",
      "_view_name": "LayoutView",
      "align_content": null,
      "align_items": null,
      "align_self": null,
      "border": null,
      "bottom": null,
      "display": null,
      "flex": null,
      "flex_flow": null,
      "grid_area": null,
      "grid_auto_columns": null,
      "grid_auto_flow": null,
      "grid_auto_rows": null,
      "grid_column": null,
      "grid_gap": null,
      "grid_row": null,
      "grid_template_areas": null,
      "grid_template_columns": null,
      "grid_template_rows": null,
      "height": null,
      "justify_content": null,
      "justify_items": null,
      "left": null,
      "margin": null,
      "max_height": null,
      "max_width": null,
      "min_height": null,
      "min_width": null,
      "object_fit": null,
      "object_position": null,
      "order": null,
      "overflow": null,
      "overflow_x": null,
      "overflow_y": null,
      "padding": null,
      "right": null,
      "top": null,
      "visibility": null,
      "width": null
     }
    },
    "2789644e8ee04896a300aef9190c77bf": {
     "model_module": "@jupyter-widgets/base",
     "model_name": "LayoutModel",
     "model_module_version": "1.2.0",
     "state": {
      "_model_module": "@jupyter-widgets/base",
      "_model_module_version": "1.2.0",
      "_model_name": "LayoutModel",
      "_view_count": null,
      "_view_module": "@jupyter-widgets/base",
      "_view_module_version": "1.2.0",
      "_view_name": "LayoutView",
      "align_content": null,
      "align_items": null,
      "align_self": null,
      "border": null,
      "bottom": null,
      "display": null,
      "flex": null,
      "flex_flow": null,
      "grid_area": null,
      "grid_auto_columns": null,
      "grid_auto_flow": null,
      "grid_auto_rows": null,
      "grid_column": null,
      "grid_gap": null,
      "grid_row": null,
      "grid_template_areas": null,
      "grid_template_columns": null,
      "grid_template_rows": null,
      "height": null,
      "justify_content": null,
      "justify_items": null,
      "left": null,
      "margin": null,
      "max_height": null,
      "max_width": null,
      "min_height": null,
      "min_width": null,
      "object_fit": null,
      "object_position": null,
      "order": null,
      "overflow": null,
      "overflow_x": null,
      "overflow_y": null,
      "padding": null,
      "right": null,
      "top": null,
      "visibility": null,
      "width": null
     }
    },
    "d9c9f490882443fdbf189f0aef05c311": {
     "model_module": "@jupyter-widgets/controls",
     "model_name": "DescriptionStyleModel",
     "model_module_version": "1.5.0",
     "state": {
      "_model_module": "@jupyter-widgets/controls",
      "_model_module_version": "1.5.0",
      "_model_name": "DescriptionStyleModel",
      "_view_count": null,
      "_view_module": "@jupyter-widgets/base",
      "_view_module_version": "1.2.0",
      "_view_name": "StyleView",
      "description_width": ""
     }
    },
    "eb2492d3d97e460ca69aa02ee53be9d7": {
     "model_module": "@jupyter-widgets/base",
     "model_name": "LayoutModel",
     "model_module_version": "1.2.0",
     "state": {
      "_model_module": "@jupyter-widgets/base",
      "_model_module_version": "1.2.0",
      "_model_name": "LayoutModel",
      "_view_count": null,
      "_view_module": "@jupyter-widgets/base",
      "_view_module_version": "1.2.0",
      "_view_name": "LayoutView",
      "align_content": null,
      "align_items": null,
      "align_self": null,
      "border": null,
      "bottom": null,
      "display": null,
      "flex": null,
      "flex_flow": null,
      "grid_area": null,
      "grid_auto_columns": null,
      "grid_auto_flow": null,
      "grid_auto_rows": null,
      "grid_column": null,
      "grid_gap": null,
      "grid_row": null,
      "grid_template_areas": null,
      "grid_template_columns": null,
      "grid_template_rows": null,
      "height": null,
      "justify_content": null,
      "justify_items": null,
      "left": null,
      "margin": null,
      "max_height": null,
      "max_width": null,
      "min_height": null,
      "min_width": null,
      "object_fit": null,
      "object_position": null,
      "order": null,
      "overflow": null,
      "overflow_x": null,
      "overflow_y": null,
      "padding": null,
      "right": null,
      "top": null,
      "visibility": null,
      "width": null
     }
    },
    "8eb613e001cf4b249c31e320c7d7c3e5": {
     "model_module": "@jupyter-widgets/controls",
     "model_name": "ProgressStyleModel",
     "model_module_version": "1.5.0",
     "state": {
      "_model_module": "@jupyter-widgets/controls",
      "_model_module_version": "1.5.0",
      "_model_name": "ProgressStyleModel",
      "_view_count": null,
      "_view_module": "@jupyter-widgets/base",
      "_view_module_version": "1.2.0",
      "_view_name": "StyleView",
      "bar_color": null,
      "description_width": ""
     }
    },
    "91d3a9ee4fa14f7e93591fd3698022f5": {
     "model_module": "@jupyter-widgets/base",
     "model_name": "LayoutModel",
     "model_module_version": "1.2.0",
     "state": {
      "_model_module": "@jupyter-widgets/base",
      "_model_module_version": "1.2.0",
      "_model_name": "LayoutModel",
      "_view_count": null,
      "_view_module": "@jupyter-widgets/base",
      "_view_module_version": "1.2.0",
      "_view_name": "LayoutView",
      "align_content": null,
      "align_items": null,
      "align_self": null,
      "border": null,
      "bottom": null,
      "display": null,
      "flex": null,
      "flex_flow": null,
      "grid_area": null,
      "grid_auto_columns": null,
      "grid_auto_flow": null,
      "grid_auto_rows": null,
      "grid_column": null,
      "grid_gap": null,
      "grid_row": null,
      "grid_template_areas": null,
      "grid_template_columns": null,
      "grid_template_rows": null,
      "height": null,
      "justify_content": null,
      "justify_items": null,
      "left": null,
      "margin": null,
      "max_height": null,
      "max_width": null,
      "min_height": null,
      "min_width": null,
      "object_fit": null,
      "object_position": null,
      "order": null,
      "overflow": null,
      "overflow_x": null,
      "overflow_y": null,
      "padding": null,
      "right": null,
      "top": null,
      "visibility": null,
      "width": null
     }
    },
    "bb5e1200d17049eabb6a48976046a24e": {
     "model_module": "@jupyter-widgets/controls",
     "model_name": "DescriptionStyleModel",
     "model_module_version": "1.5.0",
     "state": {
      "_model_module": "@jupyter-widgets/controls",
      "_model_module_version": "1.5.0",
      "_model_name": "DescriptionStyleModel",
      "_view_count": null,
      "_view_module": "@jupyter-widgets/base",
      "_view_module_version": "1.2.0",
      "_view_name": "StyleView",
      "description_width": ""
     }
    },
    "164a511795ba4f16aed150352b185dd3": {
     "model_module": "@jupyter-widgets/controls",
     "model_name": "HBoxModel",
     "model_module_version": "1.5.0",
     "state": {
      "_dom_classes": [],
      "_model_module": "@jupyter-widgets/controls",
      "_model_module_version": "1.5.0",
      "_model_name": "HBoxModel",
      "_view_count": null,
      "_view_module": "@jupyter-widgets/controls",
      "_view_module_version": "1.5.0",
      "_view_name": "HBoxView",
      "box_style": "",
      "children": [
       "IPY_MODEL_c048121e49534fea918fce36f83ce533",
       "IPY_MODEL_5c4555336ba44589b263eda38245f52b",
       "IPY_MODEL_a636081ba140499aa823f1978ed3d138"
      ],
      "layout": "IPY_MODEL_6a1b8e0aeb69463d9f8a6f1a76417887"
     }
    },
    "c048121e49534fea918fce36f83ce533": {
     "model_module": "@jupyter-widgets/controls",
     "model_name": "HTMLModel",
     "model_module_version": "1.5.0",
     "state": {
      "_dom_classes": [],
      "_model_module": "@jupyter-widgets/controls",
      "_model_module_version": "1.5.0",
      "_model_name": "HTMLModel",
      "_view_count": null,
      "_view_module": "@jupyter-widgets/controls",
      "_view_module_version": "1.5.0",
      "_view_name": "HTMLView",
      "description": "",
      "description_tooltip": null,
      "layout": "IPY_MODEL_fe45263f551d46b892e3da2ff1b0d408",
      "placeholder": "​",
      "style": "IPY_MODEL_2ab6e7c57502418bb490afc0faf58741",
      "value": "tokenizer_config.json: 100%"
     }
    },
    "5c4555336ba44589b263eda38245f52b": {
     "model_module": "@jupyter-widgets/controls",
     "model_name": "FloatProgressModel",
     "model_module_version": "1.5.0",
     "state": {
      "_dom_classes": [],
      "_model_module": "@jupyter-widgets/controls",
      "_model_module_version": "1.5.0",
      "_model_name": "FloatProgressModel",
      "_view_count": null,
      "_view_module": "@jupyter-widgets/controls",
      "_view_module_version": "1.5.0",
      "_view_name": "ProgressView",
      "bar_style": "success",
      "description": "",
      "description_tooltip": null,
      "layout": "IPY_MODEL_3f2af9bee53c4fd7b598fa6a1a2c4ae7",
      "max": 24,
      "min": 0,
      "orientation": "horizontal",
      "style": "IPY_MODEL_5974b88adb1d43039d0e8d69e07a3231",
      "value": 24
     }
    },
    "a636081ba140499aa823f1978ed3d138": {
     "model_module": "@jupyter-widgets/controls",
     "model_name": "HTMLModel",
     "model_module_version": "1.5.0",
     "state": {
      "_dom_classes": [],
      "_model_module": "@jupyter-widgets/controls",
      "_model_module_version": "1.5.0",
      "_model_name": "HTMLModel",
      "_view_count": null,
      "_view_module": "@jupyter-widgets/controls",
      "_view_module_version": "1.5.0",
      "_view_name": "HTMLView",
      "description": "",
      "description_tooltip": null,
      "layout": "IPY_MODEL_023036b4b55b48b7bc88e092e7bd48cb",
      "placeholder": "​",
      "style": "IPY_MODEL_546b14dececb4a80a0c4e7c86ab69c95",
      "value": " 24.0/24.0 [00:00&lt;00:00, 1.08kB/s]"
     }
    },
    "6a1b8e0aeb69463d9f8a6f1a76417887": {
     "model_module": "@jupyter-widgets/base",
     "model_name": "LayoutModel",
     "model_module_version": "1.2.0",
     "state": {
      "_model_module": "@jupyter-widgets/base",
      "_model_module_version": "1.2.0",
      "_model_name": "LayoutModel",
      "_view_count": null,
      "_view_module": "@jupyter-widgets/base",
      "_view_module_version": "1.2.0",
      "_view_name": "LayoutView",
      "align_content": null,
      "align_items": null,
      "align_self": null,
      "border": null,
      "bottom": null,
      "display": null,
      "flex": null,
      "flex_flow": null,
      "grid_area": null,
      "grid_auto_columns": null,
      "grid_auto_flow": null,
      "grid_auto_rows": null,
      "grid_column": null,
      "grid_gap": null,
      "grid_row": null,
      "grid_template_areas": null,
      "grid_template_columns": null,
      "grid_template_rows": null,
      "height": null,
      "justify_content": null,
      "justify_items": null,
      "left": null,
      "margin": null,
      "max_height": null,
      "max_width": null,
      "min_height": null,
      "min_width": null,
      "object_fit": null,
      "object_position": null,
      "order": null,
      "overflow": null,
      "overflow_x": null,
      "overflow_y": null,
      "padding": null,
      "right": null,
      "top": null,
      "visibility": null,
      "width": null
     }
    },
    "fe45263f551d46b892e3da2ff1b0d408": {
     "model_module": "@jupyter-widgets/base",
     "model_name": "LayoutModel",
     "model_module_version": "1.2.0",
     "state": {
      "_model_module": "@jupyter-widgets/base",
      "_model_module_version": "1.2.0",
      "_model_name": "LayoutModel",
      "_view_count": null,
      "_view_module": "@jupyter-widgets/base",
      "_view_module_version": "1.2.0",
      "_view_name": "LayoutView",
      "align_content": null,
      "align_items": null,
      "align_self": null,
      "border": null,
      "bottom": null,
      "display": null,
      "flex": null,
      "flex_flow": null,
      "grid_area": null,
      "grid_auto_columns": null,
      "grid_auto_flow": null,
      "grid_auto_rows": null,
      "grid_column": null,
      "grid_gap": null,
      "grid_row": null,
      "grid_template_areas": null,
      "grid_template_columns": null,
      "grid_template_rows": null,
      "height": null,
      "justify_content": null,
      "justify_items": null,
      "left": null,
      "margin": null,
      "max_height": null,
      "max_width": null,
      "min_height": null,
      "min_width": null,
      "object_fit": null,
      "object_position": null,
      "order": null,
      "overflow": null,
      "overflow_x": null,
      "overflow_y": null,
      "padding": null,
      "right": null,
      "top": null,
      "visibility": null,
      "width": null
     }
    },
    "2ab6e7c57502418bb490afc0faf58741": {
     "model_module": "@jupyter-widgets/controls",
     "model_name": "DescriptionStyleModel",
     "model_module_version": "1.5.0",
     "state": {
      "_model_module": "@jupyter-widgets/controls",
      "_model_module_version": "1.5.0",
      "_model_name": "DescriptionStyleModel",
      "_view_count": null,
      "_view_module": "@jupyter-widgets/base",
      "_view_module_version": "1.2.0",
      "_view_name": "StyleView",
      "description_width": ""
     }
    },
    "3f2af9bee53c4fd7b598fa6a1a2c4ae7": {
     "model_module": "@jupyter-widgets/base",
     "model_name": "LayoutModel",
     "model_module_version": "1.2.0",
     "state": {
      "_model_module": "@jupyter-widgets/base",
      "_model_module_version": "1.2.0",
      "_model_name": "LayoutModel",
      "_view_count": null,
      "_view_module": "@jupyter-widgets/base",
      "_view_module_version": "1.2.0",
      "_view_name": "LayoutView",
      "align_content": null,
      "align_items": null,
      "align_self": null,
      "border": null,
      "bottom": null,
      "display": null,
      "flex": null,
      "flex_flow": null,
      "grid_area": null,
      "grid_auto_columns": null,
      "grid_auto_flow": null,
      "grid_auto_rows": null,
      "grid_column": null,
      "grid_gap": null,
      "grid_row": null,
      "grid_template_areas": null,
      "grid_template_columns": null,
      "grid_template_rows": null,
      "height": null,
      "justify_content": null,
      "justify_items": null,
      "left": null,
      "margin": null,
      "max_height": null,
      "max_width": null,
      "min_height": null,
      "min_width": null,
      "object_fit": null,
      "object_position": null,
      "order": null,
      "overflow": null,
      "overflow_x": null,
      "overflow_y": null,
      "padding": null,
      "right": null,
      "top": null,
      "visibility": null,
      "width": null
     }
    },
    "5974b88adb1d43039d0e8d69e07a3231": {
     "model_module": "@jupyter-widgets/controls",
     "model_name": "ProgressStyleModel",
     "model_module_version": "1.5.0",
     "state": {
      "_model_module": "@jupyter-widgets/controls",
      "_model_module_version": "1.5.0",
      "_model_name": "ProgressStyleModel",
      "_view_count": null,
      "_view_module": "@jupyter-widgets/base",
      "_view_module_version": "1.2.0",
      "_view_name": "StyleView",
      "bar_color": null,
      "description_width": ""
     }
    },
    "023036b4b55b48b7bc88e092e7bd48cb": {
     "model_module": "@jupyter-widgets/base",
     "model_name": "LayoutModel",
     "model_module_version": "1.2.0",
     "state": {
      "_model_module": "@jupyter-widgets/base",
      "_model_module_version": "1.2.0",
      "_model_name": "LayoutModel",
      "_view_count": null,
      "_view_module": "@jupyter-widgets/base",
      "_view_module_version": "1.2.0",
      "_view_name": "LayoutView",
      "align_content": null,
      "align_items": null,
      "align_self": null,
      "border": null,
      "bottom": null,
      "display": null,
      "flex": null,
      "flex_flow": null,
      "grid_area": null,
      "grid_auto_columns": null,
      "grid_auto_flow": null,
      "grid_auto_rows": null,
      "grid_column": null,
      "grid_gap": null,
      "grid_row": null,
      "grid_template_areas": null,
      "grid_template_columns": null,
      "grid_template_rows": null,
      "height": null,
      "justify_content": null,
      "justify_items": null,
      "left": null,
      "margin": null,
      "max_height": null,
      "max_width": null,
      "min_height": null,
      "min_width": null,
      "object_fit": null,
      "object_position": null,
      "order": null,
      "overflow": null,
      "overflow_x": null,
      "overflow_y": null,
      "padding": null,
      "right": null,
      "top": null,
      "visibility": null,
      "width": null
     }
    },
    "546b14dececb4a80a0c4e7c86ab69c95": {
     "model_module": "@jupyter-widgets/controls",
     "model_name": "DescriptionStyleModel",
     "model_module_version": "1.5.0",
     "state": {
      "_model_module": "@jupyter-widgets/controls",
      "_model_module_version": "1.5.0",
      "_model_name": "DescriptionStyleModel",
      "_view_count": null,
      "_view_module": "@jupyter-widgets/base",
      "_view_module_version": "1.2.0",
      "_view_name": "StyleView",
      "description_width": ""
     }
    },
    "c04fb63d958840bbbab0290d51e6f631": {
     "model_module": "@jupyter-widgets/controls",
     "model_name": "HBoxModel",
     "model_module_version": "1.5.0",
     "state": {
      "_dom_classes": [],
      "_model_module": "@jupyter-widgets/controls",
      "_model_module_version": "1.5.0",
      "_model_name": "HBoxModel",
      "_view_count": null,
      "_view_module": "@jupyter-widgets/controls",
      "_view_module_version": "1.5.0",
      "_view_name": "HBoxView",
      "box_style": "",
      "children": [
       "IPY_MODEL_8fed66fbdd9745e0b6b423b34a451de4",
       "IPY_MODEL_f13e2462815f479cba69c7a124b04ae5",
       "IPY_MODEL_873a82a094914854a4e7830bdb65648b"
      ],
      "layout": "IPY_MODEL_1e00f78fb62a4628abfba5a78a6a003f"
     }
    },
    "8fed66fbdd9745e0b6b423b34a451de4": {
     "model_module": "@jupyter-widgets/controls",
     "model_name": "HTMLModel",
     "model_module_version": "1.5.0",
     "state": {
      "_dom_classes": [],
      "_model_module": "@jupyter-widgets/controls",
      "_model_module_version": "1.5.0",
      "_model_name": "HTMLModel",
      "_view_count": null,
      "_view_module": "@jupyter-widgets/controls",
      "_view_module_version": "1.5.0",
      "_view_name": "HTMLView",
      "description": "",
      "description_tooltip": null,
      "layout": "IPY_MODEL_cbbbe8b496ae43e4ab12ae290a43ee99",
      "placeholder": "​",
      "style": "IPY_MODEL_eb6cd734f31a42c6a57a231f3b1cdabb",
      "value": "vocab.txt: 100%"
     }
    },
    "f13e2462815f479cba69c7a124b04ae5": {
     "model_module": "@jupyter-widgets/controls",
     "model_name": "FloatProgressModel",
     "model_module_version": "1.5.0",
     "state": {
      "_dom_classes": [],
      "_model_module": "@jupyter-widgets/controls",
      "_model_module_version": "1.5.0",
      "_model_name": "FloatProgressModel",
      "_view_count": null,
      "_view_module": "@jupyter-widgets/controls",
      "_view_module_version": "1.5.0",
      "_view_name": "ProgressView",
      "bar_style": "success",
      "description": "",
      "description_tooltip": null,
      "layout": "IPY_MODEL_19c8d660ba514a38b97d179b7a7d7d26",
      "max": 1649718,
      "min": 0,
      "orientation": "horizontal",
      "style": "IPY_MODEL_e287ebb66fae46dab4623541a199c830",
      "value": 1649718
     }
    },
    "873a82a094914854a4e7830bdb65648b": {
     "model_module": "@jupyter-widgets/controls",
     "model_name": "HTMLModel",
     "model_module_version": "1.5.0",
     "state": {
      "_dom_classes": [],
      "_model_module": "@jupyter-widgets/controls",
      "_model_module_version": "1.5.0",
      "_model_name": "HTMLModel",
      "_view_count": null,
      "_view_module": "@jupyter-widgets/controls",
      "_view_module_version": "1.5.0",
      "_view_name": "HTMLView",
      "description": "",
      "description_tooltip": null,
      "layout": "IPY_MODEL_426ca22f0c2047db8b698e3a67b02bde",
      "placeholder": "​",
      "style": "IPY_MODEL_7295d438b6e14eec8490e7ae679947b5",
      "value": " 1.65M/1.65M [00:00&lt;00:00, 17.2MB/s]"
     }
    },
    "1e00f78fb62a4628abfba5a78a6a003f": {
     "model_module": "@jupyter-widgets/base",
     "model_name": "LayoutModel",
     "model_module_version": "1.2.0",
     "state": {
      "_model_module": "@jupyter-widgets/base",
      "_model_module_version": "1.2.0",
      "_model_name": "LayoutModel",
      "_view_count": null,
      "_view_module": "@jupyter-widgets/base",
      "_view_module_version": "1.2.0",
      "_view_name": "LayoutView",
      "align_content": null,
      "align_items": null,
      "align_self": null,
      "border": null,
      "bottom": null,
      "display": null,
      "flex": null,
      "flex_flow": null,
      "grid_area": null,
      "grid_auto_columns": null,
      "grid_auto_flow": null,
      "grid_auto_rows": null,
      "grid_column": null,
      "grid_gap": null,
      "grid_row": null,
      "grid_template_areas": null,
      "grid_template_columns": null,
      "grid_template_rows": null,
      "height": null,
      "justify_content": null,
      "justify_items": null,
      "left": null,
      "margin": null,
      "max_height": null,
      "max_width": null,
      "min_height": null,
      "min_width": null,
      "object_fit": null,
      "object_position": null,
      "order": null,
      "overflow": null,
      "overflow_x": null,
      "overflow_y": null,
      "padding": null,
      "right": null,
      "top": null,
      "visibility": null,
      "width": null
     }
    },
    "cbbbe8b496ae43e4ab12ae290a43ee99": {
     "model_module": "@jupyter-widgets/base",
     "model_name": "LayoutModel",
     "model_module_version": "1.2.0",
     "state": {
      "_model_module": "@jupyter-widgets/base",
      "_model_module_version": "1.2.0",
      "_model_name": "LayoutModel",
      "_view_count": null,
      "_view_module": "@jupyter-widgets/base",
      "_view_module_version": "1.2.0",
      "_view_name": "LayoutView",
      "align_content": null,
      "align_items": null,
      "align_self": null,
      "border": null,
      "bottom": null,
      "display": null,
      "flex": null,
      "flex_flow": null,
      "grid_area": null,
      "grid_auto_columns": null,
      "grid_auto_flow": null,
      "grid_auto_rows": null,
      "grid_column": null,
      "grid_gap": null,
      "grid_row": null,
      "grid_template_areas": null,
      "grid_template_columns": null,
      "grid_template_rows": null,
      "height": null,
      "justify_content": null,
      "justify_items": null,
      "left": null,
      "margin": null,
      "max_height": null,
      "max_width": null,
      "min_height": null,
      "min_width": null,
      "object_fit": null,
      "object_position": null,
      "order": null,
      "overflow": null,
      "overflow_x": null,
      "overflow_y": null,
      "padding": null,
      "right": null,
      "top": null,
      "visibility": null,
      "width": null
     }
    },
    "eb6cd734f31a42c6a57a231f3b1cdabb": {
     "model_module": "@jupyter-widgets/controls",
     "model_name": "DescriptionStyleModel",
     "model_module_version": "1.5.0",
     "state": {
      "_model_module": "@jupyter-widgets/controls",
      "_model_module_version": "1.5.0",
      "_model_name": "DescriptionStyleModel",
      "_view_count": null,
      "_view_module": "@jupyter-widgets/base",
      "_view_module_version": "1.2.0",
      "_view_name": "StyleView",
      "description_width": ""
     }
    },
    "19c8d660ba514a38b97d179b7a7d7d26": {
     "model_module": "@jupyter-widgets/base",
     "model_name": "LayoutModel",
     "model_module_version": "1.2.0",
     "state": {
      "_model_module": "@jupyter-widgets/base",
      "_model_module_version": "1.2.0",
      "_model_name": "LayoutModel",
      "_view_count": null,
      "_view_module": "@jupyter-widgets/base",
      "_view_module_version": "1.2.0",
      "_view_name": "LayoutView",
      "align_content": null,
      "align_items": null,
      "align_self": null,
      "border": null,
      "bottom": null,
      "display": null,
      "flex": null,
      "flex_flow": null,
      "grid_area": null,
      "grid_auto_columns": null,
      "grid_auto_flow": null,
      "grid_auto_rows": null,
      "grid_column": null,
      "grid_gap": null,
      "grid_row": null,
      "grid_template_areas": null,
      "grid_template_columns": null,
      "grid_template_rows": null,
      "height": null,
      "justify_content": null,
      "justify_items": null,
      "left": null,
      "margin": null,
      "max_height": null,
      "max_width": null,
      "min_height": null,
      "min_width": null,
      "object_fit": null,
      "object_position": null,
      "order": null,
      "overflow": null,
      "overflow_x": null,
      "overflow_y": null,
      "padding": null,
      "right": null,
      "top": null,
      "visibility": null,
      "width": null
     }
    },
    "e287ebb66fae46dab4623541a199c830": {
     "model_module": "@jupyter-widgets/controls",
     "model_name": "ProgressStyleModel",
     "model_module_version": "1.5.0",
     "state": {
      "_model_module": "@jupyter-widgets/controls",
      "_model_module_version": "1.5.0",
      "_model_name": "ProgressStyleModel",
      "_view_count": null,
      "_view_module": "@jupyter-widgets/base",
      "_view_module_version": "1.2.0",
      "_view_name": "StyleView",
      "bar_color": null,
      "description_width": ""
     }
    },
    "426ca22f0c2047db8b698e3a67b02bde": {
     "model_module": "@jupyter-widgets/base",
     "model_name": "LayoutModel",
     "model_module_version": "1.2.0",
     "state": {
      "_model_module": "@jupyter-widgets/base",
      "_model_module_version": "1.2.0",
      "_model_name": "LayoutModel",
      "_view_count": null,
      "_view_module": "@jupyter-widgets/base",
      "_view_module_version": "1.2.0",
      "_view_name": "LayoutView",
      "align_content": null,
      "align_items": null,
      "align_self": null,
      "border": null,
      "bottom": null,
      "display": null,
      "flex": null,
      "flex_flow": null,
      "grid_area": null,
      "grid_auto_columns": null,
      "grid_auto_flow": null,
      "grid_auto_rows": null,
      "grid_column": null,
      "grid_gap": null,
      "grid_row": null,
      "grid_template_areas": null,
      "grid_template_columns": null,
      "grid_template_rows": null,
      "height": null,
      "justify_content": null,
      "justify_items": null,
      "left": null,
      "margin": null,
      "max_height": null,
      "max_width": null,
      "min_height": null,
      "min_width": null,
      "object_fit": null,
      "object_position": null,
      "order": null,
      "overflow": null,
      "overflow_x": null,
      "overflow_y": null,
      "padding": null,
      "right": null,
      "top": null,
      "visibility": null,
      "width": null
     }
    },
    "7295d438b6e14eec8490e7ae679947b5": {
     "model_module": "@jupyter-widgets/controls",
     "model_name": "DescriptionStyleModel",
     "model_module_version": "1.5.0",
     "state": {
      "_model_module": "@jupyter-widgets/controls",
      "_model_module_version": "1.5.0",
      "_model_name": "DescriptionStyleModel",
      "_view_count": null,
      "_view_module": "@jupyter-widgets/base",
      "_view_module_version": "1.2.0",
      "_view_name": "StyleView",
      "description_width": ""
     }
    },
    "232b2a8f39dc44b28d446faa27b3318e": {
     "model_module": "@jupyter-widgets/controls",
     "model_name": "HBoxModel",
     "model_module_version": "1.5.0",
     "state": {
      "_dom_classes": [],
      "_model_module": "@jupyter-widgets/controls",
      "_model_module_version": "1.5.0",
      "_model_name": "HBoxModel",
      "_view_count": null,
      "_view_module": "@jupyter-widgets/controls",
      "_view_module_version": "1.5.0",
      "_view_name": "HBoxView",
      "box_style": "",
      "children": [
       "IPY_MODEL_a1ad051484f14f97811a89c8129b52d2",
       "IPY_MODEL_c2942a6ecdb543da9cf982e26b998aa8",
       "IPY_MODEL_518470bad5fa4129bbf33262e7c1dde1"
      ],
      "layout": "IPY_MODEL_144fffa171164d7ab6a0995ff733d997"
     }
    },
    "a1ad051484f14f97811a89c8129b52d2": {
     "model_module": "@jupyter-widgets/controls",
     "model_name": "HTMLModel",
     "model_module_version": "1.5.0",
     "state": {
      "_dom_classes": [],
      "_model_module": "@jupyter-widgets/controls",
      "_model_module_version": "1.5.0",
      "_model_name": "HTMLModel",
      "_view_count": null,
      "_view_module": "@jupyter-widgets/controls",
      "_view_module_version": "1.5.0",
      "_view_name": "HTMLView",
      "description": "",
      "description_tooltip": null,
      "layout": "IPY_MODEL_c466789d28ea4323b0a8e48422e18eec",
      "placeholder": "​",
      "style": "IPY_MODEL_dac7faaae6184e5782aac2125edbb7e1",
      "value": "special_tokens_map.json: 100%"
     }
    },
    "c2942a6ecdb543da9cf982e26b998aa8": {
     "model_module": "@jupyter-widgets/controls",
     "model_name": "FloatProgressModel",
     "model_module_version": "1.5.0",
     "state": {
      "_dom_classes": [],
      "_model_module": "@jupyter-widgets/controls",
      "_model_module_version": "1.5.0",
      "_model_name": "FloatProgressModel",
      "_view_count": null,
      "_view_module": "@jupyter-widgets/controls",
      "_view_module_version": "1.5.0",
      "_view_name": "ProgressView",
      "bar_style": "success",
      "description": "",
      "description_tooltip": null,
      "layout": "IPY_MODEL_6f27613a793d4c53989c554063d34abc",
      "max": 112,
      "min": 0,
      "orientation": "horizontal",
      "style": "IPY_MODEL_249a9c20f77c4452991973017c0cdb71",
      "value": 112
     }
    },
    "518470bad5fa4129bbf33262e7c1dde1": {
     "model_module": "@jupyter-widgets/controls",
     "model_name": "HTMLModel",
     "model_module_version": "1.5.0",
     "state": {
      "_dom_classes": [],
      "_model_module": "@jupyter-widgets/controls",
      "_model_module_version": "1.5.0",
      "_model_name": "HTMLModel",
      "_view_count": null,
      "_view_module": "@jupyter-widgets/controls",
      "_view_module_version": "1.5.0",
      "_view_name": "HTMLView",
      "description": "",
      "description_tooltip": null,
      "layout": "IPY_MODEL_5dcdd2b9d6004ee993f6330764f800f6",
      "placeholder": "​",
      "style": "IPY_MODEL_ecf96af154e1424b819cde7c81688120",
      "value": " 112/112 [00:00&lt;00:00, 4.21kB/s]"
     }
    },
    "144fffa171164d7ab6a0995ff733d997": {
     "model_module": "@jupyter-widgets/base",
     "model_name": "LayoutModel",
     "model_module_version": "1.2.0",
     "state": {
      "_model_module": "@jupyter-widgets/base",
      "_model_module_version": "1.2.0",
      "_model_name": "LayoutModel",
      "_view_count": null,
      "_view_module": "@jupyter-widgets/base",
      "_view_module_version": "1.2.0",
      "_view_name": "LayoutView",
      "align_content": null,
      "align_items": null,
      "align_self": null,
      "border": null,
      "bottom": null,
      "display": null,
      "flex": null,
      "flex_flow": null,
      "grid_area": null,
      "grid_auto_columns": null,
      "grid_auto_flow": null,
      "grid_auto_rows": null,
      "grid_column": null,
      "grid_gap": null,
      "grid_row": null,
      "grid_template_areas": null,
      "grid_template_columns": null,
      "grid_template_rows": null,
      "height": null,
      "justify_content": null,
      "justify_items": null,
      "left": null,
      "margin": null,
      "max_height": null,
      "max_width": null,
      "min_height": null,
      "min_width": null,
      "object_fit": null,
      "object_position": null,
      "order": null,
      "overflow": null,
      "overflow_x": null,
      "overflow_y": null,
      "padding": null,
      "right": null,
      "top": null,
      "visibility": null,
      "width": null
     }
    },
    "c466789d28ea4323b0a8e48422e18eec": {
     "model_module": "@jupyter-widgets/base",
     "model_name": "LayoutModel",
     "model_module_version": "1.2.0",
     "state": {
      "_model_module": "@jupyter-widgets/base",
      "_model_module_version": "1.2.0",
      "_model_name": "LayoutModel",
      "_view_count": null,
      "_view_module": "@jupyter-widgets/base",
      "_view_module_version": "1.2.0",
      "_view_name": "LayoutView",
      "align_content": null,
      "align_items": null,
      "align_self": null,
      "border": null,
      "bottom": null,
      "display": null,
      "flex": null,
      "flex_flow": null,
      "grid_area": null,
      "grid_auto_columns": null,
      "grid_auto_flow": null,
      "grid_auto_rows": null,
      "grid_column": null,
      "grid_gap": null,
      "grid_row": null,
      "grid_template_areas": null,
      "grid_template_columns": null,
      "grid_template_rows": null,
      "height": null,
      "justify_content": null,
      "justify_items": null,
      "left": null,
      "margin": null,
      "max_height": null,
      "max_width": null,
      "min_height": null,
      "min_width": null,
      "object_fit": null,
      "object_position": null,
      "order": null,
      "overflow": null,
      "overflow_x": null,
      "overflow_y": null,
      "padding": null,
      "right": null,
      "top": null,
      "visibility": null,
      "width": null
     }
    },
    "dac7faaae6184e5782aac2125edbb7e1": {
     "model_module": "@jupyter-widgets/controls",
     "model_name": "DescriptionStyleModel",
     "model_module_version": "1.5.0",
     "state": {
      "_model_module": "@jupyter-widgets/controls",
      "_model_module_version": "1.5.0",
      "_model_name": "DescriptionStyleModel",
      "_view_count": null,
      "_view_module": "@jupyter-widgets/base",
      "_view_module_version": "1.2.0",
      "_view_name": "StyleView",
      "description_width": ""
     }
    },
    "6f27613a793d4c53989c554063d34abc": {
     "model_module": "@jupyter-widgets/base",
     "model_name": "LayoutModel",
     "model_module_version": "1.2.0",
     "state": {
      "_model_module": "@jupyter-widgets/base",
      "_model_module_version": "1.2.0",
      "_model_name": "LayoutModel",
      "_view_count": null,
      "_view_module": "@jupyter-widgets/base",
      "_view_module_version": "1.2.0",
      "_view_name": "LayoutView",
      "align_content": null,
      "align_items": null,
      "align_self": null,
      "border": null,
      "bottom": null,
      "display": null,
      "flex": null,
      "flex_flow": null,
      "grid_area": null,
      "grid_auto_columns": null,
      "grid_auto_flow": null,
      "grid_auto_rows": null,
      "grid_column": null,
      "grid_gap": null,
      "grid_row": null,
      "grid_template_areas": null,
      "grid_template_columns": null,
      "grid_template_rows": null,
      "height": null,
      "justify_content": null,
      "justify_items": null,
      "left": null,
      "margin": null,
      "max_height": null,
      "max_width": null,
      "min_height": null,
      "min_width": null,
      "object_fit": null,
      "object_position": null,
      "order": null,
      "overflow": null,
      "overflow_x": null,
      "overflow_y": null,
      "padding": null,
      "right": null,
      "top": null,
      "visibility": null,
      "width": null
     }
    },
    "249a9c20f77c4452991973017c0cdb71": {
     "model_module": "@jupyter-widgets/controls",
     "model_name": "ProgressStyleModel",
     "model_module_version": "1.5.0",
     "state": {
      "_model_module": "@jupyter-widgets/controls",
      "_model_module_version": "1.5.0",
      "_model_name": "ProgressStyleModel",
      "_view_count": null,
      "_view_module": "@jupyter-widgets/base",
      "_view_module_version": "1.2.0",
      "_view_name": "StyleView",
      "bar_color": null,
      "description_width": ""
     }
    },
    "5dcdd2b9d6004ee993f6330764f800f6": {
     "model_module": "@jupyter-widgets/base",
     "model_name": "LayoutModel",
     "model_module_version": "1.2.0",
     "state": {
      "_model_module": "@jupyter-widgets/base",
      "_model_module_version": "1.2.0",
      "_model_name": "LayoutModel",
      "_view_count": null,
      "_view_module": "@jupyter-widgets/base",
      "_view_module_version": "1.2.0",
      "_view_name": "LayoutView",
      "align_content": null,
      "align_items": null,
      "align_self": null,
      "border": null,
      "bottom": null,
      "display": null,
      "flex": null,
      "flex_flow": null,
      "grid_area": null,
      "grid_auto_columns": null,
      "grid_auto_flow": null,
      "grid_auto_rows": null,
      "grid_column": null,
      "grid_gap": null,
      "grid_row": null,
      "grid_template_areas": null,
      "grid_template_columns": null,
      "grid_template_rows": null,
      "height": null,
      "justify_content": null,
      "justify_items": null,
      "left": null,
      "margin": null,
      "max_height": null,
      "max_width": null,
      "min_height": null,
      "min_width": null,
      "object_fit": null,
      "object_position": null,
      "order": null,
      "overflow": null,
      "overflow_x": null,
      "overflow_y": null,
      "padding": null,
      "right": null,
      "top": null,
      "visibility": null,
      "width": null
     }
    },
    "ecf96af154e1424b819cde7c81688120": {
     "model_module": "@jupyter-widgets/controls",
     "model_name": "DescriptionStyleModel",
     "model_module_version": "1.5.0",
     "state": {
      "_model_module": "@jupyter-widgets/controls",
      "_model_module_version": "1.5.0",
      "_model_name": "DescriptionStyleModel",
      "_view_count": null,
      "_view_module": "@jupyter-widgets/base",
      "_view_module_version": "1.2.0",
      "_view_name": "StyleView",
      "description_width": ""
     }
    }
   }
  }
 },
 "cells": [
  {
   "cell_type": "code",
   "execution_count": 1,
   "metadata": {
    "colab": {
     "base_uri": "https://localhost:8080/"
    },
    "id": "nQV8Nm4lLYGt",
    "outputId": "430a5976-cbd6-4adf-e2ab-4fa88deaae8c",
    "ExecuteTime": {
     "end_time": "2024-04-13T19:48:18.466221Z",
     "start_time": "2024-04-13T19:46:58.044113Z"
    }
   },
   "outputs": [],
   "source": [
    "import pickle\n",
    "import re\n",
    "import numpy as np\n",
    "import pandas as pd\n",
    "import torch\n",
    "\n",
    "\n",
    "# from google.colab import drive\n",
    "# drive.mount('/content/drive')"
   ]
  },
  {
   "cell_type": "code",
   "source": [
    "with open('data/mentions texts.pickle', 'rb') as f:\n",
    "    news_train = pickle.load(f)\n",
    "\n",
    "\n",
    "with open('data/sentiment_texts.pickle', 'rb') as f:\n",
    "    sentiment_train = pickle.load(f)"
   ],
   "metadata": {
    "id": "TVj0H2SlME4Y",
    "ExecuteTime": {
     "end_time": "2024-04-13T19:52:31.400683Z",
     "start_time": "2024-04-13T19:52:31.158778Z"
    }
   },
   "execution_count": 18,
   "outputs": []
  },
  {
   "cell_type": "code",
   "source": [
    "test_text = news_train.iloc[7].MessageText\n",
    "test_text"
   ],
   "metadata": {
    "colab": {
     "base_uri": "https://localhost:8080/",
     "height": 89
    },
    "id": "xUxvoDvEPY3l",
    "outputId": "23c431b8-fbf7-4aa8-8224-8d29586b623a",
    "ExecuteTime": {
     "end_time": "2024-04-14T00:53:36.297682Z",
     "start_time": "2024-04-14T00:53:36.271760Z"
    }
   },
   "execution_count": 195,
   "outputs": [
    {
     "data": {
      "text/plain": "'Главное к открытию среды (20.09): #брифинг  📌 Значение индекса ЖиС: 60 (жадность). Подробнее об индексе здесь.  📍 Курсы валют: 96.7 ₽/$ (-0.1%), 13.2 ₽/¥ (-0.4%).  📍 Мосбиржа (MOEX) c 21 сентября 2023 г. вводит ограничение на максимальное отклонение цен заявок, подаваемых участниками рынка на приобретение акций и депозитарных расписок российских эмитентов, включенных в третий уровень листинга, на уровне не выше 22% от цены закрытия предыдущего торгового дня. 📍 Русснефть (RNFT) сократит добычу в 2023 г. на 5% из-за решений ОПЕК+. Русснефть назвала уровень цен на российскую нефть в $72 за баррель комфортным. 📍 События сегодня: (1) США: решение по процентной ставке 21:00 мск и пресс-конференция Пауэлла 21:30 мск. (2) Запасы сырой нефти в США 17:30 мск. (3) Positive Technologies (POSI): четвертый заключительный раунд выкупа в рамках SPO в акциях.   📈Что влияет на рынки в ближайшие 5 дней?  Доступно членам @RDVPREMIUMbot  @AK47pfl'"
     },
     "execution_count": 195,
     "metadata": {},
     "output_type": "execute_result"
    }
   ]
  },
  {
   "cell_type": "code",
   "source": [
    "import nltk\n",
    "from nltk.tokenize import sent_tokenize, word_tokenize\n",
    "from nltk.tag import pos_tag\n",
    "nltk.download('punkt')\n",
    "nltk.download('averaged_perceptron_tagger_ru')\n",
    "sentence = test_text\n",
    "\n",
    "tokens = word_tokenize(sentence)\n",
    "\n",
    "# Определение частей речи для каждого токена\n",
    "tagged = pos_tag(tokens, lang='rus')\n",
    "\n",
    "subject = None\n",
    "for word, pos in tagged:\n",
    "    if pos == 'S':\n",
    "        subject = word\n",
    "        break\n",
    "\n",
    "print(\"Подлежащее:\", subject)"
   ],
   "metadata": {
    "colab": {
     "base_uri": "https://localhost:8080/"
    },
    "id": "fj_rFKNOOx5E",
    "outputId": "88e01e5a-8fff-43c5-f363-3b1d436864ff",
    "ExecuteTime": {
     "end_time": "2024-04-13T19:50:01.288874Z",
     "start_time": "2024-04-13T19:49:53.217138Z"
    }
   },
   "execution_count": 4,
   "outputs": [
    {
     "name": "stderr",
     "output_type": "stream",
     "text": [
      "[nltk_data] Downloading package punkt to\n",
      "[nltk_data]     /Users/danielbelikov/nltk_data...\n",
      "[nltk_data]   Package punkt is already up-to-date!\n",
      "[nltk_data] Downloading package averaged_perceptron_tagger_ru to\n",
      "[nltk_data]     /Users/danielbelikov/nltk_data...\n",
      "[nltk_data]   Package averaged_perceptron_tagger_ru is already up-to-\n",
      "[nltk_data]       date!\n"
     ]
    },
    {
     "name": "stdout",
     "output_type": "stream",
     "text": [
      "Подлежащее: Версия\n"
     ]
    }
   ]
  },
  {
   "cell_type": "code",
   "source": [
    "#словарь новость - компании\n",
    "def create_dict_mes_ids(df):\n",
    "    dic = dict()\n",
    "    for i in range(len(df)):\n",
    "        if df.iloc[i].messageid in dic:\n",
    "            dic[df.iloc[i].messageid].append(df.iloc[i].issuerid)\n",
    "        else:\n",
    "            dic[df.iloc[i].messageid] = [df.iloc[i].issuerid]\n",
    "    return dic\n",
    "\n",
    "mes_to_ids = create_dict_mes_ids(news_train)\n"
   ],
   "metadata": {
    "id": "HOqeXzatm9as",
    "ExecuteTime": {
     "end_time": "2024-04-13T19:50:07.562604Z",
     "start_time": "2024-04-13T19:50:03.339306Z"
    }
   },
   "execution_count": 5,
   "outputs": []
  },
  {
   "cell_type": "code",
   "source": [
    "import math\n",
    "df = pd.read_excel('data/issuers_modified.xlsx')\n",
    "dictionary_companies = df.set_index('issuerid').to_dict(orient='index')\n",
    "dictionary_companies_by_ticker = dict()\n",
    "companies = set()\n",
    "for key in dictionary_companies:\n",
    "    names = dictionary_companies[key][\"EMITENT_FULL_NAME\"]\n",
    "    names_splitted = re.findall(r'\"([^\"]*)\"', names)\n",
    "    dictionary_companies[key][\"EMITENT_FULL_NAME\"] = names_splitted\n",
    "    tickers = [dictionary_companies[key]['BGTicker']] + [dictionary_companies[key]['OtherTicker']]\n",
    "    tickers = [x.split()[0] for x in tickers if not isinstance(x, float) or not math.isnan(x)]\n",
    "\n",
    "    for ticker in tickers:\n",
    "      dictionary_companies_by_ticker[ticker] = key\n",
    "\n",
    "    for x in names_splitted:\n",
    "        companies.add(x.lower())"
   ],
   "metadata": {
    "id": "Y-ykqrX4pBXp",
    "ExecuteTime": {
     "end_time": "2024-04-13T19:50:21.715034Z",
     "start_time": "2024-04-13T19:50:19.673526Z"
    }
   },
   "execution_count": 7,
   "outputs": []
  },
  {
   "cell_type": "code",
   "source": [
    "#тупой способ\n",
    "succes = 0\n",
    "for i in range(1, len(news_train)):\n",
    "    news = news_train.iloc[i] \n",
    "    company = dictionary_companies[news.issuerid]\n",
    "    company_names = company['EMITENT_FULL_NAME']\n",
    "\n",
    "    company_tickers = [company['BGTicker']] + [company['OtherTicker']]\n",
    "    company_tickers = [x.split()[0] for x in company_tickers if not isinstance(x, float) or not math.isnan(x)]\n",
    "    text = news.MessageText\n",
    "\n",
    "    matches_tickers = re.findall(r'(?<=\\$)\\[A-Z]+|[A-Z]{4,6}', text)\n",
    "\n",
    "    if len(matches_tickers) > 0:\n",
    "      if matches_tickers[0] in company_tickers:\n",
    "          succes += 1\n",
    "    #print(succes, i)\n",
    "\n",
    "print(succes / len(news_train))"
   ],
   "metadata": {
    "id": "KbjdtKXqflhT",
    "ExecuteTime": {
     "end_time": "2024-04-13T15:41:05.872881Z",
     "start_time": "2024-04-13T15:41:05.065824Z"
    }
   },
   "execution_count": 80,
   "outputs": [
    {
     "ename": "KeyError",
     "evalue": "253",
     "output_type": "error",
     "traceback": [
      "\u001B[0;31m---------------------------------------------------------------------------\u001B[0m",
      "\u001B[0;31mKeyError\u001B[0m                                  Traceback (most recent call last)",
      "\u001B[0;32m<ipython-input-80-b432bd8258a8>\u001B[0m in \u001B[0;36m<module>\u001B[0;34m\u001B[0m\n\u001B[1;32m      3\u001B[0m \u001B[0;32mfor\u001B[0m \u001B[0mi\u001B[0m \u001B[0;32min\u001B[0m \u001B[0mrange\u001B[0m\u001B[0;34m(\u001B[0m\u001B[0;36m1\u001B[0m\u001B[0;34m,\u001B[0m \u001B[0mlen\u001B[0m\u001B[0;34m(\u001B[0m\u001B[0mnews_train\u001B[0m\u001B[0;34m)\u001B[0m\u001B[0;34m)\u001B[0m\u001B[0;34m:\u001B[0m\u001B[0;34m\u001B[0m\u001B[0;34m\u001B[0m\u001B[0m\n\u001B[1;32m      4\u001B[0m     \u001B[0mnews\u001B[0m \u001B[0;34m=\u001B[0m \u001B[0mnews_train\u001B[0m\u001B[0;34m.\u001B[0m\u001B[0miloc\u001B[0m\u001B[0;34m[\u001B[0m\u001B[0mi\u001B[0m\u001B[0;34m]\u001B[0m\u001B[0;34m\u001B[0m\u001B[0;34m\u001B[0m\u001B[0m\n\u001B[0;32m----> 5\u001B[0;31m     \u001B[0mcompany\u001B[0m \u001B[0;34m=\u001B[0m \u001B[0mdictionary_companies\u001B[0m\u001B[0;34m[\u001B[0m\u001B[0mnews\u001B[0m\u001B[0;34m.\u001B[0m\u001B[0missuerid\u001B[0m\u001B[0;34m]\u001B[0m\u001B[0;34m\u001B[0m\u001B[0;34m\u001B[0m\u001B[0m\n\u001B[0m\u001B[1;32m      6\u001B[0m     \u001B[0mcompany_names\u001B[0m \u001B[0;34m=\u001B[0m \u001B[0mcompany\u001B[0m\u001B[0;34m[\u001B[0m\u001B[0;34m'EMITENT_FULL_NAME'\u001B[0m\u001B[0;34m]\u001B[0m\u001B[0;34m\u001B[0m\u001B[0;34m\u001B[0m\u001B[0m\n\u001B[1;32m      7\u001B[0m \u001B[0;34m\u001B[0m\u001B[0m\n",
      "\u001B[0;31mKeyError\u001B[0m: 253"
     ]
    }
   ]
  },
  {
   "cell_type": "code",
   "source": [
    "def create_dict_mes_to_index(ms_to_copm, df):\n",
    "    dic = dict()\n",
    "\n",
    "    for ms_id in ms_to_copm:\n",
    "      index = df.index[df['messageid'] == ms_id]\n",
    "      #print(index[0])\n",
    "      dic[ms_id] = index[0]\n",
    "    return dic\n",
    "\n",
    "mes_to_index = create_dict_mes_to_index(mes_to_ids, news_train)\n"
   ],
   "metadata": {
    "id": "19C8EVcbD22m",
    "ExecuteTime": {
     "end_time": "2024-04-13T21:38:15.012991Z",
     "start_time": "2024-04-13T21:38:13.891189Z"
    }
   },
   "execution_count": 96,
   "outputs": []
  },
  {
   "cell_type": "code",
   "source": [
    "#все тикеры компаний\n",
    "df1 = df.dropna(subset=['BGTicker'])\n",
    "df2 = df.dropna(subset=['OtherTicker'])\n",
    "\n",
    "t1 = ' '.join(df1['BGTicker']).split()\n",
    "t2 = ' '.join(df2['OtherTicker']).split()\n",
    "\n",
    "all_tickers = (set(t1) | set(t2)) - set(['RX', 'LI'])\n",
    "all_tickers"
   ],
   "metadata": {
    "colab": {
     "base_uri": "https://localhost:8080/"
    },
    "id": "W_ioHgf6N0Mo",
    "outputId": "9c622417-27ef-4468-9e74-441856873246",
    "ExecuteTime": {
     "end_time": "2024-04-13T19:50:34.759637Z",
     "start_time": "2024-04-13T19:50:34.730917Z"
    }
   },
   "execution_count": 10,
   "outputs": [
    {
     "data": {
      "text/plain": "{'ABIO',\n 'ABRD',\n 'ACKO',\n 'AFKS',\n 'AFLT',\n 'AGRO',\n 'AKRN',\n 'ALBK',\n 'ALNU',\n 'ALRS',\n 'AMEZ',\n 'APTK',\n 'AQUA',\n 'ARSA',\n 'ASSB',\n 'ASTR',\n 'AVAN',\n 'BANE',\n 'BELU',\n 'BISV',\n 'BLNG',\n 'BRZL',\n 'BSPB',\n 'CARM',\n 'CBOM',\n 'CHEP',\n 'CHGZ',\n 'CHKZ',\n 'CHMF',\n 'CHMK',\n 'CIAN',\n 'CNTL',\n 'DASB',\n 'DELI',\n 'DERZP',\n 'DIAS',\n 'DIOD',\n 'DSKY',\n 'DVEC',\n 'DZRD',\n 'EELT',\n 'ELTZ',\n 'ENPG',\n 'ENRU',\n 'ETLN',\n 'EUTR',\n 'FEES',\n 'FESH',\n 'FIVE',\n 'FIXP',\n 'FLOT',\n 'GAZA',\n 'GAZC',\n 'GAZP',\n 'GAZS',\n 'GAZT',\n 'GCHE',\n 'GECO',\n 'GEMA',\n 'GEMC',\n 'GLPR',\n 'GLTR',\n 'GMKN',\n 'GRNT',\n 'GTLC',\n 'GTRK',\n 'GTSS',\n 'HHRU',\n 'HIMC',\n 'HMSG',\n 'HNFG',\n 'HYDR',\n 'IDVP',\n 'IGST',\n 'INGR',\n 'IRAO',\n 'IRGZ',\n 'IRKT',\n 'ISKJ',\n 'JNOS',\n 'KAZT',\n 'KBSB',\n 'KBTK',\n 'KCHE',\n 'KGKC',\n 'KLSB',\n 'KMAZ',\n 'KMEZ',\n 'KMTZ',\n 'KOGK',\n 'KRKN',\n 'KRKO',\n 'KROT',\n 'KRSB',\n 'KSGR',\n 'KTSB',\n 'KUBE',\n 'KUZB',\n 'KZMS',\n 'KZOS',\n 'LIFE',\n 'LKOH',\n 'LNTA',\n 'LNZL',\n 'LPSB',\n 'LSNG',\n 'LSRG',\n 'LVHK',\n 'MAGE',\n 'MAGN',\n 'MAIL',\n 'MDMG',\n 'MERF',\n 'MFGS',\n 'MFON',\n 'MGNT',\n 'MGNZ',\n 'MGTS',\n 'MISB',\n 'MOBB',\n 'MOEX',\n 'MORI',\n 'MRKC',\n 'MRKK',\n 'MRKP',\n 'MRKS',\n 'MRKU',\n 'MRKV',\n 'MRKY',\n 'MRKZ',\n 'MRSB',\n 'MSNG',\n 'MSRS',\n 'MSST',\n 'MSTT',\n 'MTLR',\n 'MTSS',\n 'MVID',\n 'NAUK',\n 'NFAZ',\n 'NKHP',\n 'NKNC',\n 'NKSH',\n 'NLMK',\n 'NMTP',\n 'NNSB',\n 'NOMP',\n 'NPOF',\n 'NSVZ',\n 'NVTK',\n 'ODVA',\n 'OGKB',\n 'OKEY',\n 'OMZZ',\n 'ORUP',\n 'OZON',\n 'PAZA',\n 'PHOR',\n 'PIKK',\n 'PLZL',\n 'PMSB',\n 'POGR',\n 'POLY',\n 'POSI',\n 'PRFN',\n 'PRMB',\n 'QIWI',\n 'RASP',\n 'RBCM',\n 'RDRB',\n 'RENI',\n 'RGSS',\n 'RKKE',\n 'RLMN',\n 'RNFT',\n 'ROLO',\n 'ROSB',\n 'ROSN',\n 'ROST',\n 'RSTI',\n 'RTGZ',\n 'RTKM',\n 'RTSB',\n 'RTSD',\n 'RUAL',\n 'RUGR',\n 'RUSI',\n 'RUSP',\n 'RZSB',\n 'SAGO',\n 'SARE',\n 'SATR',\n 'SBER',\n 'SELG',\n 'SFIN',\n 'SFTL',\n 'SGZH',\n 'SIBG',\n 'SIBN',\n 'SLEN',\n 'SMLT',\n 'SNGS',\n 'SPBE',\n 'SPBE_x000D_',\n 'STSB',\n 'SVAV',\n 'SVCB',\n 'SVET',\n 'TASB',\n 'TATN',\n 'TCS',\n 'TGKA',\n 'TGKB',\n 'TGKD',\n 'TGKN',\n 'TNSE',\n 'TORS',\n 'TRCN',\n 'TRFM',\n 'TRMK',\n 'TRNFP',\n 'TTLK',\n 'TUCH',\n 'TUZA',\n 'UCSS',\n 'UGLD',\n 'UKUZ',\n 'UNAC',\n 'UNKL',\n 'UPRO',\n 'URKA',\n 'URKZ',\n 'USBN',\n 'UTAR',\n 'UWGN',\n 'VEON',\n 'VGSB',\n 'VJGZ',\n 'VLHZ',\n 'VRSB',\n 'VSMO',\n 'VSYD',\n 'VTBR',\n 'VZRZ',\n 'WTCM',\n 'WUSH',\n 'YAKG',\n 'YKEN',\n 'YNDX',\n 'YRSB',\n 'ZILL',\n 'ZVEZ',\n 'КЗМС',\n 'ММЦБ',\n 'МРСК',\n 'МТКВ'}"
     },
     "execution_count": 10,
     "metadata": {},
     "output_type": "execute_result"
    }
   ]
  },
  {
   "cell_type": "code",
   "source": [
    "from nltk.stem import PorterStemmer, SnowballStemmer\n",
    "from nltk.corpus import stopwords\n",
    "# import pymorphy2\n",
    "\n",
    "\n",
    "# morph = pymorphy2.MorphAnalyzer()\n",
    "\n",
    "nltk.download('stopwords')\n",
    "stopwords = stopwords.words('russian')\n",
    "ss = SnowballStemmer(language='russian')\n",
    "\n",
    "def extract_words(text):\n",
    "\n",
    "    word_pattern = re.compile(r'[а-яА-я]+\\b')\n",
    "    words = word_pattern.findall(text)\n",
    "    words = [w.lower() for w in words]\n",
    "    return words\n",
    "\n",
    "\n",
    "def find_company_name(text, dic):\n",
    "    tickers = []\n",
    "    words = extract_words(text)\n",
    "\n",
    "    for comp_id in dic:\n",
    "      names = dic[comp_id]['EMITENT_FULL_NAME']\n",
    "      names = [n.lower() for n in names]\n",
    "      \n",
    "      \n",
    "      flag =  True in [find_word_in_sentence(n, text) for n in names]\n",
    "\n",
    "      #если нашли то добавить тикер\n",
    "      if len(set(words) & set(names)) > 0 or flag:\n",
    "        tickers.append(dic[comp_id]['BGTicker'])\n",
    "        tickers.append(dic[comp_id]['OtherTicker'])\n",
    "    tickers = [x.split()[0] for x in tickers if not isinstance(x, float) or not math.isnan(x)]\n",
    "\n",
    "    return tickers\n",
    "\n",
    "print(find_company_name('Это тестовое задание, Русарго СПБ северсталь', dictionary_companies))\n"
   ],
   "metadata": {
    "colab": {
     "base_uri": "https://localhost:8080/"
    },
    "id": "6m9aoO9xKCFO",
    "outputId": "b7c0594d-1e63-416c-b42d-11969cc5c374",
    "ExecuteTime": {
     "end_time": "2024-04-13T21:38:40.885921Z",
     "start_time": "2024-04-13T21:38:40.876762Z"
    }
   },
   "execution_count": 97,
   "outputs": [
    {
     "name": "stdout",
     "output_type": "stream",
     "text": [
      "['CHMF', 'SPBE_x000D_']\n"
     ]
    },
    {
     "name": "stderr",
     "output_type": "stream",
     "text": [
      "[nltk_data] Downloading package stopwords to\n",
      "[nltk_data]     /Users/danielbelikov/nltk_data...\n",
      "[nltk_data]   Package stopwords is already up-to-date!\n"
     ]
    }
   ]
  },
  {
   "cell_type": "code",
   "execution_count": 134,
   "outputs": [
    {
     "name": "stdout",
     "output_type": "stream",
     "text": [
      "True\n",
      "True\n",
      "False\n",
      "False\n",
      "True\n",
      "False\n"
     ]
    }
   ],
   "source": [
    "def is_one_letter_different(word1, word2):\n",
    "    if abs(len(word1) - len(word2)) > 1:\n",
    "        return False\n",
    "\n",
    "    diff_count = 0\n",
    "\n",
    "    if len(word1) > len(word2):\n",
    "        if word1[:-1] == word2:\n",
    "            #print(word2, word1)\n",
    "            return True\n",
    "        else:\n",
    "            return False\n",
    "\n",
    "    elif len(word1) < len(word2):\n",
    "        if word1 == word2[:-1]:\n",
    "            #print(word2, word1)\n",
    "            return True\n",
    "        else:\n",
    "            return False\n",
    "\n",
    "    return word1[:-1] == word2[:-1]\n",
    "    # \n",
    "    # for char1, char2 in zip(word1, word2):\n",
    "    #     if char1 != char2:\n",
    "    #         diff_count += 1\n",
    "    #         if diff_count > 1:\n",
    "    #             return False\n",
    "    # if abs(len(word1) - len(word2)) == 1 and diff_count == 1:\n",
    "    #     return True\n",
    "    # elif len(word1) == len(word2) and diff_count == 1:\n",
    "    #     return True\n",
    "    # else:\n",
    "    #     return False\n",
    "\n",
    "print(is_one_letter_different(\"роснефти\", \"роснефть\"))    # True\n",
    "print(is_one_letter_different(\"cat\", \"cats\"))   # True\n",
    "print(is_one_letter_different(\"переговоры\", \"ор\"))   # False\n",
    "print(is_one_letter_different(\"яндекс\", \"индекс\"))    # True\n",
    "print(is_one_letter_different(\"cat\", \"cad\"))    # True\n",
    "print(is_one_letter_different(\"cat\", \"dog\"))    # False"
   ],
   "metadata": {
    "collapsed": false,
    "ExecuteTime": {
     "end_time": "2024-04-13T22:30:17.522564Z",
     "start_time": "2024-04-13T22:30:17.512948Z"
    }
   }
  },
  {
   "cell_type": "code",
   "execution_count": 135,
   "outputs": [
    {
     "data": {
      "text/plain": "False"
     },
     "execution_count": 135,
     "metadata": {},
     "output_type": "execute_result"
    }
   ],
   "source": [
    "def find_word_in_sentence(word, sentece):\n",
    "    for word2 in sentece.split():\n",
    "        if len(word2) > 3:\n",
    "            if is_one_letter_different(word, word2):\n",
    "                #print(word, word2)\n",
    "                return True\n",
    "\n",
    "    return False\n",
    "\n",
    "find_word_in_sentence('яндекс', 'индекс')\n"
   ],
   "metadata": {
    "collapsed": false,
    "ExecuteTime": {
     "end_time": "2024-04-13T22:30:21.631483Z",
     "start_time": "2024-04-13T22:30:21.616308Z"
    }
   }
  },
  {
   "cell_type": "code",
   "execution_count": 192,
   "outputs": [
    {
     "name": "stdout",
     "output_type": "stream",
     "text": [
      "{1: {57}}\n",
      "Sentence: \n",
      "?#lsrg лср - операционные результаты (2019г) *продажи = -9% до 84 млрд руб *объем = -18% до 817 тыс.\n",
      "Companies in news: \n",
      "['Группа ЛСР']\n"
     ]
    }
   ],
   "source": [
    "def split_news_on_companies(text):\n",
    "    sentences = split_text_into_sentences(text)\n",
    "    companies_by_index = dict()\n",
    "    for i in range(len(sentences)):\n",
    "\n",
    "        sentence = sentences[i]\n",
    "        sentence = re.sub('[,;:\"\\>!]', '', sentence)\n",
    "        #print(sentence)\n",
    "        for company_ind in dictionary_companies:\n",
    "            for comp_name in dictionary_companies[company_ind]['EMITENT_FULL_NAME']:\n",
    "                if find_word_in_sentence(comp_name.lower(), sentence):\n",
    "                    #print(i, comp_name)\n",
    "                    if i in companies_by_index:\n",
    "                        companies_by_index[i].add(company_ind)\n",
    "\n",
    "                    else:\n",
    "                        companies_by_index[i] = {company_ind}\n",
    "\n",
    "        for ticker in all_tickers:\n",
    "\n",
    "            if ticker.lower() in sentence:\n",
    "                if i in companies_by_index:\n",
    "                    companies_by_index[i].add(dictionary_companies_by_ticker[ticker])\n",
    "\n",
    "                else:\n",
    "                    companies_by_index[i] = {dictionary_companies_by_ticker[ticker]}\n",
    "    return sentences, companies_by_index\n",
    "\n",
    "sentences, companies_by_index = split_news_on_companies(test_text)\n",
    "print(companies_by_index)\n",
    "for key in companies_by_index:\n",
    "    print('Sentence: ')\n",
    "    print(sentences[key])\n",
    "    print('Companies in news: ')\n",
    "    print([dictionary_companies[ind]['EMITENT_FULL_NAME'][0] for ind in companies_by_index[key]])\n",
    "\n",
    "\n"
   ],
   "metadata": {
    "collapsed": false,
    "ExecuteTime": {
     "end_time": "2024-04-14T00:52:48.819245Z",
     "start_time": "2024-04-14T00:52:48.783431Z"
    }
   }
  },
  {
   "cell_type": "code",
   "source": [
    "succes = 0\n",
    "i = 0\n",
    "error = 0\n",
    "#проходим сразу по сообщениям с указанными компаниями\n",
    "for mes_id in mes_to_ids:\n",
    "    # if i > 1000:\n",
    "    #   break\n",
    "\n",
    "    i += len(mes_to_ids[mes_id])\n",
    "\n",
    "    #индекс новсти в табличке\n",
    "    news = news_train.iloc[mes_to_index[mes_id]]\n",
    "\n",
    "    # 223 компании вообще нет\n",
    "    if news.issuerid not in dictionary_companies:\n",
    "      continue\n",
    "\n",
    "    company = dictionary_companies[news.issuerid]\n",
    "    company_names = company['EMITENT_FULL_NAME']\n",
    "\n",
    "    company_tickers = [company['BGTicker']] + [company['OtherTicker']]\n",
    "    company_tickers = [x.split()[0] for x in company_tickers if not isinstance(x, float) or not math.isnan(x)]\n",
    "    text = news.MessageText\n",
    "\n",
    "\n",
    "    matches_tickers = re.findall(r'(?<=\\$)\\[A-Z]+|[A-Z]{4,6}', text) #нашли тикеры\n",
    "    founded_tickers_by_name = find_company_name(text, dictionary_companies)  # тикеры по названиям\n",
    "\n",
    "    matches_tickers = set(matches_tickers) | set(founded_tickers_by_name)\n",
    "\n",
    "\n",
    "    if len(matches_tickers) > 0:\n",
    "      companies_ids = mes_to_ids[mes_id]\n",
    "      if 253 in companies_ids:\n",
    "        companies_ids.remove(253)\n",
    "      real_tickers = [dictionary_companies[id]['BGTicker'] for id in companies_ids] + [dictionary_companies[id]['OtherTicker']  for id in companies_ids]\n",
    "      real_tickers = [x.split()[0] for x in real_tickers if not isinstance(x, float) or not math.isnan(x)]\n",
    "\n",
    "      succes += len(set(real_tickers) & set(matches_tickers))\n",
    "\n",
    "\n",
    "    #можно добавить в тупую берта для большей уверенности (но плохо и долго работает)\n",
    "\n",
    "    # else:\n",
    "    #   keywords_and_scores = keybert_model.extract_keywords(text,\n",
    "    #                                                      keyphrase_ngram_range=(1, 1), top_n=10)\n",
    "    #   candidates = [comp[0].lower() for comp in keywords_and_scores if comp[0].lower() in companies]\n",
    "    #   if len(candidates) > 0:\n",
    "    #     for c in company_names:\n",
    "    #       if c.lower() == candidates[0]:\n",
    "    #        succes += 1\n",
    "    #        break\n",
    "\n",
    "    print(succes, i)\n",
    "\n",
    "print(succes / len(news_train))\n",
    "print(error)\n",
    "\n",
    "#66% точности"
   ],
   "metadata": {
    "id": "sQw5pq6mDHDZ",
    "ExecuteTime": {
     "end_time": "2024-04-13T20:54:50.221962Z",
     "start_time": "2024-04-13T20:54:42.984973Z"
    }
   },
   "execution_count": 53,
   "outputs": [
    {
     "name": "stdout",
     "output_type": "stream",
     "text": [
      "1 1\n",
      "2 2\n",
      "3 3\n",
      "3 5\n",
      "4 6\n",
      "5 7\n",
      "6 8\n",
      "7 9\n",
      "8 10\n",
      "9 11\n",
      "9 13\n",
      "9 14\n",
      "10 15\n",
      "11 17\n",
      "11 18\n",
      "11 19\n",
      "11 21\n",
      "газа газ\n",
      "12 23\n",
      "13 24\n",
      "18 30\n",
      "19 31\n",
      "19 32\n",
      "20 33\n",
      "26 42\n",
      "31 48\n",
      "32 49\n",
      "газа газ\n",
      "32 51\n",
      "32 55\n",
      "34 57\n",
      "34 59\n",
      "35 60\n",
      "35 61\n",
      "35 62\n",
      "36 63\n",
      "37 64\n",
      "38 65\n",
      "39 66\n",
      "40 68\n",
      "газа газ\n",
      "42 70\n",
      "43 71\n",
      "45 74\n",
      "46 76\n",
      "47 77\n",
      "48 78\n",
      "49 83\n",
      "49 84\n",
      "50 86\n",
      "51 89\n",
      "53 91\n",
      "54 92\n",
      "54 93\n",
      "55 95\n",
      "56 96\n",
      "57 97\n",
      "58 98\n",
      "59 99\n",
      "60 100\n",
      "61 101\n",
      "62 102\n",
      "65 107\n",
      "65 109\n",
      "65 113\n",
      "66 114\n",
      "66 115\n",
      "67 117\n",
      "70 120\n",
      "71 121\n",
      "71 122\n",
      "73 124\n",
      "73 125\n",
      "74 127\n",
      "75 129\n",
      "76 130\n",
      "76 131\n",
      "77 132\n",
      "78 133\n",
      "79 134\n",
      "79 135\n",
      "81 137\n",
      "83 140\n",
      "83 141\n",
      "84 142\n",
      "85 143\n",
      "89 148\n",
      "90 150\n",
      "92 153\n",
      "92 154\n",
      "93 155\n",
      "94 156\n",
      "94 158\n",
      "94 160\n",
      "95 161\n",
      "96 162\n",
      "97 163\n",
      "97 164\n",
      "98 165\n",
      "99 167\n",
      "100 168\n",
      "100 170\n",
      "101 171\n",
      "101 173\n",
      "108 183\n",
      "109 184\n",
      "110 185\n",
      "119 198\n",
      "120 199\n",
      "121 200\n",
      "122 201\n",
      "123 202\n",
      "124 203\n",
      "124 204\n",
      "125 207\n",
      "126 209\n",
      "127 210\n",
      "128 211\n",
      "128 212\n",
      "129 213\n",
      "130 214\n",
      "131 216\n",
      "132 217\n",
      "135 222\n",
      "136 224\n",
      "137 225\n",
      "137 227\n",
      "140 230\n",
      "140 231\n",
      "141 232\n",
      "141 233\n",
      "142 234\n",
      "143 235\n",
      "144 237\n",
      "145 238\n",
      "146 239\n",
      "147 240\n",
      "147 241\n",
      "148 242\n",
      "149 243\n",
      "149 244\n",
      "150 245\n",
      "150 246\n",
      "151 247\n",
      "152 248\n",
      "153 249\n",
      "153 250\n",
      "154 251\n",
      "156 253\n",
      "192 290\n",
      "192 295\n",
      "193 298\n",
      "194 299\n",
      "194 300\n",
      "194 301\n",
      "194 304\n",
      "195 305\n",
      "196 306\n",
      "200 310\n",
      "203 316\n",
      "204 318\n",
      "205 319\n",
      "206 320\n",
      "208 322\n",
      "209 323\n",
      "209 325\n",
      "210 327\n",
      "211 328\n",
      "212 329\n",
      "213 330\n",
      "215 335\n",
      "216 337\n",
      "217 339\n",
      "218 340\n",
      "219 341\n",
      "219 342\n",
      "220 343\n",
      "221 344\n",
      "223 346\n",
      "224 347\n",
      "225 348\n",
      "226 349\n",
      "газа газ\n",
      "228 351\n",
      "228 352\n",
      "228 355\n",
      "229 356\n",
      "230 357\n",
      "230 358\n",
      "231 359\n",
      "231 360\n",
      "232 361\n",
      "232 364\n",
      "233 365\n",
      "234 367\n",
      "236 370\n",
      "237 371\n",
      "237 372\n",
      "238 373\n",
      "239 376\n",
      "240 377\n",
      "240 378\n",
      "241 379\n",
      "245 383\n",
      "246 384\n",
      "247 385\n",
      "248 391\n",
      "249 392\n",
      "газа газ\n",
      "250 394\n",
      "251 395\n",
      "252 397\n",
      "253 399\n",
      "254 400\n",
      "259 405\n",
      "260 406\n",
      "262 409\n",
      "263 413\n",
      "264 414\n",
      "265 415\n",
      "272 422\n",
      "274 427\n",
      "275 429\n",
      "276 430\n",
      "277 431\n",
      "278 432\n",
      "280 435\n",
      "280 437\n",
      "280 438\n",
      "282 441\n",
      "282 442\n",
      "283 443\n",
      "286 448\n",
      "286 449\n",
      "287 450\n",
      "288 452\n",
      "289 454\n",
      "289 455\n",
      "292 458\n",
      "293 460\n",
      "294 461\n",
      "294 462\n",
      "295 466\n",
      "газа газ\n",
      "296 467\n",
      "297 468\n",
      "300 472\n",
      "300 476\n",
      "301 479\n",
      "301 483\n",
      "302 485\n",
      "303 486\n",
      "304 487\n",
      "305 488\n",
      "309 492\n",
      "312 496\n",
      "312 497\n",
      "авиакомпания авиакомпания \n",
      "313 499\n",
      "314 500\n",
      "315 501\n",
      "316 504\n",
      "317 505\n",
      "318 506\n",
      "318 509\n",
      "319 510\n",
      "320 511\n",
      "321 513\n",
      "321 514\n",
      "321 515\n",
      "322 516\n",
      "322 518\n",
      "323 519\n",
      "324 522\n",
      "325 525\n",
      "325 526\n",
      "325 527\n",
      "326 528\n",
      "332 534\n",
      "333 535\n",
      "334 538\n",
      "336 540\n",
      "337 543\n",
      "337 546\n",
      "338 547\n",
      "338 548\n",
      "339 549\n",
      "341 551\n",
      "342 552\n",
      "343 554\n",
      "343 557\n",
      "343 558\n",
      "343 560\n",
      "344 562\n",
      "346 564\n",
      "347 567\n",
      "348 568\n",
      "349 569\n",
      "350 571\n",
      "газ. газ\n",
      "351 572\n",
      "352 574\n",
      "353 575\n",
      "355 577\n",
      "358 580\n",
      "359 581\n",
      "359 583\n",
      "360 584\n",
      "362 586\n",
      "363 587\n",
      "364 588\n",
      "367 593\n",
      "368 596\n",
      "371 600\n",
      "372 602\n",
      "373 603\n",
      "375 606\n",
      "376 608\n",
      "377 609\n",
      "378 610\n",
      "380 613\n",
      "380 614\n",
      "381 615\n",
      "382 617\n",
      "382 619\n",
      "382 620\n",
      "383 621\n",
      "384 627\n",
      "384 628\n",
      "385 629\n",
      "386 630\n",
      "387 632\n",
      "388 633\n",
      "389 634\n",
      "390 635\n",
      "391 636\n",
      "393 638\n",
      "394 640\n",
      "397 644\n",
      "398 645\n",
      "398 647\n",
      "400 650\n",
      "401 651\n",
      "402 653\n",
      "402 655\n",
      "403 656\n",
      "403 657\n",
      "404 658\n",
      "405 660\n",
      "406 661\n",
      "407 662\n",
      "408 664\n",
      "409 665\n",
      "410 666\n",
      "412 670\n",
      "414 672\n",
      "416 676\n",
      "417 685\n",
      "418 686\n",
      "419 687\n",
      "420 689\n",
      "421 690\n",
      "421 691\n",
      "422 694\n",
      "422 696\n",
      "423 697\n",
      "426 700\n",
      "426 701\n",
      "427 702\n",
      "428 703\n",
      "429 704\n",
      "429 705\n",
      "430 706\n",
      "431 707\n",
      "433 709\n",
      "434 710\n",
      "435 711\n",
      "436 713\n",
      "437 714\n",
      "438 715\n",
      "442 721\n",
      "447 728\n",
      "448 729\n",
      "449 730\n",
      "450 731\n",
      "451 732\n",
      "452 733\n",
      "453 734\n",
      "454 735\n",
      "455 736\n",
      "456 737\n",
      "459 742\n",
      "460 743\n",
      "461 745\n",
      "462 747\n",
      "463 748\n",
      "465 751\n",
      "466 752\n",
      "467 753\n",
      "468 754\n",
      "470 757\n",
      "471 758\n",
      "472 759\n",
      "473 761\n",
      "лентах лента\n",
      "473 764\n",
      "474 765\n",
      "475 766\n",
      "475 767\n",
      "477 770\n",
      "478 771\n",
      "480 776\n",
      "480 777\n",
      "482 780\n",
      "483 781\n",
      "484 783\n",
      "485 785\n",
      "485 786\n",
      "газа газ\n",
      "485 788\n",
      "486 789\n",
      "487 790\n",
      "488 795\n",
      "489 798\n",
      "490 799\n",
      "491 800\n",
      "492 801\n",
      "492 802\n",
      "495 806\n",
      "495 807\n",
      "496 808\n",
      "497 810\n",
      "498 812\n",
      "498 813\n",
      "506 821\n",
      "507 822\n",
      "507 823\n",
      "508 824\n",
      "508 825\n",
      "509 826\n",
      "510 827\n",
      "512 829\n",
      "513 832\n",
      "514 833\n",
      "515 834\n",
      "516 835\n",
      "517 836\n",
      "518 837\n",
      "518 840\n",
      "519 841\n",
      "519 847\n",
      "520 848\n",
      "532 861\n",
      "533 862\n",
      "534 863\n",
      "535 864\n",
      "535 865\n",
      "536 867\n",
      "536 868\n",
      "537 869\n",
      "537 871\n",
      "538 872\n",
      "539 873\n",
      "539 874\n",
      "539 876\n",
      "540 878\n",
      "540 879\n",
      "541 880\n",
      "542 882\n",
      "542 883\n",
      "542 884\n",
      "543 885\n",
      "544 888\n",
      "545 890\n",
      "авангарде авангард\n",
      "547 893\n",
      "548 895\n",
      "549 897\n",
      "550 898\n",
      "551 899\n",
      "552 902\n",
      "553 903\n",
      "553 904\n",
      "553 908\n",
      "555 910\n",
      "558 913\n",
      "559 914\n",
      "560 915\n",
      "561 920\n",
      "562 922\n",
      "563 923\n",
      "564 924\n",
      "564 925\n",
      "565 926\n",
      "565 928\n",
      "566 930\n",
      "566 932\n",
      "567 933\n",
      "568 934\n",
      "569 935\n",
      "571 937\n",
      "573 939\n",
      "574 940\n",
      "578 944\n",
      "579 945\n",
      "580 946\n",
      "586 952\n",
      "587 955\n",
      "588 956\n",
      "589 958\n",
      "591 961\n",
      "592 962\n",
      "592 963\n",
      "593 964\n",
      "593 966\n",
      "594 967\n",
      "595 968\n",
      "596 969\n",
      "597 970\n",
      "598 975\n",
      "599 976\n",
      "600 978\n",
      "601 979\n",
      "602 980\n",
      "603 982\n",
      "604 983\n",
      "605 984\n",
      "606 985\n",
      "607 986\n",
      "608 987\n",
      "609 988\n",
      "609 991\n",
      "611 994\n",
      "612 995\n",
      "613 996\n",
      "614 997\n",
      "614 998\n",
      "614 1000\n",
      "615 1001\n",
      "616 1004\n",
      "616 1006\n",
      "617 1008\n",
      "618 1009\n",
      "619 1010\n",
      "621 1012\n",
      "623 1014\n",
      "624 1015\n",
      "624 1017\n",
      "625 1018\n",
      "626 1019\n",
      "627 1020\n",
      "628 1021\n",
      "630 1023\n",
      "631 1024\n",
      "631 1025\n",
      "632 1026\n",
      "633 1029\n",
      "637 1034\n",
      "638 1035\n",
      "638 1036\n",
      "641 1040\n",
      "642 1041\n",
      "643 1042\n",
      "газа газ\n",
      "644 1043\n",
      "644 1044\n",
      "646 1046\n",
      "647 1047\n",
      "647 1049\n",
      "648 1050\n",
      "649 1051\n",
      "650 1052\n",
      "650 1053\n",
      "651 1054\n",
      "652 1055\n",
      "652 1056\n",
      "653 1057\n",
      "654 1058\n",
      "655 1060\n",
      "656 1061\n",
      "657 1062\n",
      "658 1063\n",
      "659 1064\n",
      "659 1066\n",
      "660 1067\n",
      "661 1068\n",
      "661 1069\n",
      "663 1071\n",
      "664 1072\n",
      "665 1073\n",
      "665 1075\n",
      "666 1077\n",
      "667 1078\n",
      "672 1084\n",
      "675 1089\n",
      "676 1091\n",
      "677 1092\n",
      "679 1094\n",
      "681 1096\n",
      "681 1097\n",
      "690 1106\n",
      "691 1107\n",
      "697 1115\n",
      "697 1116\n",
      "697 1117\n",
      "700 1120\n",
      "701 1121\n",
      "703 1128\n",
      "704 1130\n",
      "705 1131\n",
      "705 1132\n",
      "706 1133\n",
      "707 1135\n",
      "708 1136\n",
      "709 1137\n",
      "710 1138\n",
      "711 1140\n",
      "712 1143\n",
      "712 1144\n",
      "713 1145\n",
      "газ. газ\n",
      "720 1153\n",
      "720 1154\n",
      "722 1156\n",
      "723 1157\n",
      "724 1158\n",
      "725 1160\n",
      "725 1161\n",
      "726 1162\n",
      "727 1163\n",
      "728 1164\n",
      "729 1165\n",
      "730 1166\n",
      "734 1171\n",
      "734 1173\n",
      "газа газ\n",
      "737 1176\n",
      "738 1177\n",
      "739 1179\n",
      "740 1180\n",
      "740 1181\n",
      "741 1182\n",
      "741 1183\n",
      "742 1184\n",
      "744 1188\n",
      "746 1192\n",
      "750 1199\n",
      "754 1204\n",
      "754 1205\n",
      "755 1206\n",
      "755 1208\n",
      "757 1211\n",
      "758 1212\n",
      "759 1214\n",
      "760 1215\n",
      "760 1216\n",
      "761 1218\n",
      "762 1219\n",
      "763 1220\n",
      "764 1221\n",
      "765 1222\n",
      "767 1224\n",
      "770 1227\n",
      "771 1229\n",
      "772 1230\n",
      "773 1231\n",
      "774 1232\n",
      "775 1233\n",
      "776 1236\n",
      "777 1237\n",
      "781 1247\n",
      "782 1248\n",
      "783 1250\n",
      "786 1253\n"
     ]
    },
    {
     "ename": "KeyboardInterrupt",
     "evalue": "",
     "output_type": "error",
     "traceback": [
      "\u001B[0;31m---------------------------------------------------------------------------\u001B[0m",
      "\u001B[0;31mKeyboardInterrupt\u001B[0m                         Traceback (most recent call last)",
      "\u001B[0;32m<ipython-input-53-0e40ef488ee4>\u001B[0m in \u001B[0;36m<module>\u001B[0;34m\u001B[0m\n\u001B[1;32m     25\u001B[0m \u001B[0;34m\u001B[0m\u001B[0m\n\u001B[1;32m     26\u001B[0m     \u001B[0mmatches_tickers\u001B[0m \u001B[0;34m=\u001B[0m \u001B[0mre\u001B[0m\u001B[0;34m.\u001B[0m\u001B[0mfindall\u001B[0m\u001B[0;34m(\u001B[0m\u001B[0;34mr'(?<=\\$)\\[A-Z]+|[A-Z]{4,6}'\u001B[0m\u001B[0;34m,\u001B[0m \u001B[0mtext\u001B[0m\u001B[0;34m)\u001B[0m \u001B[0;31m#нашли тикеры\u001B[0m\u001B[0;34m\u001B[0m\u001B[0;34m\u001B[0m\u001B[0m\n\u001B[0;32m---> 27\u001B[0;31m     \u001B[0mfounded_tickers_by_name\u001B[0m \u001B[0;34m=\u001B[0m \u001B[0mfind_company_name\u001B[0m\u001B[0;34m(\u001B[0m\u001B[0mtext\u001B[0m\u001B[0;34m,\u001B[0m \u001B[0mdictionary_companies\u001B[0m\u001B[0;34m)\u001B[0m  \u001B[0;31m# тикеры по названиям\u001B[0m\u001B[0;34m\u001B[0m\u001B[0;34m\u001B[0m\u001B[0m\n\u001B[0m\u001B[1;32m     28\u001B[0m \u001B[0;34m\u001B[0m\u001B[0m\n\u001B[1;32m     29\u001B[0m     \u001B[0mmatches_tickers\u001B[0m \u001B[0;34m=\u001B[0m \u001B[0mset\u001B[0m\u001B[0;34m(\u001B[0m\u001B[0mmatches_tickers\u001B[0m\u001B[0;34m)\u001B[0m \u001B[0;34m|\u001B[0m \u001B[0mset\u001B[0m\u001B[0;34m(\u001B[0m\u001B[0mfounded_tickers_by_name\u001B[0m\u001B[0;34m)\u001B[0m\u001B[0;34m\u001B[0m\u001B[0;34m\u001B[0m\u001B[0m\n",
      "\u001B[0;32m<ipython-input-52-874673ed7703>\u001B[0m in \u001B[0;36mfind_company_name\u001B[0;34m(text, dic)\u001B[0m\n\u001B[1;32m     35\u001B[0m \u001B[0;34m\u001B[0m\u001B[0m\n\u001B[1;32m     36\u001B[0m \u001B[0;34m\u001B[0m\u001B[0m\n\u001B[0;32m---> 37\u001B[0;31m       \u001B[0mflag\u001B[0m \u001B[0;34m=\u001B[0m  \u001B[0;32mTrue\u001B[0m \u001B[0;32min\u001B[0m \u001B[0;34m[\u001B[0m\u001B[0mfind_word_in_sentence\u001B[0m\u001B[0;34m(\u001B[0m\u001B[0mn\u001B[0m\u001B[0;34m,\u001B[0m \u001B[0mtext\u001B[0m\u001B[0;34m)\u001B[0m \u001B[0;32mfor\u001B[0m \u001B[0mn\u001B[0m \u001B[0;32min\u001B[0m \u001B[0mnames\u001B[0m\u001B[0;34m]\u001B[0m\u001B[0;34m\u001B[0m\u001B[0;34m\u001B[0m\u001B[0m\n\u001B[0m\u001B[1;32m     38\u001B[0m       \u001B[0;31m#flag = True in [n in text for n in names]\u001B[0m\u001B[0;34m\u001B[0m\u001B[0;34m\u001B[0m\u001B[0;34m\u001B[0m\u001B[0m\n\u001B[1;32m     39\u001B[0m       \u001B[0;31m# print(flag, names, len([find_word_in_sentence(n, text) for n in names]))\u001B[0m\u001B[0;34m\u001B[0m\u001B[0;34m\u001B[0m\u001B[0;34m\u001B[0m\u001B[0m\n",
      "\u001B[0;31mKeyboardInterrupt\u001B[0m: "
     ]
    }
   ]
  },
  {
   "cell_type": "code",
   "execution_count": 98,
   "outputs": [
    {
     "data": {
      "text/plain": "      MessageID   ChannelID  issuerid  SentimentScore           DateAdded  \\\n0        241407  1203560567       153               2 2023-05-12 19:03:20   \n1         33684  1136626166       230               4 2023-02-03 20:56:29   \n2         10090  1063908560       118               4 2023-06-02 19:18:37   \n3         10090  1063908560       220               5 2023-06-02 19:18:37   \n4          9826  1063908560        89               2 2023-04-24 17:51:38   \n...         ...         ...       ...             ...                 ...   \n9284      47482  1197210433       157               4 2023-03-20 14:53:14   \n9285     233829  1203560567       157               4 2023-03-20 14:58:04   \n9286       9789  1063908560       225               3 2023-04-19 17:51:56   \n9287     233867  1203560567       127               3 2023-03-20 14:58:04   \n9288      14315  1075101206       112               5 2023-02-07 14:56:26   \n\n              DatePosted                                        MessageText  \\\n0    2023-05-12 19:02:42  ⚠️🇷🇺#SELG #дивиденд  сд Селигдар: дивиденды 20...   \n1    2023-02-03 16:46:34  Ozon продолжает развивать специализированные ф...   \n2    2023-06-02 18:50:00  ​Фокусы продолжаются🔥Акции и инвестиции  📈ВТБ ...   \n3    2023-06-02 18:50:00  ​Фокусы продолжаются🔥Акции и инвестиции  📈ВТБ ...   \n4    2023-04-24 13:54:00  ​​Windfall Tax — налог на сверхприбыль. Какие ...   \n...                  ...                                                ...   \n9284 2023-03-20 12:15:21  #FLOT #Дивиденды 💰 7% — возможная дивдоходност...   \n9285 2023-03-20 12:05:49  🇷🇺#FLOT #отчетность  ЧИСТАЯ ПРИБЫЛЬ СОВКОМФЛОТ...   \n9286 2023-04-19 15:32:00  ​​Ключевой принцип создания портфеля  🔹Диверси...   \n9287 2023-03-20 14:33:32  \"💥🇷🇺#PLZL #листинг #торги  \"\"Полюс\"\" ведет диа...   \n9288 2023-02-07 14:28:09  Роснефть (ROSN) справедливая цена 425.17 рубля...   \n\n      IsForward  \n0         False  \n1         False  \n2         False  \n3         False  \n4         False  \n...         ...  \n9284      False  \n9285      False  \n9286      False  \n9287      False  \n9288      False  \n\n[9289 rows x 8 columns]",
      "text/html": "<div>\n<style scoped>\n    .dataframe tbody tr th:only-of-type {\n        vertical-align: middle;\n    }\n\n    .dataframe tbody tr th {\n        vertical-align: top;\n    }\n\n    .dataframe thead th {\n        text-align: right;\n    }\n</style>\n<table border=\"1\" class=\"dataframe\">\n  <thead>\n    <tr style=\"text-align: right;\">\n      <th></th>\n      <th>MessageID</th>\n      <th>ChannelID</th>\n      <th>issuerid</th>\n      <th>SentimentScore</th>\n      <th>DateAdded</th>\n      <th>DatePosted</th>\n      <th>MessageText</th>\n      <th>IsForward</th>\n    </tr>\n  </thead>\n  <tbody>\n    <tr>\n      <th>0</th>\n      <td>241407</td>\n      <td>1203560567</td>\n      <td>153</td>\n      <td>2</td>\n      <td>2023-05-12 19:03:20</td>\n      <td>2023-05-12 19:02:42</td>\n      <td>⚠️🇷🇺#SELG #дивиденд  сд Селигдар: дивиденды 20...</td>\n      <td>False</td>\n    </tr>\n    <tr>\n      <th>1</th>\n      <td>33684</td>\n      <td>1136626166</td>\n      <td>230</td>\n      <td>4</td>\n      <td>2023-02-03 20:56:29</td>\n      <td>2023-02-03 16:46:34</td>\n      <td>Ozon продолжает развивать специализированные ф...</td>\n      <td>False</td>\n    </tr>\n    <tr>\n      <th>2</th>\n      <td>10090</td>\n      <td>1063908560</td>\n      <td>118</td>\n      <td>4</td>\n      <td>2023-06-02 19:18:37</td>\n      <td>2023-06-02 18:50:00</td>\n      <td>​Фокусы продолжаются🔥Акции и инвестиции  📈ВТБ ...</td>\n      <td>False</td>\n    </tr>\n    <tr>\n      <th>3</th>\n      <td>10090</td>\n      <td>1063908560</td>\n      <td>220</td>\n      <td>5</td>\n      <td>2023-06-02 19:18:37</td>\n      <td>2023-06-02 18:50:00</td>\n      <td>​Фокусы продолжаются🔥Акции и инвестиции  📈ВТБ ...</td>\n      <td>False</td>\n    </tr>\n    <tr>\n      <th>4</th>\n      <td>9826</td>\n      <td>1063908560</td>\n      <td>89</td>\n      <td>2</td>\n      <td>2023-04-24 17:51:38</td>\n      <td>2023-04-24 13:54:00</td>\n      <td>​​Windfall Tax — налог на сверхприбыль. Какие ...</td>\n      <td>False</td>\n    </tr>\n    <tr>\n      <th>...</th>\n      <td>...</td>\n      <td>...</td>\n      <td>...</td>\n      <td>...</td>\n      <td>...</td>\n      <td>...</td>\n      <td>...</td>\n      <td>...</td>\n    </tr>\n    <tr>\n      <th>9284</th>\n      <td>47482</td>\n      <td>1197210433</td>\n      <td>157</td>\n      <td>4</td>\n      <td>2023-03-20 14:53:14</td>\n      <td>2023-03-20 12:15:21</td>\n      <td>#FLOT #Дивиденды 💰 7% — возможная дивдоходност...</td>\n      <td>False</td>\n    </tr>\n    <tr>\n      <th>9285</th>\n      <td>233829</td>\n      <td>1203560567</td>\n      <td>157</td>\n      <td>4</td>\n      <td>2023-03-20 14:58:04</td>\n      <td>2023-03-20 12:05:49</td>\n      <td>🇷🇺#FLOT #отчетность  ЧИСТАЯ ПРИБЫЛЬ СОВКОМФЛОТ...</td>\n      <td>False</td>\n    </tr>\n    <tr>\n      <th>9286</th>\n      <td>9789</td>\n      <td>1063908560</td>\n      <td>225</td>\n      <td>3</td>\n      <td>2023-04-19 17:51:56</td>\n      <td>2023-04-19 15:32:00</td>\n      <td>​​Ключевой принцип создания портфеля  🔹Диверси...</td>\n      <td>False</td>\n    </tr>\n    <tr>\n      <th>9287</th>\n      <td>233867</td>\n      <td>1203560567</td>\n      <td>127</td>\n      <td>3</td>\n      <td>2023-03-20 14:58:04</td>\n      <td>2023-03-20 14:33:32</td>\n      <td>\"💥🇷🇺#PLZL #листинг #торги  \"\"Полюс\"\" ведет диа...</td>\n      <td>False</td>\n    </tr>\n    <tr>\n      <th>9288</th>\n      <td>14315</td>\n      <td>1075101206</td>\n      <td>112</td>\n      <td>5</td>\n      <td>2023-02-07 14:56:26</td>\n      <td>2023-02-07 14:28:09</td>\n      <td>Роснефть (ROSN) справедливая цена 425.17 рубля...</td>\n      <td>False</td>\n    </tr>\n  </tbody>\n</table>\n<p>9289 rows × 8 columns</p>\n</div>"
     },
     "execution_count": 98,
     "metadata": {},
     "output_type": "execute_result"
    }
   ],
   "source": [
    "sentiment_train"
   ],
   "metadata": {
    "collapsed": false,
    "ExecuteTime": {
     "end_time": "2024-04-13T21:40:28.696928Z",
     "start_time": "2024-04-13T21:40:28.676960Z"
    }
   }
  },
  {
   "cell_type": "code",
   "execution_count": 180,
   "outputs": [
    {
     "data": {
      "text/plain": "  0%|          | 0/9289 [00:00<?, ?it/s]",
      "application/vnd.jupyter.widget-view+json": {
       "version_major": 2,
       "version_minor": 0,
       "model_id": "fac7e02dcc794d2f81631cdd5f871b84"
      }
     },
     "metadata": {},
     "output_type": "display_data"
    },
    {
     "name": "stdout",
     "output_type": "stream",
     "text": [
      "8011\n"
     ]
    }
   ],
   "source": [
    "\n",
    "from tqdm.notebook import tqdm\n",
    "X = []\n",
    "y = []\n",
    "for i in tqdm(range(len(sentiment_train))):\n",
    "    text = sentiment_train.iloc[i].MessageText\n",
    "    sentences, companies_by_index = split_news_on_companies(text)\n",
    "    \n",
    "    comp_ids_to_text = dict()\n",
    "    for key in companies_by_index:\n",
    "        value = companies_by_index[key]\n",
    "        for company_ids in value:\n",
    "            if company_ids in comp_ids_to_text:\n",
    "                comp_ids_to_text[company_ids] += sentences[key]\n",
    "            else:\n",
    "                comp_ids_to_text[company_ids] = sentences[key]\n",
    "\n",
    "    for key in companies_by_index:\n",
    "        value = companies_by_index[key]\n",
    "        for company_ids in value:\n",
    "            \n",
    "            if company_ids in comp_ids_to_text:\n",
    "                comp_ids_to_text[company_ids] += sentences[key]\n",
    "            else:\n",
    "                comp_ids_to_text[company_ids] = sentences[key]\n",
    "    \n",
    "    \n",
    "    real_comp = sentiment_train.iloc[i].issuerid\n",
    "    if real_comp in comp_ids_to_text:\n",
    "        X.append(comp_ids_to_text[real_comp])\n",
    "        y.append(sentiment_train.iloc[i].SentimentScore)\n",
    "        \n",
    "        \n",
    "    # print(companies_by_index)\n",
    "    # for key in companies_by_index:\n",
    "    #     print('Sentence: ')\n",
    "    #     print(sentences[key])\n",
    "    #     print('Companies in news: ')\n",
    "    #     print([dictionary_companies[ind]['EMITENT_FULL_NAME'][0] for ind in companies_by_index[key]])\n",
    "    # \n",
    "    # \n",
    "    #print(dictionary_companies[sentiment_train.iloc[i].issuerid]['EMITENT_FULL_NAME'][0])\n",
    "    #break\n",
    "    #print(i)\n",
    "print(len(X))"
   ],
   "metadata": {
    "collapsed": false,
    "ExecuteTime": {
     "end_time": "2024-04-13T23:42:08.623201Z",
     "start_time": "2024-04-13T23:39:53.824404Z"
    }
   }
  },
  {
   "cell_type": "code",
   "execution_count": 181,
   "outputs": [
    {
     "name": "stdout",
     "output_type": "stream",
     "text": [
      "тестов темк упа крыш\n"
     ]
    },
    {
     "name": "stderr",
     "output_type": "stream",
     "text": [
      "[nltk_data] Downloading package wordnet to\n",
      "[nltk_data]     /Users/danielbelikov/nltk_data...\n",
      "[nltk_data]   Package wordnet is already up-to-date!\n"
     ]
    }
   ],
   "source": [
    "import nltk\n",
    "from nltk import word_tokenize\n",
    "from nltk.corpus import stopwords\n",
    "from nltk.stem import PorterStemmer\n",
    "from nltk.tokenize import word_tokenize\n",
    "from nltk.stem.snowball import SnowballStemmer\n",
    "stopwords = set(stopwords.words('russian'))\n",
    "stemmer = SnowballStemmer(\"russian\")\n",
    "nltk.download('wordnet')\n",
    "wnl = nltk.WordNetLemmatizer()\n",
    "\n",
    "def prepocess_text(text):\n",
    "    text = re.sub(r'[0-9,.!;:]', '', text)\n",
    "    stemmed_words = [stemmer.stem(word) for word in text.split()]\n",
    "    words_final = ' '.join([word for word in stemmed_words if word not in stopwords])\n",
    "    return words_final\n",
    "print(prepocess_text('Тестовая темка упала с крыши ой '))\n"
   ],
   "metadata": {
    "collapsed": false,
    "ExecuteTime": {
     "end_time": "2024-04-13T23:42:21.568478Z",
     "start_time": "2024-04-13T23:42:21.198707Z"
    }
   }
  },
  {
   "cell_type": "code",
   "execution_count": 182,
   "outputs": [],
   "source": [
    "X_good = [prepocess_text(x) for x in X]"
   ],
   "metadata": {
    "collapsed": false,
    "ExecuteTime": {
     "end_time": "2024-04-13T23:42:48.891599Z",
     "start_time": "2024-04-13T23:42:27.722569Z"
    }
   }
  },
  {
   "cell_type": "code",
   "execution_count": 183,
   "outputs": [
    {
     "data": {
      "text/plain": "(8011, 1000)"
     },
     "execution_count": 183,
     "metadata": {},
     "output_type": "execute_result"
    }
   ],
   "source": [
    "from sklearn.feature_extraction.text import TfidfVectorizer\n",
    "vectorizer = TfidfVectorizer(ngram_range=(1,2), max_features=1000) #max_features 10000 \n",
    "vectors = vectorizer.fit_transform(X_good)\n",
    "vectors.shape"
   ],
   "metadata": {
    "collapsed": false,
    "ExecuteTime": {
     "end_time": "2024-04-13T23:43:00.689409Z",
     "start_time": "2024-04-13T23:42:58.610027Z"
    }
   }
  },
  {
   "cell_type": "code",
   "execution_count": 191,
   "outputs": [
    {
     "data": {
      "text/plain": "['tfidf_vectorizer.pkl']"
     },
     "execution_count": 191,
     "metadata": {},
     "output_type": "execute_result"
    }
   ],
   "source": [
    "import joblib\n",
    "joblib.dump(vectorizer, 'tfidf_vectorizer.pkl')"
   ],
   "metadata": {
    "collapsed": false,
    "ExecuteTime": {
     "end_time": "2024-04-14T00:11:30.460471Z",
     "start_time": "2024-04-14T00:11:29.427036Z"
    }
   }
  },
  {
   "cell_type": "code",
   "execution_count": 184,
   "outputs": [],
   "source": [
    "from sklearn.model_selection import train_test_split\n",
    "from sklearn import svm\n",
    "from sklearn.metrics import accuracy_score\n",
    "X_train, X_test, y_train, y_test = train_test_split(vectors, y, test_size=0.2, random_state=69)"
   ],
   "metadata": {
    "collapsed": false,
    "ExecuteTime": {
     "end_time": "2024-04-13T23:43:02.930310Z",
     "start_time": "2024-04-13T23:43:02.896474Z"
    }
   }
  },
  {
   "cell_type": "code",
   "execution_count": 187,
   "outputs": [
    {
     "data": {
      "text/plain": "SVC()",
      "text/html": "<style>#sk-container-id-11 {color: black;}#sk-container-id-11 pre{padding: 0;}#sk-container-id-11 div.sk-toggleable {background-color: white;}#sk-container-id-11 label.sk-toggleable__label {cursor: pointer;display: block;width: 100%;margin-bottom: 0;padding: 0.3em;box-sizing: border-box;text-align: center;}#sk-container-id-11 label.sk-toggleable__label-arrow:before {content: \"▸\";float: left;margin-right: 0.25em;color: #696969;}#sk-container-id-11 label.sk-toggleable__label-arrow:hover:before {color: black;}#sk-container-id-11 div.sk-estimator:hover label.sk-toggleable__label-arrow:before {color: black;}#sk-container-id-11 div.sk-toggleable__content {max-height: 0;max-width: 0;overflow: hidden;text-align: left;background-color: #f0f8ff;}#sk-container-id-11 div.sk-toggleable__content pre {margin: 0.2em;color: black;border-radius: 0.25em;background-color: #f0f8ff;}#sk-container-id-11 input.sk-toggleable__control:checked~div.sk-toggleable__content {max-height: 200px;max-width: 100%;overflow: auto;}#sk-container-id-11 input.sk-toggleable__control:checked~label.sk-toggleable__label-arrow:before {content: \"▾\";}#sk-container-id-11 div.sk-estimator input.sk-toggleable__control:checked~label.sk-toggleable__label {background-color: #d4ebff;}#sk-container-id-11 div.sk-label input.sk-toggleable__control:checked~label.sk-toggleable__label {background-color: #d4ebff;}#sk-container-id-11 input.sk-hidden--visually {border: 0;clip: rect(1px 1px 1px 1px);clip: rect(1px, 1px, 1px, 1px);height: 1px;margin: -1px;overflow: hidden;padding: 0;position: absolute;width: 1px;}#sk-container-id-11 div.sk-estimator {font-family: monospace;background-color: #f0f8ff;border: 1px dotted black;border-radius: 0.25em;box-sizing: border-box;margin-bottom: 0.5em;}#sk-container-id-11 div.sk-estimator:hover {background-color: #d4ebff;}#sk-container-id-11 div.sk-parallel-item::after {content: \"\";width: 100%;border-bottom: 1px solid gray;flex-grow: 1;}#sk-container-id-11 div.sk-label:hover label.sk-toggleable__label {background-color: #d4ebff;}#sk-container-id-11 div.sk-serial::before {content: \"\";position: absolute;border-left: 1px solid gray;box-sizing: border-box;top: 0;bottom: 0;left: 50%;z-index: 0;}#sk-container-id-11 div.sk-serial {display: flex;flex-direction: column;align-items: center;background-color: white;padding-right: 0.2em;padding-left: 0.2em;position: relative;}#sk-container-id-11 div.sk-item {position: relative;z-index: 1;}#sk-container-id-11 div.sk-parallel {display: flex;align-items: stretch;justify-content: center;background-color: white;position: relative;}#sk-container-id-11 div.sk-item::before, #sk-container-id-11 div.sk-parallel-item::before {content: \"\";position: absolute;border-left: 1px solid gray;box-sizing: border-box;top: 0;bottom: 0;left: 50%;z-index: -1;}#sk-container-id-11 div.sk-parallel-item {display: flex;flex-direction: column;z-index: 1;position: relative;background-color: white;}#sk-container-id-11 div.sk-parallel-item:first-child::after {align-self: flex-end;width: 50%;}#sk-container-id-11 div.sk-parallel-item:last-child::after {align-self: flex-start;width: 50%;}#sk-container-id-11 div.sk-parallel-item:only-child::after {width: 0;}#sk-container-id-11 div.sk-dashed-wrapped {border: 1px dashed gray;margin: 0 0.4em 0.5em 0.4em;box-sizing: border-box;padding-bottom: 0.4em;background-color: white;}#sk-container-id-11 div.sk-label label {font-family: monospace;font-weight: bold;display: inline-block;line-height: 1.2em;}#sk-container-id-11 div.sk-label-container {text-align: center;}#sk-container-id-11 div.sk-container {/* jupyter's `normalize.less` sets `[hidden] { display: none; }` but bootstrap.min.css set `[hidden] { display: none !important; }` so we also need the `!important` here to be able to override the default hidden behavior on the sphinx rendered scikit-learn.org. See: https://github.com/scikit-learn/scikit-learn/issues/21755 */display: inline-block !important;position: relative;}#sk-container-id-11 div.sk-text-repr-fallback {display: none;}</style><div id=\"sk-container-id-11\" class=\"sk-top-container\"><div class=\"sk-text-repr-fallback\"><pre>SVC()</pre><b>In a Jupyter environment, please rerun this cell to show the HTML representation or trust the notebook. <br />On GitHub, the HTML representation is unable to render, please try loading this page with nbviewer.org.</b></div><div class=\"sk-container\" hidden><div class=\"sk-item\"><div class=\"sk-estimator sk-toggleable\"><input class=\"sk-toggleable__control sk-hidden--visually\" id=\"sk-estimator-id-11\" type=\"checkbox\" checked><label for=\"sk-estimator-id-11\" class=\"sk-toggleable__label sk-toggleable__label-arrow\">SVC</label><div class=\"sk-toggleable__content\"><pre>SVC()</pre></div></div></div></div></div>"
     },
     "execution_count": 187,
     "metadata": {},
     "output_type": "execute_result"
    }
   ],
   "source": [
    "sv = svm.SVC()\n",
    "sv.fit(X_train, y_train)"
   ],
   "metadata": {
    "collapsed": false,
    "ExecuteTime": {
     "end_time": "2024-04-13T23:43:34.594096Z",
     "start_time": "2024-04-13T23:43:27.983998Z"
    }
   }
  },
  {
   "cell_type": "code",
   "execution_count": 189,
   "outputs": [
    {
     "data": {
      "text/plain": "0.6275092713292413"
     },
     "execution_count": 189,
     "metadata": {},
     "output_type": "execute_result"
    }
   ],
   "source": [
    "from sklearn.metrics import accuracy_score, f1_score\n",
    "y_pred = sv.predict(X_test)\n",
    "ac = accuracy_score(y_test, y_pred)\n",
    "def final_score(y_test, y_pred):\n",
    "    f1 = f1_score(y_test, y_pred, average='weighted')\n",
    "    accuracy = accuracy_score(y_test, y_pred)\n",
    "    return (f1 + accuracy) / 2\n",
    "final_score(y_test, y_pred)"
   ],
   "metadata": {
    "collapsed": false,
    "ExecuteTime": {
     "end_time": "2024-04-14T00:03:29.028435Z",
     "start_time": "2024-04-14T00:03:26.959663Z"
    }
   }
  },
  {
   "cell_type": "code",
   "execution_count": 190,
   "outputs": [
    {
     "data": {
      "text/plain": "['svс_model_weights.pkl']"
     },
     "execution_count": 190,
     "metadata": {},
     "output_type": "execute_result"
    }
   ],
   "source": [
    "import joblib\n",
    "joblib.dump(sv, 'svс_model_weights.pkl')"
   ],
   "metadata": {
    "collapsed": false,
    "ExecuteTime": {
     "end_time": "2024-04-14T00:03:41.232243Z",
     "start_time": "2024-04-14T00:03:41.190876Z"
    }
   }
  },
  {
   "cell_type": "code",
   "execution_count": 169,
   "outputs": [
    {
     "data": {
      "text/plain": "'??#LSRG  ЛСР - операционные результаты (2019г) *продажи = -9% до 84 млрд руб *объем = -18% до 817 тыс. кв. м *средняя цена реализации =+15% до 112 тыс руб /кв м *введение в эксплуатацию чистой продаваемой площади = -17% до 834 тыс кв м'"
     },
     "execution_count": 169,
     "metadata": {},
     "output_type": "execute_result"
    }
   ],
   "source": [
    "test_text = news_train.iloc[1].MessageText\n",
    "test_text"
   ],
   "metadata": {
    "collapsed": false,
    "ExecuteTime": {
     "end_time": "2024-04-13T23:19:21.192023Z",
     "start_time": "2024-04-13T23:19:21.162821Z"
    }
   }
  },
  {
   "cell_type": "code",
   "execution_count": 49,
   "outputs": [
    {
     "name": "stderr",
     "output_type": "stream",
     "text": [
      "[nltk_data] Downloading package punkt to\n",
      "[nltk_data]     /Users/danielbelikov/nltk_data...\n",
      "[nltk_data]   Package punkt is already up-to-date!\n"
     ]
    }
   ],
   "source": [
    "#def return_companies_by_sentence(text)\n",
    "import nltk\n",
    "nltk.download('punkt')\n",
    "\n",
    "# Splitting Text into Sentences\n",
    "def split_text_into_sentences(test_text):\n",
    "    test_text = ' '.join([w.lower() for w in test_text.split()])\n",
    "    sentences = nltk.sent_tokenize(test_text)\n",
    "    return sentences\n"
   ],
   "metadata": {
    "collapsed": false,
    "ExecuteTime": {
     "end_time": "2024-04-13T20:53:26.578286Z",
     "start_time": "2024-04-13T20:53:26.515818Z"
    }
   }
  },
  {
   "cell_type": "code",
   "execution_count": 17,
   "outputs": [
    {
     "data": {
      "text/plain": "      MessageID   ChannelID  issuerid  SentimentScore           DateAdded  \\\n0        241407  1203560567       153               2 2023-05-12 19:03:20   \n1         33684  1136626166       230               4 2023-02-03 20:56:29   \n2         10090  1063908560       118               4 2023-06-02 19:18:37   \n3         10090  1063908560       220               5 2023-06-02 19:18:37   \n4          9826  1063908560        89               2 2023-04-24 17:51:38   \n...         ...         ...       ...             ...                 ...   \n9284      47482  1197210433       157               4 2023-03-20 14:53:14   \n9285     233829  1203560567       157               4 2023-03-20 14:58:04   \n9286       9789  1063908560       225               3 2023-04-19 17:51:56   \n9287     233867  1203560567       127               3 2023-03-20 14:58:04   \n9288      14315  1075101206       112               5 2023-02-07 14:56:26   \n\n              DatePosted                                        MessageText  \\\n0    2023-05-12 19:02:42  ⚠️🇷🇺#SELG #дивиденд  сд Селигдар: дивиденды 20...   \n1    2023-02-03 16:46:34  Ozon продолжает развивать специализированные ф...   \n2    2023-06-02 18:50:00  ​Фокусы продолжаются🔥Акции и инвестиции  📈ВТБ ...   \n3    2023-06-02 18:50:00  ​Фокусы продолжаются🔥Акции и инвестиции  📈ВТБ ...   \n4    2023-04-24 13:54:00  ​​Windfall Tax — налог на сверхприбыль. Какие ...   \n...                  ...                                                ...   \n9284 2023-03-20 12:15:21  #FLOT #Дивиденды 💰 7% — возможная дивдоходност...   \n9285 2023-03-20 12:05:49  🇷🇺#FLOT #отчетность  ЧИСТАЯ ПРИБЫЛЬ СОВКОМФЛОТ...   \n9286 2023-04-19 15:32:00  ​​Ключевой принцип создания портфеля  🔹Диверси...   \n9287 2023-03-20 14:33:32  \"💥🇷🇺#PLZL #листинг #торги  \"\"Полюс\"\" ведет диа...   \n9288 2023-02-07 14:28:09  Роснефть (ROSN) справедливая цена 425.17 рубля...   \n\n      IsForward  \n0         False  \n1         False  \n2         False  \n3         False  \n4         False  \n...         ...  \n9284      False  \n9285      False  \n9286      False  \n9287      False  \n9288      False  \n\n[9289 rows x 8 columns]",
      "text/html": "<div>\n<style scoped>\n    .dataframe tbody tr th:only-of-type {\n        vertical-align: middle;\n    }\n\n    .dataframe tbody tr th {\n        vertical-align: top;\n    }\n\n    .dataframe thead th {\n        text-align: right;\n    }\n</style>\n<table border=\"1\" class=\"dataframe\">\n  <thead>\n    <tr style=\"text-align: right;\">\n      <th></th>\n      <th>MessageID</th>\n      <th>ChannelID</th>\n      <th>issuerid</th>\n      <th>SentimentScore</th>\n      <th>DateAdded</th>\n      <th>DatePosted</th>\n      <th>MessageText</th>\n      <th>IsForward</th>\n    </tr>\n  </thead>\n  <tbody>\n    <tr>\n      <th>0</th>\n      <td>241407</td>\n      <td>1203560567</td>\n      <td>153</td>\n      <td>2</td>\n      <td>2023-05-12 19:03:20</td>\n      <td>2023-05-12 19:02:42</td>\n      <td>⚠️🇷🇺#SELG #дивиденд  сд Селигдар: дивиденды 20...</td>\n      <td>False</td>\n    </tr>\n    <tr>\n      <th>1</th>\n      <td>33684</td>\n      <td>1136626166</td>\n      <td>230</td>\n      <td>4</td>\n      <td>2023-02-03 20:56:29</td>\n      <td>2023-02-03 16:46:34</td>\n      <td>Ozon продолжает развивать специализированные ф...</td>\n      <td>False</td>\n    </tr>\n    <tr>\n      <th>2</th>\n      <td>10090</td>\n      <td>1063908560</td>\n      <td>118</td>\n      <td>4</td>\n      <td>2023-06-02 19:18:37</td>\n      <td>2023-06-02 18:50:00</td>\n      <td>​Фокусы продолжаются🔥Акции и инвестиции  📈ВТБ ...</td>\n      <td>False</td>\n    </tr>\n    <tr>\n      <th>3</th>\n      <td>10090</td>\n      <td>1063908560</td>\n      <td>220</td>\n      <td>5</td>\n      <td>2023-06-02 19:18:37</td>\n      <td>2023-06-02 18:50:00</td>\n      <td>​Фокусы продолжаются🔥Акции и инвестиции  📈ВТБ ...</td>\n      <td>False</td>\n    </tr>\n    <tr>\n      <th>4</th>\n      <td>9826</td>\n      <td>1063908560</td>\n      <td>89</td>\n      <td>2</td>\n      <td>2023-04-24 17:51:38</td>\n      <td>2023-04-24 13:54:00</td>\n      <td>​​Windfall Tax — налог на сверхприбыль. Какие ...</td>\n      <td>False</td>\n    </tr>\n    <tr>\n      <th>...</th>\n      <td>...</td>\n      <td>...</td>\n      <td>...</td>\n      <td>...</td>\n      <td>...</td>\n      <td>...</td>\n      <td>...</td>\n      <td>...</td>\n    </tr>\n    <tr>\n      <th>9284</th>\n      <td>47482</td>\n      <td>1197210433</td>\n      <td>157</td>\n      <td>4</td>\n      <td>2023-03-20 14:53:14</td>\n      <td>2023-03-20 12:15:21</td>\n      <td>#FLOT #Дивиденды 💰 7% — возможная дивдоходност...</td>\n      <td>False</td>\n    </tr>\n    <tr>\n      <th>9285</th>\n      <td>233829</td>\n      <td>1203560567</td>\n      <td>157</td>\n      <td>4</td>\n      <td>2023-03-20 14:58:04</td>\n      <td>2023-03-20 12:05:49</td>\n      <td>🇷🇺#FLOT #отчетность  ЧИСТАЯ ПРИБЫЛЬ СОВКОМФЛОТ...</td>\n      <td>False</td>\n    </tr>\n    <tr>\n      <th>9286</th>\n      <td>9789</td>\n      <td>1063908560</td>\n      <td>225</td>\n      <td>3</td>\n      <td>2023-04-19 17:51:56</td>\n      <td>2023-04-19 15:32:00</td>\n      <td>​​Ключевой принцип создания портфеля  🔹Диверси...</td>\n      <td>False</td>\n    </tr>\n    <tr>\n      <th>9287</th>\n      <td>233867</td>\n      <td>1203560567</td>\n      <td>127</td>\n      <td>3</td>\n      <td>2023-03-20 14:58:04</td>\n      <td>2023-03-20 14:33:32</td>\n      <td>\"💥🇷🇺#PLZL #листинг #торги  \"\"Полюс\"\" ведет диа...</td>\n      <td>False</td>\n    </tr>\n    <tr>\n      <th>9288</th>\n      <td>14315</td>\n      <td>1075101206</td>\n      <td>112</td>\n      <td>5</td>\n      <td>2023-02-07 14:56:26</td>\n      <td>2023-02-07 14:28:09</td>\n      <td>Роснефть (ROSN) справедливая цена 425.17 рубля...</td>\n      <td>False</td>\n    </tr>\n  </tbody>\n</table>\n<p>9289 rows × 8 columns</p>\n</div>"
     },
     "execution_count": 17,
     "metadata": {},
     "output_type": "execute_result"
    }
   ],
   "source": [
    "sentiment_train"
   ],
   "metadata": {
    "collapsed": false,
    "ExecuteTime": {
     "end_time": "2024-04-13T19:51:48.462534Z",
     "start_time": "2024-04-13T19:51:48.439828Z"
    }
   }
  },
  {
   "cell_type": "code",
   "execution_count": 24,
   "outputs": [
    {
     "data": {
      "text/plain": "'⚠️🇷🇺#SELG #дивиденд  сд Селигдар: дивиденды 2022г не выплачивать'"
     },
     "execution_count": 24,
     "metadata": {},
     "output_type": "execute_result"
    }
   ],
   "source": [
    "test = sentiment_train.iloc[0].MessageText\n",
    "\n",
    "test"
   ],
   "metadata": {
    "collapsed": false,
    "ExecuteTime": {
     "end_time": "2024-04-13T20:02:20.654244Z",
     "start_time": "2024-04-13T20:02:20.621840Z"
    }
   }
  },
  {
   "cell_type": "code",
   "execution_count": 73,
   "outputs": [
    {
     "name": "stdout",
     "output_type": "stream",
     "text": [
      "тестов темк упа крыш\n"
     ]
    },
    {
     "name": "stderr",
     "output_type": "stream",
     "text": [
      "[nltk_data] Downloading package wordnet to\n",
      "[nltk_data]     /Users/danielbelikov/nltk_data...\n",
      "[nltk_data]   Package wordnet is already up-to-date!\n"
     ]
    }
   ],
   "source": [],
   "metadata": {
    "collapsed": false,
    "ExecuteTime": {
     "end_time": "2024-04-13T21:16:10.636618Z",
     "start_time": "2024-04-13T21:16:10.620002Z"
    }
   }
  },
  {
   "cell_type": "code",
   "execution_count": 173,
   "outputs": [
    {
     "data": {
      "text/plain": "9126"
     },
     "execution_count": 173,
     "metadata": {},
     "output_type": "execute_result"
    }
   ],
   "source": [
    "from sklearn.model_selection import train_test_split\n",
    "from sklearn.feature_extraction.text import TfidfVectorizer\n",
    "X = sentiment_train[sentiment_train['SentimentScore'] > 0].MessageText\n",
    "y = filtered_rows = sentiment_train[sentiment_train['SentimentScore'] > 0].SentimentScore\n",
    "\n",
    "X_good = [prepocess_text(x) for x in X]\n",
    "\n",
    "len(X)"
   ],
   "metadata": {
    "collapsed": false,
    "ExecuteTime": {
     "end_time": "2024-04-13T23:24:19.432944Z",
     "start_time": "2024-04-13T23:23:21.081803Z"
    }
   }
  },
  {
   "cell_type": "code",
   "execution_count": 174,
   "outputs": [
    {
     "data": {
      "text/plain": "(9126, 1000)"
     },
     "execution_count": 174,
     "metadata": {},
     "output_type": "execute_result"
    }
   ],
   "source": [
    "vectorizer = TfidfVectorizer(ngram_range=(1,1), max_features=1000) #max_features 10000 \n",
    "vectors = vectorizer.fit_transform(X_good)\n",
    "vectors.shape"
   ],
   "metadata": {
    "collapsed": false,
    "ExecuteTime": {
     "end_time": "2024-04-13T23:24:50.486830Z",
     "start_time": "2024-04-13T23:24:48.218915Z"
    }
   }
  },
  {
   "cell_type": "code",
   "execution_count": 175,
   "outputs": [],
   "source": [
    "dense_vectors = vectors.todense()"
   ],
   "metadata": {
    "collapsed": false,
    "ExecuteTime": {
     "end_time": "2024-04-13T23:24:52.628479Z",
     "start_time": "2024-04-13T23:24:52.585097Z"
    }
   }
  },
  {
   "cell_type": "code",
   "execution_count": 176,
   "outputs": [],
   "source": [
    "from sklearn import svm\n",
    "from sklearn.metrics import accuracy_score\n",
    "X_train, X_test, y_train, y_test = train_test_split(dense_vectors, y, test_size=0.2, random_state=69)"
   ],
   "metadata": {
    "collapsed": false,
    "ExecuteTime": {
     "end_time": "2024-04-13T23:25:06.408716Z",
     "start_time": "2024-04-13T23:25:06.282080Z"
    }
   }
  },
  {
   "cell_type": "code",
   "execution_count": 177,
   "outputs": [],
   "source": [
    "X_train = np.asarray(X_train)\n",
    "y_train = np.asarray(y_train)\n",
    "X_test = np.asarray(X_test)\n",
    "y_test = np.asarray(y_test)"
   ],
   "metadata": {
    "collapsed": false,
    "ExecuteTime": {
     "end_time": "2024-04-13T23:25:07.506534Z",
     "start_time": "2024-04-13T23:25:07.440831Z"
    }
   }
  },
  {
   "cell_type": "code",
   "execution_count": 178,
   "outputs": [
    {
     "data": {
      "text/plain": "SVC()",
      "text/html": "<style>#sk-container-id-9 {color: black;}#sk-container-id-9 pre{padding: 0;}#sk-container-id-9 div.sk-toggleable {background-color: white;}#sk-container-id-9 label.sk-toggleable__label {cursor: pointer;display: block;width: 100%;margin-bottom: 0;padding: 0.3em;box-sizing: border-box;text-align: center;}#sk-container-id-9 label.sk-toggleable__label-arrow:before {content: \"▸\";float: left;margin-right: 0.25em;color: #696969;}#sk-container-id-9 label.sk-toggleable__label-arrow:hover:before {color: black;}#sk-container-id-9 div.sk-estimator:hover label.sk-toggleable__label-arrow:before {color: black;}#sk-container-id-9 div.sk-toggleable__content {max-height: 0;max-width: 0;overflow: hidden;text-align: left;background-color: #f0f8ff;}#sk-container-id-9 div.sk-toggleable__content pre {margin: 0.2em;color: black;border-radius: 0.25em;background-color: #f0f8ff;}#sk-container-id-9 input.sk-toggleable__control:checked~div.sk-toggleable__content {max-height: 200px;max-width: 100%;overflow: auto;}#sk-container-id-9 input.sk-toggleable__control:checked~label.sk-toggleable__label-arrow:before {content: \"▾\";}#sk-container-id-9 div.sk-estimator input.sk-toggleable__control:checked~label.sk-toggleable__label {background-color: #d4ebff;}#sk-container-id-9 div.sk-label input.sk-toggleable__control:checked~label.sk-toggleable__label {background-color: #d4ebff;}#sk-container-id-9 input.sk-hidden--visually {border: 0;clip: rect(1px 1px 1px 1px);clip: rect(1px, 1px, 1px, 1px);height: 1px;margin: -1px;overflow: hidden;padding: 0;position: absolute;width: 1px;}#sk-container-id-9 div.sk-estimator {font-family: monospace;background-color: #f0f8ff;border: 1px dotted black;border-radius: 0.25em;box-sizing: border-box;margin-bottom: 0.5em;}#sk-container-id-9 div.sk-estimator:hover {background-color: #d4ebff;}#sk-container-id-9 div.sk-parallel-item::after {content: \"\";width: 100%;border-bottom: 1px solid gray;flex-grow: 1;}#sk-container-id-9 div.sk-label:hover label.sk-toggleable__label {background-color: #d4ebff;}#sk-container-id-9 div.sk-serial::before {content: \"\";position: absolute;border-left: 1px solid gray;box-sizing: border-box;top: 0;bottom: 0;left: 50%;z-index: 0;}#sk-container-id-9 div.sk-serial {display: flex;flex-direction: column;align-items: center;background-color: white;padding-right: 0.2em;padding-left: 0.2em;position: relative;}#sk-container-id-9 div.sk-item {position: relative;z-index: 1;}#sk-container-id-9 div.sk-parallel {display: flex;align-items: stretch;justify-content: center;background-color: white;position: relative;}#sk-container-id-9 div.sk-item::before, #sk-container-id-9 div.sk-parallel-item::before {content: \"\";position: absolute;border-left: 1px solid gray;box-sizing: border-box;top: 0;bottom: 0;left: 50%;z-index: -1;}#sk-container-id-9 div.sk-parallel-item {display: flex;flex-direction: column;z-index: 1;position: relative;background-color: white;}#sk-container-id-9 div.sk-parallel-item:first-child::after {align-self: flex-end;width: 50%;}#sk-container-id-9 div.sk-parallel-item:last-child::after {align-self: flex-start;width: 50%;}#sk-container-id-9 div.sk-parallel-item:only-child::after {width: 0;}#sk-container-id-9 div.sk-dashed-wrapped {border: 1px dashed gray;margin: 0 0.4em 0.5em 0.4em;box-sizing: border-box;padding-bottom: 0.4em;background-color: white;}#sk-container-id-9 div.sk-label label {font-family: monospace;font-weight: bold;display: inline-block;line-height: 1.2em;}#sk-container-id-9 div.sk-label-container {text-align: center;}#sk-container-id-9 div.sk-container {/* jupyter's `normalize.less` sets `[hidden] { display: none; }` but bootstrap.min.css set `[hidden] { display: none !important; }` so we also need the `!important` here to be able to override the default hidden behavior on the sphinx rendered scikit-learn.org. See: https://github.com/scikit-learn/scikit-learn/issues/21755 */display: inline-block !important;position: relative;}#sk-container-id-9 div.sk-text-repr-fallback {display: none;}</style><div id=\"sk-container-id-9\" class=\"sk-top-container\"><div class=\"sk-text-repr-fallback\"><pre>SVC()</pre><b>In a Jupyter environment, please rerun this cell to show the HTML representation or trust the notebook. <br />On GitHub, the HTML representation is unable to render, please try loading this page with nbviewer.org.</b></div><div class=\"sk-container\" hidden><div class=\"sk-item\"><div class=\"sk-estimator sk-toggleable\"><input class=\"sk-toggleable__control sk-hidden--visually\" id=\"sk-estimator-id-9\" type=\"checkbox\" checked><label for=\"sk-estimator-id-9\" class=\"sk-toggleable__label sk-toggleable__label-arrow\">SVC</label><div class=\"sk-toggleable__content\"><pre>SVC()</pre></div></div></div></div></div>"
     },
     "execution_count": 178,
     "metadata": {},
     "output_type": "execute_result"
    }
   ],
   "source": [
    "sv = svm.SVC()\n",
    "sv.fit(X_train, y_train)"
   ],
   "metadata": {
    "collapsed": false,
    "ExecuteTime": {
     "end_time": "2024-04-13T23:25:39.207189Z",
     "start_time": "2024-04-13T23:25:08.757799Z"
    }
   }
  },
  {
   "cell_type": "code",
   "execution_count": 179,
   "outputs": [
    {
     "data": {
      "text/plain": "0.653893253235775"
     },
     "execution_count": 179,
     "metadata": {},
     "output_type": "execute_result"
    }
   ],
   "source": [
    "from sklearn.metrics import accuracy_score, f1_score\n",
    "y_pred = sv.predict(X_test)\n",
    "ac = accuracy_score(y_test, y_pred)\n",
    "def final_score(y_test, y_pred):\n",
    "    f1 = f1_score(y_test, y_pred, average='weighted')\n",
    "    accuracy = accuracy_score(y_test, y_pred)\n",
    "    return (f1 + accuracy) / 2\n",
    "final_score(y_test, y_pred)"
   ],
   "metadata": {
    "collapsed": false,
    "ExecuteTime": {
     "end_time": "2024-04-13T23:25:50.370180Z",
     "start_time": "2024-04-13T23:25:42.439903Z"
    }
   }
  },
  {
   "cell_type": "code",
   "execution_count": 160,
   "outputs": [
    {
     "name": "stderr",
     "output_type": "stream",
     "text": [
      "/opt/anaconda3/lib/python3.8/site-packages/sklearn/linear_model/_logistic.py:460: ConvergenceWarning: lbfgs failed to converge (status=1):\n",
      "STOP: TOTAL NO. of ITERATIONS REACHED LIMIT.\n",
      "\n",
      "Increase the number of iterations (max_iter) or scale the data as shown in:\n",
      "    https://scikit-learn.org/stable/modules/preprocessing.html\n",
      "Please also refer to the documentation for alternative solver options:\n",
      "    https://scikit-learn.org/stable/modules/linear_model.html#logistic-regression\n",
      "  n_iter_i = _check_optimize_result(\n"
     ]
    }
   ],
   "source": [
    "from sklearn.linear_model import LogisticRegression\n",
    "model = LogisticRegression()\n",
    "model.fit(X_train, y_train)\n",
    "y_pred = model.predict(X_test)"
   ],
   "metadata": {
    "collapsed": false,
    "ExecuteTime": {
     "end_time": "2024-04-13T22:46:03.993055Z",
     "start_time": "2024-04-13T22:46:02.400415Z"
    }
   }
  },
  {
   "cell_type": "code",
   "execution_count": 161,
   "outputs": [
    {
     "data": {
      "text/plain": "0.604217649095943"
     },
     "execution_count": 161,
     "metadata": {},
     "output_type": "execute_result"
    }
   ],
   "source": [
    "final_score(y_test, y_pred)"
   ],
   "metadata": {
    "collapsed": false,
    "ExecuteTime": {
     "end_time": "2024-04-13T22:46:06.298105Z",
     "start_time": "2024-04-13T22:46:06.285839Z"
    }
   }
  },
  {
   "cell_type": "code",
   "execution_count": 92,
   "outputs": [],
   "source": [
    "y_pred = sv.predict(X_test)\n",
    "ac = accuracy_score(y_test, y_pred)"
   ],
   "metadata": {
    "collapsed": false,
    "ExecuteTime": {
     "end_time": "2024-04-13T21:28:50.772494Z",
     "start_time": "2024-04-13T21:28:47.953574Z"
    }
   }
  },
  {
   "cell_type": "code",
   "execution_count": 99,
   "outputs": [],
   "source": [
    "from sklearn.metrics import accuracy_score, f1_score\n",
    "\n",
    "def final_score(y_test, y_pred):\n",
    "    f1 = f1_score(y_test, y_pred, average='weighted')\n",
    "    accuracy = accuracy_score(y_test, y_pred)\n",
    "    return (f1 + accuracy) / 2"
   ],
   "metadata": {
    "collapsed": false,
    "ExecuteTime": {
     "end_time": "2024-04-13T21:47:39.149538Z",
     "start_time": "2024-04-13T21:47:39.146225Z"
    }
   }
  },
  {
   "cell_type": "code",
   "execution_count": 101,
   "outputs": [
    {
     "name": "stdout",
     "output_type": "stream",
     "text": [
      "0.6421193070682276\n"
     ]
    }
   ],
   "source": [
    "print(final_score(y_test, y_pred))"
   ],
   "metadata": {
    "collapsed": false,
    "ExecuteTime": {
     "end_time": "2024-04-13T21:48:02.950882Z",
     "start_time": "2024-04-13T21:48:02.929516Z"
    }
   }
  },
  {
   "cell_type": "code",
   "execution_count": 105,
   "outputs": [
    {
     "data": {
      "text/plain": "      MessageID   ChannelID  issuerid  SentimentScore           DateAdded  \\\n0        241407  1203560567       153               2 2023-05-12 19:03:20   \n1         33684  1136626166       230               4 2023-02-03 20:56:29   \n2         10090  1063908560       118               4 2023-06-02 19:18:37   \n3         10090  1063908560       220               5 2023-06-02 19:18:37   \n4          9826  1063908560        89               2 2023-04-24 17:51:38   \n...         ...         ...       ...             ...                 ...   \n9284      47482  1197210433       157               4 2023-03-20 14:53:14   \n9285     233829  1203560567       157               4 2023-03-20 14:58:04   \n9286       9789  1063908560       225               3 2023-04-19 17:51:56   \n9287     233867  1203560567       127               3 2023-03-20 14:58:04   \n9288      14315  1075101206       112               5 2023-02-07 14:56:26   \n\n              DatePosted                                        MessageText  \\\n0    2023-05-12 19:02:42  :warning::Russia:#SELG #дивиденд  сд Селигдар:...   \n1    2023-02-03 16:46:34  Ozon продолжает развивать специализированные ф...   \n2    2023-06-02 18:50:00  ​Фокусы продолжаются:fire:Акции и инвестиции  ...   \n3    2023-06-02 18:50:00  ​Фокусы продолжаются:fire:Акции и инвестиции  ...   \n4    2023-04-24 13:54:00  ​​Windfall Tax — налог на сверхприбыль. Какие ...   \n...                  ...                                                ...   \n9284 2023-03-20 12:15:21  #FLOT #Дивиденды :money_bag: 7% — возможная ди...   \n9285 2023-03-20 12:05:49  :Russia:#FLOT #отчетность  ЧИСТАЯ ПРИБЫЛЬ СОВК...   \n9286 2023-04-19 15:32:00  ​​Ключевой принцип создания портфеля  :small_b...   \n9287 2023-03-20 14:33:32  \":collision::Russia:#PLZL #листинг #торги  \"\"П...   \n9288 2023-02-07 14:28:09  Роснефть (ROSN) справедливая цена 425.17 рубля...   \n\n      IsForward  \n0         False  \n1         False  \n2         False  \n3         False  \n4         False  \n...         ...  \n9284      False  \n9285      False  \n9286      False  \n9287      False  \n9288      False  \n\n[9289 rows x 8 columns]",
      "text/html": "<div>\n<style scoped>\n    .dataframe tbody tr th:only-of-type {\n        vertical-align: middle;\n    }\n\n    .dataframe tbody tr th {\n        vertical-align: top;\n    }\n\n    .dataframe thead th {\n        text-align: right;\n    }\n</style>\n<table border=\"1\" class=\"dataframe\">\n  <thead>\n    <tr style=\"text-align: right;\">\n      <th></th>\n      <th>MessageID</th>\n      <th>ChannelID</th>\n      <th>issuerid</th>\n      <th>SentimentScore</th>\n      <th>DateAdded</th>\n      <th>DatePosted</th>\n      <th>MessageText</th>\n      <th>IsForward</th>\n    </tr>\n  </thead>\n  <tbody>\n    <tr>\n      <th>0</th>\n      <td>241407</td>\n      <td>1203560567</td>\n      <td>153</td>\n      <td>2</td>\n      <td>2023-05-12 19:03:20</td>\n      <td>2023-05-12 19:02:42</td>\n      <td>:warning::Russia:#SELG #дивиденд  сд Селигдар:...</td>\n      <td>False</td>\n    </tr>\n    <tr>\n      <th>1</th>\n      <td>33684</td>\n      <td>1136626166</td>\n      <td>230</td>\n      <td>4</td>\n      <td>2023-02-03 20:56:29</td>\n      <td>2023-02-03 16:46:34</td>\n      <td>Ozon продолжает развивать специализированные ф...</td>\n      <td>False</td>\n    </tr>\n    <tr>\n      <th>2</th>\n      <td>10090</td>\n      <td>1063908560</td>\n      <td>118</td>\n      <td>4</td>\n      <td>2023-06-02 19:18:37</td>\n      <td>2023-06-02 18:50:00</td>\n      <td>​Фокусы продолжаются:fire:Акции и инвестиции  ...</td>\n      <td>False</td>\n    </tr>\n    <tr>\n      <th>3</th>\n      <td>10090</td>\n      <td>1063908560</td>\n      <td>220</td>\n      <td>5</td>\n      <td>2023-06-02 19:18:37</td>\n      <td>2023-06-02 18:50:00</td>\n      <td>​Фокусы продолжаются:fire:Акции и инвестиции  ...</td>\n      <td>False</td>\n    </tr>\n    <tr>\n      <th>4</th>\n      <td>9826</td>\n      <td>1063908560</td>\n      <td>89</td>\n      <td>2</td>\n      <td>2023-04-24 17:51:38</td>\n      <td>2023-04-24 13:54:00</td>\n      <td>​​Windfall Tax — налог на сверхприбыль. Какие ...</td>\n      <td>False</td>\n    </tr>\n    <tr>\n      <th>...</th>\n      <td>...</td>\n      <td>...</td>\n      <td>...</td>\n      <td>...</td>\n      <td>...</td>\n      <td>...</td>\n      <td>...</td>\n      <td>...</td>\n    </tr>\n    <tr>\n      <th>9284</th>\n      <td>47482</td>\n      <td>1197210433</td>\n      <td>157</td>\n      <td>4</td>\n      <td>2023-03-20 14:53:14</td>\n      <td>2023-03-20 12:15:21</td>\n      <td>#FLOT #Дивиденды :money_bag: 7% — возможная ди...</td>\n      <td>False</td>\n    </tr>\n    <tr>\n      <th>9285</th>\n      <td>233829</td>\n      <td>1203560567</td>\n      <td>157</td>\n      <td>4</td>\n      <td>2023-03-20 14:58:04</td>\n      <td>2023-03-20 12:05:49</td>\n      <td>:Russia:#FLOT #отчетность  ЧИСТАЯ ПРИБЫЛЬ СОВК...</td>\n      <td>False</td>\n    </tr>\n    <tr>\n      <th>9286</th>\n      <td>9789</td>\n      <td>1063908560</td>\n      <td>225</td>\n      <td>3</td>\n      <td>2023-04-19 17:51:56</td>\n      <td>2023-04-19 15:32:00</td>\n      <td>​​Ключевой принцип создания портфеля  :small_b...</td>\n      <td>False</td>\n    </tr>\n    <tr>\n      <th>9287</th>\n      <td>233867</td>\n      <td>1203560567</td>\n      <td>127</td>\n      <td>3</td>\n      <td>2023-03-20 14:58:04</td>\n      <td>2023-03-20 14:33:32</td>\n      <td>\":collision::Russia:#PLZL #листинг #торги  \"\"П...</td>\n      <td>False</td>\n    </tr>\n    <tr>\n      <th>9288</th>\n      <td>14315</td>\n      <td>1075101206</td>\n      <td>112</td>\n      <td>5</td>\n      <td>2023-02-07 14:56:26</td>\n      <td>2023-02-07 14:28:09</td>\n      <td>Роснефть (ROSN) справедливая цена 425.17 рубля...</td>\n      <td>False</td>\n    </tr>\n  </tbody>\n</table>\n<p>9289 rows × 8 columns</p>\n</div>"
     },
     "execution_count": 105,
     "metadata": {},
     "output_type": "execute_result"
    }
   ],
   "source": [
    "with open('data/sentiment_texts_demoji.pickle',  'rb') as f:\n",
    "    emoji = pickle.load(f)\n",
    "    \n",
    "emoji"
   ],
   "metadata": {
    "collapsed": false,
    "ExecuteTime": {
     "end_time": "2024-04-13T21:51:54.163158Z",
     "start_time": "2024-04-13T21:51:54.083851Z"
    }
   }
  },
  {
   "cell_type": "code",
   "execution_count": 106,
   "outputs": [],
   "source": [
    "from sklearn.model_selection import train_test_split\n",
    "from sklearn.feature_extraction.text import TfidfVectorizer\n",
    "X_e = emoji.MessageText\n",
    "y_e = emoji.SentimentScore\n",
    "\n",
    "X_good_e = [prepocess_text(x) for x in X_e]"
   ],
   "metadata": {
    "collapsed": false,
    "ExecuteTime": {
     "end_time": "2024-04-13T21:53:06.873082Z",
     "start_time": "2024-04-13T21:52:29.859551Z"
    }
   }
  },
  {
   "cell_type": "code",
   "execution_count": 107,
   "outputs": [
    {
     "data": {
      "text/plain": "(9289, 1000)"
     },
     "execution_count": 107,
     "metadata": {},
     "output_type": "execute_result"
    }
   ],
   "source": [
    "vectorizer = TfidfVectorizer(ngram_range=(1,2), max_features=1000) #max_features 10000 65\n",
    "vectors_e = vectorizer.fit_transform(X_good_e)\n",
    "vectors_e.shape"
   ],
   "metadata": {
    "collapsed": false,
    "ExecuteTime": {
     "end_time": "2024-04-13T21:53:19.470005Z",
     "start_time": "2024-04-13T21:53:17.506438Z"
    }
   }
  },
  {
   "cell_type": "code",
   "execution_count": 108,
   "outputs": [
    {
     "data": {
      "text/plain": "SVC()",
      "text/html": "<style>#sk-container-id-4 {color: black;}#sk-container-id-4 pre{padding: 0;}#sk-container-id-4 div.sk-toggleable {background-color: white;}#sk-container-id-4 label.sk-toggleable__label {cursor: pointer;display: block;width: 100%;margin-bottom: 0;padding: 0.3em;box-sizing: border-box;text-align: center;}#sk-container-id-4 label.sk-toggleable__label-arrow:before {content: \"▸\";float: left;margin-right: 0.25em;color: #696969;}#sk-container-id-4 label.sk-toggleable__label-arrow:hover:before {color: black;}#sk-container-id-4 div.sk-estimator:hover label.sk-toggleable__label-arrow:before {color: black;}#sk-container-id-4 div.sk-toggleable__content {max-height: 0;max-width: 0;overflow: hidden;text-align: left;background-color: #f0f8ff;}#sk-container-id-4 div.sk-toggleable__content pre {margin: 0.2em;color: black;border-radius: 0.25em;background-color: #f0f8ff;}#sk-container-id-4 input.sk-toggleable__control:checked~div.sk-toggleable__content {max-height: 200px;max-width: 100%;overflow: auto;}#sk-container-id-4 input.sk-toggleable__control:checked~label.sk-toggleable__label-arrow:before {content: \"▾\";}#sk-container-id-4 div.sk-estimator input.sk-toggleable__control:checked~label.sk-toggleable__label {background-color: #d4ebff;}#sk-container-id-4 div.sk-label input.sk-toggleable__control:checked~label.sk-toggleable__label {background-color: #d4ebff;}#sk-container-id-4 input.sk-hidden--visually {border: 0;clip: rect(1px 1px 1px 1px);clip: rect(1px, 1px, 1px, 1px);height: 1px;margin: -1px;overflow: hidden;padding: 0;position: absolute;width: 1px;}#sk-container-id-4 div.sk-estimator {font-family: monospace;background-color: #f0f8ff;border: 1px dotted black;border-radius: 0.25em;box-sizing: border-box;margin-bottom: 0.5em;}#sk-container-id-4 div.sk-estimator:hover {background-color: #d4ebff;}#sk-container-id-4 div.sk-parallel-item::after {content: \"\";width: 100%;border-bottom: 1px solid gray;flex-grow: 1;}#sk-container-id-4 div.sk-label:hover label.sk-toggleable__label {background-color: #d4ebff;}#sk-container-id-4 div.sk-serial::before {content: \"\";position: absolute;border-left: 1px solid gray;box-sizing: border-box;top: 0;bottom: 0;left: 50%;z-index: 0;}#sk-container-id-4 div.sk-serial {display: flex;flex-direction: column;align-items: center;background-color: white;padding-right: 0.2em;padding-left: 0.2em;position: relative;}#sk-container-id-4 div.sk-item {position: relative;z-index: 1;}#sk-container-id-4 div.sk-parallel {display: flex;align-items: stretch;justify-content: center;background-color: white;position: relative;}#sk-container-id-4 div.sk-item::before, #sk-container-id-4 div.sk-parallel-item::before {content: \"\";position: absolute;border-left: 1px solid gray;box-sizing: border-box;top: 0;bottom: 0;left: 50%;z-index: -1;}#sk-container-id-4 div.sk-parallel-item {display: flex;flex-direction: column;z-index: 1;position: relative;background-color: white;}#sk-container-id-4 div.sk-parallel-item:first-child::after {align-self: flex-end;width: 50%;}#sk-container-id-4 div.sk-parallel-item:last-child::after {align-self: flex-start;width: 50%;}#sk-container-id-4 div.sk-parallel-item:only-child::after {width: 0;}#sk-container-id-4 div.sk-dashed-wrapped {border: 1px dashed gray;margin: 0 0.4em 0.5em 0.4em;box-sizing: border-box;padding-bottom: 0.4em;background-color: white;}#sk-container-id-4 div.sk-label label {font-family: monospace;font-weight: bold;display: inline-block;line-height: 1.2em;}#sk-container-id-4 div.sk-label-container {text-align: center;}#sk-container-id-4 div.sk-container {/* jupyter's `normalize.less` sets `[hidden] { display: none; }` but bootstrap.min.css set `[hidden] { display: none !important; }` so we also need the `!important` here to be able to override the default hidden behavior on the sphinx rendered scikit-learn.org. See: https://github.com/scikit-learn/scikit-learn/issues/21755 */display: inline-block !important;position: relative;}#sk-container-id-4 div.sk-text-repr-fallback {display: none;}</style><div id=\"sk-container-id-4\" class=\"sk-top-container\"><div class=\"sk-text-repr-fallback\"><pre>SVC()</pre><b>In a Jupyter environment, please rerun this cell to show the HTML representation or trust the notebook. <br />On GitHub, the HTML representation is unable to render, please try loading this page with nbviewer.org.</b></div><div class=\"sk-container\" hidden><div class=\"sk-item\"><div class=\"sk-estimator sk-toggleable\"><input class=\"sk-toggleable__control sk-hidden--visually\" id=\"sk-estimator-id-4\" type=\"checkbox\" checked><label for=\"sk-estimator-id-4\" class=\"sk-toggleable__label sk-toggleable__label-arrow\">SVC</label><div class=\"sk-toggleable__content\"><pre>SVC()</pre></div></div></div></div></div>"
     },
     "execution_count": 108,
     "metadata": {},
     "output_type": "execute_result"
    }
   ],
   "source": [
    "from sklearn import svm\n",
    "from sklearn.metrics import accuracy_score\n",
    "X_train, X_test, y_train, y_test = train_test_split(vectors_e, y_e, test_size=0.2, random_state=69)\n",
    "sv = svm.SVC()\n",
    "sv.fit(X_train, y_train)"
   ],
   "metadata": {
    "collapsed": false,
    "ExecuteTime": {
     "end_time": "2024-04-13T21:53:49.189848Z",
     "start_time": "2024-04-13T21:53:33.271364Z"
    }
   }
  },
  {
   "cell_type": "code",
   "execution_count": 110,
   "outputs": [],
   "source": [
    "y_pred = sv.predict(X_test)\n",
    "ac = accuracy_score(y_test, y_pred)"
   ],
   "metadata": {
    "collapsed": false,
    "ExecuteTime": {
     "end_time": "2024-04-13T21:54:04.753310Z",
     "start_time": "2024-04-13T21:54:01.644977Z"
    }
   }
  },
  {
   "cell_type": "code",
   "execution_count": 111,
   "outputs": [
    {
     "data": {
      "text/plain": "0.6480086114101185"
     },
     "execution_count": 111,
     "metadata": {},
     "output_type": "execute_result"
    }
   ],
   "source": [
    "ac"
   ],
   "metadata": {
    "collapsed": false,
    "ExecuteTime": {
     "end_time": "2024-04-13T21:54:06.833672Z",
     "start_time": "2024-04-13T21:54:06.827716Z"
    }
   }
  },
  {
   "cell_type": "code",
   "execution_count": 112,
   "outputs": [],
   "source": [
    "from sklearn.metrics import accuracy_score, f1_score\n",
    "y_pred = sv.predict(X_test)\n",
    "ac = accuracy_score(y_test, y_pred)\n",
    "def final_score(y_test, y_pred):\n",
    "    f1 = f1_score(y_test, y_pred, average='weighted')\n",
    "    accuracy = accuracy_score(y_test, y_pred)\n",
    "    return (f1 + accuracy) / 2\n",
    "final_score(y_test, y_pred)"
   ],
   "metadata": {
    "collapsed": false,
    "ExecuteTime": {
     "end_time": "2024-04-13T21:54:08.064487Z",
     "start_time": "2024-04-13T21:54:08.026388Z"
    }
   }
  },
  {
   "cell_type": "code",
   "execution_count": 113,
   "outputs": [
    {
     "data": {
      "text/plain": "0.6379098064307729"
     },
     "execution_count": 113,
     "metadata": {},
     "output_type": "execute_result"
    }
   ],
   "source": [],
   "metadata": {
    "collapsed": false,
    "ExecuteTime": {
     "end_time": "2024-04-13T21:54:24.452117Z",
     "start_time": "2024-04-13T21:54:24.431692Z"
    }
   }
  },
  {
   "cell_type": "code",
   "execution_count": null,
   "outputs": [],
   "source": [],
   "metadata": {
    "collapsed": false
   }
  }
 ]
}
